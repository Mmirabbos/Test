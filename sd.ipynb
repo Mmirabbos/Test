{
 "cells": [
  {
   "cell_type": "code",
   "execution_count": 145,
   "metadata": {},
   "outputs": [],
   "source": [
    "import pandas as pd\n",
    "import plotly.express as px"
   ]
  },
  {
   "cell_type": "code",
   "execution_count": 146,
   "metadata": {},
   "outputs": [
    {
     "data": {
      "text/html": [
       "<div>\n",
       "<style scoped>\n",
       "    .dataframe tbody tr th:only-of-type {\n",
       "        vertical-align: middle;\n",
       "    }\n",
       "\n",
       "    .dataframe tbody tr th {\n",
       "        vertical-align: top;\n",
       "    }\n",
       "\n",
       "    .dataframe thead th {\n",
       "        text-align: right;\n",
       "    }\n",
       "</style>\n",
       "<table border=\"1\" class=\"dataframe\">\n",
       "  <thead>\n",
       "    <tr style=\"text-align: right;\">\n",
       "      <th></th>\n",
       "      <th>rank</th>\n",
       "      <th>channel_info</th>\n",
       "      <th>influence_score</th>\n",
       "      <th>posts</th>\n",
       "      <th>followers</th>\n",
       "      <th>avg_likes</th>\n",
       "      <th>60_day_eng_rate</th>\n",
       "      <th>new_post_avg_like</th>\n",
       "      <th>total_likes</th>\n",
       "      <th>country</th>\n",
       "    </tr>\n",
       "  </thead>\n",
       "  <tbody>\n",
       "    <tr>\n",
       "      <th>0</th>\n",
       "      <td>1</td>\n",
       "      <td>cristiano</td>\n",
       "      <td>92</td>\n",
       "      <td>3.3k</td>\n",
       "      <td>475.8m</td>\n",
       "      <td>8.7m</td>\n",
       "      <td>1.39%</td>\n",
       "      <td>6.5m</td>\n",
       "      <td>29.0b</td>\n",
       "      <td>Spain</td>\n",
       "    </tr>\n",
       "    <tr>\n",
       "      <th>1</th>\n",
       "      <td>2</td>\n",
       "      <td>kyliejenner</td>\n",
       "      <td>91</td>\n",
       "      <td>6.9k</td>\n",
       "      <td>366.2m</td>\n",
       "      <td>8.3m</td>\n",
       "      <td>1.62%</td>\n",
       "      <td>5.9m</td>\n",
       "      <td>57.4b</td>\n",
       "      <td>United States</td>\n",
       "    </tr>\n",
       "    <tr>\n",
       "      <th>2</th>\n",
       "      <td>3</td>\n",
       "      <td>leomessi</td>\n",
       "      <td>90</td>\n",
       "      <td>0.89k</td>\n",
       "      <td>357.3m</td>\n",
       "      <td>6.8m</td>\n",
       "      <td>1.24%</td>\n",
       "      <td>4.4m</td>\n",
       "      <td>6.0b</td>\n",
       "      <td>NaN</td>\n",
       "    </tr>\n",
       "    <tr>\n",
       "      <th>3</th>\n",
       "      <td>4</td>\n",
       "      <td>selenagomez</td>\n",
       "      <td>93</td>\n",
       "      <td>1.8k</td>\n",
       "      <td>342.7m</td>\n",
       "      <td>6.2m</td>\n",
       "      <td>0.97%</td>\n",
       "      <td>3.3m</td>\n",
       "      <td>11.5b</td>\n",
       "      <td>United States</td>\n",
       "    </tr>\n",
       "    <tr>\n",
       "      <th>4</th>\n",
       "      <td>5</td>\n",
       "      <td>therock</td>\n",
       "      <td>91</td>\n",
       "      <td>6.8k</td>\n",
       "      <td>334.1m</td>\n",
       "      <td>1.9m</td>\n",
       "      <td>0.20%</td>\n",
       "      <td>665.3k</td>\n",
       "      <td>12.5b</td>\n",
       "      <td>United States</td>\n",
       "    </tr>\n",
       "    <tr>\n",
       "      <th>...</th>\n",
       "      <td>...</td>\n",
       "      <td>...</td>\n",
       "      <td>...</td>\n",
       "      <td>...</td>\n",
       "      <td>...</td>\n",
       "      <td>...</td>\n",
       "      <td>...</td>\n",
       "      <td>...</td>\n",
       "      <td>...</td>\n",
       "      <td>...</td>\n",
       "    </tr>\n",
       "    <tr>\n",
       "      <th>195</th>\n",
       "      <td>196</td>\n",
       "      <td>iambeckyg</td>\n",
       "      <td>71</td>\n",
       "      <td>2.3k</td>\n",
       "      <td>33.2m</td>\n",
       "      <td>623.8k</td>\n",
       "      <td>1.40%</td>\n",
       "      <td>464.7k</td>\n",
       "      <td>1.4b</td>\n",
       "      <td>United States</td>\n",
       "    </tr>\n",
       "    <tr>\n",
       "      <th>196</th>\n",
       "      <td>197</td>\n",
       "      <td>nancyajram</td>\n",
       "      <td>81</td>\n",
       "      <td>3.8k</td>\n",
       "      <td>33.2m</td>\n",
       "      <td>390.4k</td>\n",
       "      <td>0.64%</td>\n",
       "      <td>208.0k</td>\n",
       "      <td>1.5b</td>\n",
       "      <td>France</td>\n",
       "    </tr>\n",
       "    <tr>\n",
       "      <th>197</th>\n",
       "      <td>198</td>\n",
       "      <td>luansantana</td>\n",
       "      <td>79</td>\n",
       "      <td>0.77k</td>\n",
       "      <td>33.2m</td>\n",
       "      <td>193.3k</td>\n",
       "      <td>0.26%</td>\n",
       "      <td>82.6k</td>\n",
       "      <td>149.2m</td>\n",
       "      <td>Brazil</td>\n",
       "    </tr>\n",
       "    <tr>\n",
       "      <th>198</th>\n",
       "      <td>199</td>\n",
       "      <td>nickjonas</td>\n",
       "      <td>78</td>\n",
       "      <td>2.3k</td>\n",
       "      <td>33.0m</td>\n",
       "      <td>719.6k</td>\n",
       "      <td>1.42%</td>\n",
       "      <td>467.7k</td>\n",
       "      <td>1.7b</td>\n",
       "      <td>United States</td>\n",
       "    </tr>\n",
       "    <tr>\n",
       "      <th>199</th>\n",
       "      <td>200</td>\n",
       "      <td>raisa6690</td>\n",
       "      <td>80</td>\n",
       "      <td>4.2k</td>\n",
       "      <td>32.8m</td>\n",
       "      <td>232.2k</td>\n",
       "      <td>0.30%</td>\n",
       "      <td>97.4k</td>\n",
       "      <td>969.1m</td>\n",
       "      <td>Indonesia</td>\n",
       "    </tr>\n",
       "  </tbody>\n",
       "</table>\n",
       "<p>200 rows × 10 columns</p>\n",
       "</div>"
      ],
      "text/plain": [
       "     rank channel_info  influence_score  posts followers avg_likes  \\\n",
       "0       1    cristiano               92   3.3k    475.8m      8.7m   \n",
       "1       2  kyliejenner               91   6.9k    366.2m      8.3m   \n",
       "2       3     leomessi               90  0.89k    357.3m      6.8m   \n",
       "3       4  selenagomez               93   1.8k    342.7m      6.2m   \n",
       "4       5      therock               91   6.8k    334.1m      1.9m   \n",
       "..    ...          ...              ...    ...       ...       ...   \n",
       "195   196    iambeckyg               71   2.3k     33.2m    623.8k   \n",
       "196   197   nancyajram               81   3.8k     33.2m    390.4k   \n",
       "197   198  luansantana               79  0.77k     33.2m    193.3k   \n",
       "198   199    nickjonas               78   2.3k     33.0m    719.6k   \n",
       "199   200    raisa6690               80   4.2k     32.8m    232.2k   \n",
       "\n",
       "    60_day_eng_rate new_post_avg_like total_likes        country  \n",
       "0             1.39%              6.5m       29.0b          Spain  \n",
       "1             1.62%              5.9m       57.4b  United States  \n",
       "2             1.24%              4.4m        6.0b            NaN  \n",
       "3             0.97%              3.3m       11.5b  United States  \n",
       "4             0.20%            665.3k       12.5b  United States  \n",
       "..              ...               ...         ...            ...  \n",
       "195           1.40%            464.7k        1.4b  United States  \n",
       "196           0.64%            208.0k        1.5b         France  \n",
       "197           0.26%             82.6k      149.2m         Brazil  \n",
       "198           1.42%            467.7k        1.7b  United States  \n",
       "199           0.30%             97.4k      969.1m      Indonesia  \n",
       "\n",
       "[200 rows x 10 columns]"
      ]
     },
     "execution_count": 146,
     "metadata": {},
     "output_type": "execute_result"
    }
   ],
   "source": [
    "def load_dataset():\n",
    "    return pd.read_csv(r\"/Users/student/Desktop/Mobapp/top_instagram.csv\")\n",
    "data = load_dataset()\n",
    "data"
   ]
  },
  {
   "cell_type": "code",
   "execution_count": 147,
   "metadata": {},
   "outputs": [
    {
     "name": "stdout",
     "output_type": "stream",
     "text": [
      "Info\n",
      "<class 'pandas.core.frame.DataFrame'>\n",
      "RangeIndex: 200 entries, 0 to 199\n",
      "Data columns (total 10 columns):\n",
      " #   Column             Non-Null Count  Dtype \n",
      "---  ------             --------------  ----- \n",
      " 0   rank               200 non-null    int64 \n",
      " 1   channel_info       200 non-null    object\n",
      " 2   influence_score    200 non-null    int64 \n",
      " 3   posts              200 non-null    object\n",
      " 4   followers          200 non-null    object\n",
      " 5   avg_likes          200 non-null    object\n",
      " 6   60_day_eng_rate    200 non-null    object\n",
      " 7   new_post_avg_like  200 non-null    object\n",
      " 8   total_likes        200 non-null    object\n",
      " 9   country            138 non-null    object\n",
      "dtypes: int64(2), object(8)\n",
      "memory usage: 15.8+ KB\n",
      "None\n"
     ]
    }
   ],
   "source": [
    "def summursize(df):\n",
    "    print(\"Info\")\n",
    "    print(df.info())\n",
    "summ = summursize(data)"
   ]
  },
  {
   "cell_type": "code",
   "execution_count": 148,
   "metadata": {},
   "outputs": [],
   "source": [
    "def clean_avg_likes(row):\n",
    "    if row[-1] == 'm':\n",
    "        row = float(row[:-1]) * 1000000\n",
    "    elif row[-1] == 'k':\n",
    "        row = float(row[:-1]) * 1000\n",
    "    elif row[-1] == 'b':\n",
    "        row = float(row[:-1]) * 1000000000\n",
    "    return int(row)"
   ]
  },
  {
   "cell_type": "code",
   "execution_count": 149,
   "metadata": {},
   "outputs": [],
   "source": [
    "def clean_dataset(df):\n",
    "    df[\"posts\"] = df[\"posts\"].apply(lambda x: str(x).replace(\"k\", \"\")).astype(float) * 1000\n",
    "    df[\"followers\"] = df[\"followers\"].apply((lambda x: str(x).replace(\"m\", ''))).astype(float) * 1000000\n",
    "    df[\"avg_likes\"] = df[\"avg_likes\"].apply(lambda row: int(float(row[:-1])*1000) if row[-1]=='k' else int(float(row[:-1])*1000000))\n",
    "    df[\"60_day_eng_rate\"] = df[\"60_day_eng_rate\"].apply(lambda x: str(x).replace(\"%\", \"\")).astype(float)\n",
    "    df[\"new_post_avg_like\"] = df[\"new_post_avg_like\"].apply(clean_avg_likes)\n",
    "    df['total_likes'] = df[\"total_likes\"].apply(clean_avg_likes)\n",
    "    df[\"country\"] = df[\"country\"].str.title()\n",
    "    df.fillna({'country': 'Other country'}, inplace=True)\n",
    "    return df\n",
    "data_clean = clean_dataset(data.copy(deep=True))"
   ]
  },
  {
   "cell_type": "code",
   "execution_count": 150,
   "metadata": {},
   "outputs": [
    {
     "data": {
      "application/vnd.plotly.v1+json": {
       "config": {
        "plotlyServerURL": "https://plot.ly"
       },
       "data": [
        {
         "alignmentgroup": "True",
         "hovertemplate": "channel_info=%{x}<br>followers=%{y}<extra></extra>",
         "legendgroup": "",
         "marker": {
          "color": "#636efa",
          "pattern": {
           "shape": ""
          }
         },
         "name": "",
         "offsetgroup": "",
         "orientation": "v",
         "showlegend": false,
         "textposition": "auto",
         "type": "bar",
         "x": [
          "cristiano",
          "kyliejenner",
          "leomessi",
          "selenagomez",
          "therock",
          "kimkardashian",
          "arianagrande",
          "beyonce",
          "khloekardashian",
          "justinbieber",
          "kendalljenner",
          "natgeo",
          "nike",
          "taylorswift",
          "jlo"
         ],
         "xaxis": "x",
         "y": [
          475800000,
          366200000,
          357300000,
          342700000,
          334100000,
          329200000,
          327700000,
          272800000,
          268300000,
          254500000,
          254000000,
          237000000,
          234100000,
          222200000,
          220400000
         ],
         "yaxis": "y"
        }
       ],
       "layout": {
        "barmode": "relative",
        "legend": {
         "tracegroupgap": 0
        },
        "template": {
         "data": {
          "bar": [
           {
            "error_x": {
             "color": "#2a3f5f"
            },
            "error_y": {
             "color": "#2a3f5f"
            },
            "marker": {
             "line": {
              "color": "#E5ECF6",
              "width": 0.5
             },
             "pattern": {
              "fillmode": "overlay",
              "size": 10,
              "solidity": 0.2
             }
            },
            "type": "bar"
           }
          ],
          "barpolar": [
           {
            "marker": {
             "line": {
              "color": "#E5ECF6",
              "width": 0.5
             },
             "pattern": {
              "fillmode": "overlay",
              "size": 10,
              "solidity": 0.2
             }
            },
            "type": "barpolar"
           }
          ],
          "carpet": [
           {
            "aaxis": {
             "endlinecolor": "#2a3f5f",
             "gridcolor": "white",
             "linecolor": "white",
             "minorgridcolor": "white",
             "startlinecolor": "#2a3f5f"
            },
            "baxis": {
             "endlinecolor": "#2a3f5f",
             "gridcolor": "white",
             "linecolor": "white",
             "minorgridcolor": "white",
             "startlinecolor": "#2a3f5f"
            },
            "type": "carpet"
           }
          ],
          "choropleth": [
           {
            "colorbar": {
             "outlinewidth": 0,
             "ticks": ""
            },
            "type": "choropleth"
           }
          ],
          "contour": [
           {
            "colorbar": {
             "outlinewidth": 0,
             "ticks": ""
            },
            "colorscale": [
             [
              0,
              "#0d0887"
             ],
             [
              0.1111111111111111,
              "#46039f"
             ],
             [
              0.2222222222222222,
              "#7201a8"
             ],
             [
              0.3333333333333333,
              "#9c179e"
             ],
             [
              0.4444444444444444,
              "#bd3786"
             ],
             [
              0.5555555555555556,
              "#d8576b"
             ],
             [
              0.6666666666666666,
              "#ed7953"
             ],
             [
              0.7777777777777778,
              "#fb9f3a"
             ],
             [
              0.8888888888888888,
              "#fdca26"
             ],
             [
              1,
              "#f0f921"
             ]
            ],
            "type": "contour"
           }
          ],
          "contourcarpet": [
           {
            "colorbar": {
             "outlinewidth": 0,
             "ticks": ""
            },
            "type": "contourcarpet"
           }
          ],
          "heatmap": [
           {
            "colorbar": {
             "outlinewidth": 0,
             "ticks": ""
            },
            "colorscale": [
             [
              0,
              "#0d0887"
             ],
             [
              0.1111111111111111,
              "#46039f"
             ],
             [
              0.2222222222222222,
              "#7201a8"
             ],
             [
              0.3333333333333333,
              "#9c179e"
             ],
             [
              0.4444444444444444,
              "#bd3786"
             ],
             [
              0.5555555555555556,
              "#d8576b"
             ],
             [
              0.6666666666666666,
              "#ed7953"
             ],
             [
              0.7777777777777778,
              "#fb9f3a"
             ],
             [
              0.8888888888888888,
              "#fdca26"
             ],
             [
              1,
              "#f0f921"
             ]
            ],
            "type": "heatmap"
           }
          ],
          "heatmapgl": [
           {
            "colorbar": {
             "outlinewidth": 0,
             "ticks": ""
            },
            "colorscale": [
             [
              0,
              "#0d0887"
             ],
             [
              0.1111111111111111,
              "#46039f"
             ],
             [
              0.2222222222222222,
              "#7201a8"
             ],
             [
              0.3333333333333333,
              "#9c179e"
             ],
             [
              0.4444444444444444,
              "#bd3786"
             ],
             [
              0.5555555555555556,
              "#d8576b"
             ],
             [
              0.6666666666666666,
              "#ed7953"
             ],
             [
              0.7777777777777778,
              "#fb9f3a"
             ],
             [
              0.8888888888888888,
              "#fdca26"
             ],
             [
              1,
              "#f0f921"
             ]
            ],
            "type": "heatmapgl"
           }
          ],
          "histogram": [
           {
            "marker": {
             "pattern": {
              "fillmode": "overlay",
              "size": 10,
              "solidity": 0.2
             }
            },
            "type": "histogram"
           }
          ],
          "histogram2d": [
           {
            "colorbar": {
             "outlinewidth": 0,
             "ticks": ""
            },
            "colorscale": [
             [
              0,
              "#0d0887"
             ],
             [
              0.1111111111111111,
              "#46039f"
             ],
             [
              0.2222222222222222,
              "#7201a8"
             ],
             [
              0.3333333333333333,
              "#9c179e"
             ],
             [
              0.4444444444444444,
              "#bd3786"
             ],
             [
              0.5555555555555556,
              "#d8576b"
             ],
             [
              0.6666666666666666,
              "#ed7953"
             ],
             [
              0.7777777777777778,
              "#fb9f3a"
             ],
             [
              0.8888888888888888,
              "#fdca26"
             ],
             [
              1,
              "#f0f921"
             ]
            ],
            "type": "histogram2d"
           }
          ],
          "histogram2dcontour": [
           {
            "colorbar": {
             "outlinewidth": 0,
             "ticks": ""
            },
            "colorscale": [
             [
              0,
              "#0d0887"
             ],
             [
              0.1111111111111111,
              "#46039f"
             ],
             [
              0.2222222222222222,
              "#7201a8"
             ],
             [
              0.3333333333333333,
              "#9c179e"
             ],
             [
              0.4444444444444444,
              "#bd3786"
             ],
             [
              0.5555555555555556,
              "#d8576b"
             ],
             [
              0.6666666666666666,
              "#ed7953"
             ],
             [
              0.7777777777777778,
              "#fb9f3a"
             ],
             [
              0.8888888888888888,
              "#fdca26"
             ],
             [
              1,
              "#f0f921"
             ]
            ],
            "type": "histogram2dcontour"
           }
          ],
          "mesh3d": [
           {
            "colorbar": {
             "outlinewidth": 0,
             "ticks": ""
            },
            "type": "mesh3d"
           }
          ],
          "parcoords": [
           {
            "line": {
             "colorbar": {
              "outlinewidth": 0,
              "ticks": ""
             }
            },
            "type": "parcoords"
           }
          ],
          "pie": [
           {
            "automargin": true,
            "type": "pie"
           }
          ],
          "scatter": [
           {
            "fillpattern": {
             "fillmode": "overlay",
             "size": 10,
             "solidity": 0.2
            },
            "type": "scatter"
           }
          ],
          "scatter3d": [
           {
            "line": {
             "colorbar": {
              "outlinewidth": 0,
              "ticks": ""
             }
            },
            "marker": {
             "colorbar": {
              "outlinewidth": 0,
              "ticks": ""
             }
            },
            "type": "scatter3d"
           }
          ],
          "scattercarpet": [
           {
            "marker": {
             "colorbar": {
              "outlinewidth": 0,
              "ticks": ""
             }
            },
            "type": "scattercarpet"
           }
          ],
          "scattergeo": [
           {
            "marker": {
             "colorbar": {
              "outlinewidth": 0,
              "ticks": ""
             }
            },
            "type": "scattergeo"
           }
          ],
          "scattergl": [
           {
            "marker": {
             "colorbar": {
              "outlinewidth": 0,
              "ticks": ""
             }
            },
            "type": "scattergl"
           }
          ],
          "scattermapbox": [
           {
            "marker": {
             "colorbar": {
              "outlinewidth": 0,
              "ticks": ""
             }
            },
            "type": "scattermapbox"
           }
          ],
          "scatterpolar": [
           {
            "marker": {
             "colorbar": {
              "outlinewidth": 0,
              "ticks": ""
             }
            },
            "type": "scatterpolar"
           }
          ],
          "scatterpolargl": [
           {
            "marker": {
             "colorbar": {
              "outlinewidth": 0,
              "ticks": ""
             }
            },
            "type": "scatterpolargl"
           }
          ],
          "scatterternary": [
           {
            "marker": {
             "colorbar": {
              "outlinewidth": 0,
              "ticks": ""
             }
            },
            "type": "scatterternary"
           }
          ],
          "surface": [
           {
            "colorbar": {
             "outlinewidth": 0,
             "ticks": ""
            },
            "colorscale": [
             [
              0,
              "#0d0887"
             ],
             [
              0.1111111111111111,
              "#46039f"
             ],
             [
              0.2222222222222222,
              "#7201a8"
             ],
             [
              0.3333333333333333,
              "#9c179e"
             ],
             [
              0.4444444444444444,
              "#bd3786"
             ],
             [
              0.5555555555555556,
              "#d8576b"
             ],
             [
              0.6666666666666666,
              "#ed7953"
             ],
             [
              0.7777777777777778,
              "#fb9f3a"
             ],
             [
              0.8888888888888888,
              "#fdca26"
             ],
             [
              1,
              "#f0f921"
             ]
            ],
            "type": "surface"
           }
          ],
          "table": [
           {
            "cells": {
             "fill": {
              "color": "#EBF0F8"
             },
             "line": {
              "color": "white"
             }
            },
            "header": {
             "fill": {
              "color": "#C8D4E3"
             },
             "line": {
              "color": "white"
             }
            },
            "type": "table"
           }
          ]
         },
         "layout": {
          "annotationdefaults": {
           "arrowcolor": "#2a3f5f",
           "arrowhead": 0,
           "arrowwidth": 1
          },
          "autotypenumbers": "strict",
          "coloraxis": {
           "colorbar": {
            "outlinewidth": 0,
            "ticks": ""
           }
          },
          "colorscale": {
           "diverging": [
            [
             0,
             "#8e0152"
            ],
            [
             0.1,
             "#c51b7d"
            ],
            [
             0.2,
             "#de77ae"
            ],
            [
             0.3,
             "#f1b6da"
            ],
            [
             0.4,
             "#fde0ef"
            ],
            [
             0.5,
             "#f7f7f7"
            ],
            [
             0.6,
             "#e6f5d0"
            ],
            [
             0.7,
             "#b8e186"
            ],
            [
             0.8,
             "#7fbc41"
            ],
            [
             0.9,
             "#4d9221"
            ],
            [
             1,
             "#276419"
            ]
           ],
           "sequential": [
            [
             0,
             "#0d0887"
            ],
            [
             0.1111111111111111,
             "#46039f"
            ],
            [
             0.2222222222222222,
             "#7201a8"
            ],
            [
             0.3333333333333333,
             "#9c179e"
            ],
            [
             0.4444444444444444,
             "#bd3786"
            ],
            [
             0.5555555555555556,
             "#d8576b"
            ],
            [
             0.6666666666666666,
             "#ed7953"
            ],
            [
             0.7777777777777778,
             "#fb9f3a"
            ],
            [
             0.8888888888888888,
             "#fdca26"
            ],
            [
             1,
             "#f0f921"
            ]
           ],
           "sequentialminus": [
            [
             0,
             "#0d0887"
            ],
            [
             0.1111111111111111,
             "#46039f"
            ],
            [
             0.2222222222222222,
             "#7201a8"
            ],
            [
             0.3333333333333333,
             "#9c179e"
            ],
            [
             0.4444444444444444,
             "#bd3786"
            ],
            [
             0.5555555555555556,
             "#d8576b"
            ],
            [
             0.6666666666666666,
             "#ed7953"
            ],
            [
             0.7777777777777778,
             "#fb9f3a"
            ],
            [
             0.8888888888888888,
             "#fdca26"
            ],
            [
             1,
             "#f0f921"
            ]
           ]
          },
          "colorway": [
           "#636efa",
           "#EF553B",
           "#00cc96",
           "#ab63fa",
           "#FFA15A",
           "#19d3f3",
           "#FF6692",
           "#B6E880",
           "#FF97FF",
           "#FECB52"
          ],
          "font": {
           "color": "#2a3f5f"
          },
          "geo": {
           "bgcolor": "white",
           "lakecolor": "white",
           "landcolor": "#E5ECF6",
           "showlakes": true,
           "showland": true,
           "subunitcolor": "white"
          },
          "hoverlabel": {
           "align": "left"
          },
          "hovermode": "closest",
          "mapbox": {
           "style": "light"
          },
          "paper_bgcolor": "white",
          "plot_bgcolor": "#E5ECF6",
          "polar": {
           "angularaxis": {
            "gridcolor": "white",
            "linecolor": "white",
            "ticks": ""
           },
           "bgcolor": "#E5ECF6",
           "radialaxis": {
            "gridcolor": "white",
            "linecolor": "white",
            "ticks": ""
           }
          },
          "scene": {
           "xaxis": {
            "backgroundcolor": "#E5ECF6",
            "gridcolor": "white",
            "gridwidth": 2,
            "linecolor": "white",
            "showbackground": true,
            "ticks": "",
            "zerolinecolor": "white"
           },
           "yaxis": {
            "backgroundcolor": "#E5ECF6",
            "gridcolor": "white",
            "gridwidth": 2,
            "linecolor": "white",
            "showbackground": true,
            "ticks": "",
            "zerolinecolor": "white"
           },
           "zaxis": {
            "backgroundcolor": "#E5ECF6",
            "gridcolor": "white",
            "gridwidth": 2,
            "linecolor": "white",
            "showbackground": true,
            "ticks": "",
            "zerolinecolor": "white"
           }
          },
          "shapedefaults": {
           "line": {
            "color": "#2a3f5f"
           }
          },
          "ternary": {
           "aaxis": {
            "gridcolor": "white",
            "linecolor": "white",
            "ticks": ""
           },
           "baxis": {
            "gridcolor": "white",
            "linecolor": "white",
            "ticks": ""
           },
           "bgcolor": "#E5ECF6",
           "caxis": {
            "gridcolor": "white",
            "linecolor": "white",
            "ticks": ""
           }
          },
          "title": {
           "x": 0.05
          },
          "xaxis": {
           "automargin": true,
           "gridcolor": "white",
           "linecolor": "white",
           "ticks": "",
           "title": {
            "standoff": 15
           },
           "zerolinecolor": "white",
           "zerolinewidth": 2
          },
          "yaxis": {
           "automargin": true,
           "gridcolor": "white",
           "linecolor": "white",
           "ticks": "",
           "title": {
            "standoff": 15
           },
           "zerolinecolor": "white",
           "zerolinewidth": 2
          }
         }
        },
        "title": {
         "text": "Top 15 users"
        },
        "xaxis": {
         "anchor": "y",
         "domain": [
          0,
          1
         ],
         "title": {
          "text": "channel_info"
         }
        },
        "yaxis": {
         "anchor": "x",
         "domain": [
          0,
          1
         ],
         "title": {
          "text": "followers"
         }
        }
       }
      }
     },
     "metadata": {},
     "output_type": "display_data"
    }
   ],
   "source": [
    "def top_15_followers(df):\n",
    "    fig = px.bar(df, x='channel_info', y='followers', title='Top 15 users', orientation='v')\n",
    "    fig.show()\n",
    "top_15_followers(data_clean.head(15))\n"
   ]
  },
  {
   "cell_type": "code",
   "execution_count": 151,
   "metadata": {},
   "outputs": [
    {
     "data": {
      "application/vnd.plotly.v1+json": {
       "config": {
        "plotlyServerURL": "https://plot.ly"
       },
       "data": [
        {
         "alignmentgroup": "True",
         "hovertemplate": "channel_info=%{x}<br>posts=%{y}<extra></extra>",
         "legendgroup": "",
         "marker": {
          "color": "#636efa",
          "pattern": {
           "shape": ""
          }
         },
         "name": "",
         "offsetgroup": "",
         "orientation": "v",
         "showlegend": false,
         "textposition": "auto",
         "type": "bar",
         "x": [
          "cristiano",
          "kyliejenner",
          "leomessi",
          "selenagomez",
          "therock",
          "kimkardashian",
          "arianagrande",
          "beyonce",
          "khloekardashian",
          "justinbieber",
          "kendalljenner",
          "natgeo",
          "nike",
          "taylorswift",
          "jlo"
         ],
         "xaxis": "x",
         "y": [
          3300,
          6900,
          890,
          1800,
          6800,
          5600,
          5000,
          2000,
          4100,
          7400,
          660,
          10000,
          950,
          530,
          3200
         ],
         "yaxis": "y"
        }
       ],
       "layout": {
        "barmode": "relative",
        "legend": {
         "tracegroupgap": 0
        },
        "template": {
         "data": {
          "bar": [
           {
            "error_x": {
             "color": "#2a3f5f"
            },
            "error_y": {
             "color": "#2a3f5f"
            },
            "marker": {
             "line": {
              "color": "#E5ECF6",
              "width": 0.5
             },
             "pattern": {
              "fillmode": "overlay",
              "size": 10,
              "solidity": 0.2
             }
            },
            "type": "bar"
           }
          ],
          "barpolar": [
           {
            "marker": {
             "line": {
              "color": "#E5ECF6",
              "width": 0.5
             },
             "pattern": {
              "fillmode": "overlay",
              "size": 10,
              "solidity": 0.2
             }
            },
            "type": "barpolar"
           }
          ],
          "carpet": [
           {
            "aaxis": {
             "endlinecolor": "#2a3f5f",
             "gridcolor": "white",
             "linecolor": "white",
             "minorgridcolor": "white",
             "startlinecolor": "#2a3f5f"
            },
            "baxis": {
             "endlinecolor": "#2a3f5f",
             "gridcolor": "white",
             "linecolor": "white",
             "minorgridcolor": "white",
             "startlinecolor": "#2a3f5f"
            },
            "type": "carpet"
           }
          ],
          "choropleth": [
           {
            "colorbar": {
             "outlinewidth": 0,
             "ticks": ""
            },
            "type": "choropleth"
           }
          ],
          "contour": [
           {
            "colorbar": {
             "outlinewidth": 0,
             "ticks": ""
            },
            "colorscale": [
             [
              0,
              "#0d0887"
             ],
             [
              0.1111111111111111,
              "#46039f"
             ],
             [
              0.2222222222222222,
              "#7201a8"
             ],
             [
              0.3333333333333333,
              "#9c179e"
             ],
             [
              0.4444444444444444,
              "#bd3786"
             ],
             [
              0.5555555555555556,
              "#d8576b"
             ],
             [
              0.6666666666666666,
              "#ed7953"
             ],
             [
              0.7777777777777778,
              "#fb9f3a"
             ],
             [
              0.8888888888888888,
              "#fdca26"
             ],
             [
              1,
              "#f0f921"
             ]
            ],
            "type": "contour"
           }
          ],
          "contourcarpet": [
           {
            "colorbar": {
             "outlinewidth": 0,
             "ticks": ""
            },
            "type": "contourcarpet"
           }
          ],
          "heatmap": [
           {
            "colorbar": {
             "outlinewidth": 0,
             "ticks": ""
            },
            "colorscale": [
             [
              0,
              "#0d0887"
             ],
             [
              0.1111111111111111,
              "#46039f"
             ],
             [
              0.2222222222222222,
              "#7201a8"
             ],
             [
              0.3333333333333333,
              "#9c179e"
             ],
             [
              0.4444444444444444,
              "#bd3786"
             ],
             [
              0.5555555555555556,
              "#d8576b"
             ],
             [
              0.6666666666666666,
              "#ed7953"
             ],
             [
              0.7777777777777778,
              "#fb9f3a"
             ],
             [
              0.8888888888888888,
              "#fdca26"
             ],
             [
              1,
              "#f0f921"
             ]
            ],
            "type": "heatmap"
           }
          ],
          "heatmapgl": [
           {
            "colorbar": {
             "outlinewidth": 0,
             "ticks": ""
            },
            "colorscale": [
             [
              0,
              "#0d0887"
             ],
             [
              0.1111111111111111,
              "#46039f"
             ],
             [
              0.2222222222222222,
              "#7201a8"
             ],
             [
              0.3333333333333333,
              "#9c179e"
             ],
             [
              0.4444444444444444,
              "#bd3786"
             ],
             [
              0.5555555555555556,
              "#d8576b"
             ],
             [
              0.6666666666666666,
              "#ed7953"
             ],
             [
              0.7777777777777778,
              "#fb9f3a"
             ],
             [
              0.8888888888888888,
              "#fdca26"
             ],
             [
              1,
              "#f0f921"
             ]
            ],
            "type": "heatmapgl"
           }
          ],
          "histogram": [
           {
            "marker": {
             "pattern": {
              "fillmode": "overlay",
              "size": 10,
              "solidity": 0.2
             }
            },
            "type": "histogram"
           }
          ],
          "histogram2d": [
           {
            "colorbar": {
             "outlinewidth": 0,
             "ticks": ""
            },
            "colorscale": [
             [
              0,
              "#0d0887"
             ],
             [
              0.1111111111111111,
              "#46039f"
             ],
             [
              0.2222222222222222,
              "#7201a8"
             ],
             [
              0.3333333333333333,
              "#9c179e"
             ],
             [
              0.4444444444444444,
              "#bd3786"
             ],
             [
              0.5555555555555556,
              "#d8576b"
             ],
             [
              0.6666666666666666,
              "#ed7953"
             ],
             [
              0.7777777777777778,
              "#fb9f3a"
             ],
             [
              0.8888888888888888,
              "#fdca26"
             ],
             [
              1,
              "#f0f921"
             ]
            ],
            "type": "histogram2d"
           }
          ],
          "histogram2dcontour": [
           {
            "colorbar": {
             "outlinewidth": 0,
             "ticks": ""
            },
            "colorscale": [
             [
              0,
              "#0d0887"
             ],
             [
              0.1111111111111111,
              "#46039f"
             ],
             [
              0.2222222222222222,
              "#7201a8"
             ],
             [
              0.3333333333333333,
              "#9c179e"
             ],
             [
              0.4444444444444444,
              "#bd3786"
             ],
             [
              0.5555555555555556,
              "#d8576b"
             ],
             [
              0.6666666666666666,
              "#ed7953"
             ],
             [
              0.7777777777777778,
              "#fb9f3a"
             ],
             [
              0.8888888888888888,
              "#fdca26"
             ],
             [
              1,
              "#f0f921"
             ]
            ],
            "type": "histogram2dcontour"
           }
          ],
          "mesh3d": [
           {
            "colorbar": {
             "outlinewidth": 0,
             "ticks": ""
            },
            "type": "mesh3d"
           }
          ],
          "parcoords": [
           {
            "line": {
             "colorbar": {
              "outlinewidth": 0,
              "ticks": ""
             }
            },
            "type": "parcoords"
           }
          ],
          "pie": [
           {
            "automargin": true,
            "type": "pie"
           }
          ],
          "scatter": [
           {
            "fillpattern": {
             "fillmode": "overlay",
             "size": 10,
             "solidity": 0.2
            },
            "type": "scatter"
           }
          ],
          "scatter3d": [
           {
            "line": {
             "colorbar": {
              "outlinewidth": 0,
              "ticks": ""
             }
            },
            "marker": {
             "colorbar": {
              "outlinewidth": 0,
              "ticks": ""
             }
            },
            "type": "scatter3d"
           }
          ],
          "scattercarpet": [
           {
            "marker": {
             "colorbar": {
              "outlinewidth": 0,
              "ticks": ""
             }
            },
            "type": "scattercarpet"
           }
          ],
          "scattergeo": [
           {
            "marker": {
             "colorbar": {
              "outlinewidth": 0,
              "ticks": ""
             }
            },
            "type": "scattergeo"
           }
          ],
          "scattergl": [
           {
            "marker": {
             "colorbar": {
              "outlinewidth": 0,
              "ticks": ""
             }
            },
            "type": "scattergl"
           }
          ],
          "scattermapbox": [
           {
            "marker": {
             "colorbar": {
              "outlinewidth": 0,
              "ticks": ""
             }
            },
            "type": "scattermapbox"
           }
          ],
          "scatterpolar": [
           {
            "marker": {
             "colorbar": {
              "outlinewidth": 0,
              "ticks": ""
             }
            },
            "type": "scatterpolar"
           }
          ],
          "scatterpolargl": [
           {
            "marker": {
             "colorbar": {
              "outlinewidth": 0,
              "ticks": ""
             }
            },
            "type": "scatterpolargl"
           }
          ],
          "scatterternary": [
           {
            "marker": {
             "colorbar": {
              "outlinewidth": 0,
              "ticks": ""
             }
            },
            "type": "scatterternary"
           }
          ],
          "surface": [
           {
            "colorbar": {
             "outlinewidth": 0,
             "ticks": ""
            },
            "colorscale": [
             [
              0,
              "#0d0887"
             ],
             [
              0.1111111111111111,
              "#46039f"
             ],
             [
              0.2222222222222222,
              "#7201a8"
             ],
             [
              0.3333333333333333,
              "#9c179e"
             ],
             [
              0.4444444444444444,
              "#bd3786"
             ],
             [
              0.5555555555555556,
              "#d8576b"
             ],
             [
              0.6666666666666666,
              "#ed7953"
             ],
             [
              0.7777777777777778,
              "#fb9f3a"
             ],
             [
              0.8888888888888888,
              "#fdca26"
             ],
             [
              1,
              "#f0f921"
             ]
            ],
            "type": "surface"
           }
          ],
          "table": [
           {
            "cells": {
             "fill": {
              "color": "#EBF0F8"
             },
             "line": {
              "color": "white"
             }
            },
            "header": {
             "fill": {
              "color": "#C8D4E3"
             },
             "line": {
              "color": "white"
             }
            },
            "type": "table"
           }
          ]
         },
         "layout": {
          "annotationdefaults": {
           "arrowcolor": "#2a3f5f",
           "arrowhead": 0,
           "arrowwidth": 1
          },
          "autotypenumbers": "strict",
          "coloraxis": {
           "colorbar": {
            "outlinewidth": 0,
            "ticks": ""
           }
          },
          "colorscale": {
           "diverging": [
            [
             0,
             "#8e0152"
            ],
            [
             0.1,
             "#c51b7d"
            ],
            [
             0.2,
             "#de77ae"
            ],
            [
             0.3,
             "#f1b6da"
            ],
            [
             0.4,
             "#fde0ef"
            ],
            [
             0.5,
             "#f7f7f7"
            ],
            [
             0.6,
             "#e6f5d0"
            ],
            [
             0.7,
             "#b8e186"
            ],
            [
             0.8,
             "#7fbc41"
            ],
            [
             0.9,
             "#4d9221"
            ],
            [
             1,
             "#276419"
            ]
           ],
           "sequential": [
            [
             0,
             "#0d0887"
            ],
            [
             0.1111111111111111,
             "#46039f"
            ],
            [
             0.2222222222222222,
             "#7201a8"
            ],
            [
             0.3333333333333333,
             "#9c179e"
            ],
            [
             0.4444444444444444,
             "#bd3786"
            ],
            [
             0.5555555555555556,
             "#d8576b"
            ],
            [
             0.6666666666666666,
             "#ed7953"
            ],
            [
             0.7777777777777778,
             "#fb9f3a"
            ],
            [
             0.8888888888888888,
             "#fdca26"
            ],
            [
             1,
             "#f0f921"
            ]
           ],
           "sequentialminus": [
            [
             0,
             "#0d0887"
            ],
            [
             0.1111111111111111,
             "#46039f"
            ],
            [
             0.2222222222222222,
             "#7201a8"
            ],
            [
             0.3333333333333333,
             "#9c179e"
            ],
            [
             0.4444444444444444,
             "#bd3786"
            ],
            [
             0.5555555555555556,
             "#d8576b"
            ],
            [
             0.6666666666666666,
             "#ed7953"
            ],
            [
             0.7777777777777778,
             "#fb9f3a"
            ],
            [
             0.8888888888888888,
             "#fdca26"
            ],
            [
             1,
             "#f0f921"
            ]
           ]
          },
          "colorway": [
           "#636efa",
           "#EF553B",
           "#00cc96",
           "#ab63fa",
           "#FFA15A",
           "#19d3f3",
           "#FF6692",
           "#B6E880",
           "#FF97FF",
           "#FECB52"
          ],
          "font": {
           "color": "#2a3f5f"
          },
          "geo": {
           "bgcolor": "white",
           "lakecolor": "white",
           "landcolor": "#E5ECF6",
           "showlakes": true,
           "showland": true,
           "subunitcolor": "white"
          },
          "hoverlabel": {
           "align": "left"
          },
          "hovermode": "closest",
          "mapbox": {
           "style": "light"
          },
          "paper_bgcolor": "white",
          "plot_bgcolor": "#E5ECF6",
          "polar": {
           "angularaxis": {
            "gridcolor": "white",
            "linecolor": "white",
            "ticks": ""
           },
           "bgcolor": "#E5ECF6",
           "radialaxis": {
            "gridcolor": "white",
            "linecolor": "white",
            "ticks": ""
           }
          },
          "scene": {
           "xaxis": {
            "backgroundcolor": "#E5ECF6",
            "gridcolor": "white",
            "gridwidth": 2,
            "linecolor": "white",
            "showbackground": true,
            "ticks": "",
            "zerolinecolor": "white"
           },
           "yaxis": {
            "backgroundcolor": "#E5ECF6",
            "gridcolor": "white",
            "gridwidth": 2,
            "linecolor": "white",
            "showbackground": true,
            "ticks": "",
            "zerolinecolor": "white"
           },
           "zaxis": {
            "backgroundcolor": "#E5ECF6",
            "gridcolor": "white",
            "gridwidth": 2,
            "linecolor": "white",
            "showbackground": true,
            "ticks": "",
            "zerolinecolor": "white"
           }
          },
          "shapedefaults": {
           "line": {
            "color": "#2a3f5f"
           }
          },
          "ternary": {
           "aaxis": {
            "gridcolor": "white",
            "linecolor": "white",
            "ticks": ""
           },
           "baxis": {
            "gridcolor": "white",
            "linecolor": "white",
            "ticks": ""
           },
           "bgcolor": "#E5ECF6",
           "caxis": {
            "gridcolor": "white",
            "linecolor": "white",
            "ticks": ""
           }
          },
          "title": {
           "x": 0.05
          },
          "xaxis": {
           "automargin": true,
           "gridcolor": "white",
           "linecolor": "white",
           "ticks": "",
           "title": {
            "standoff": 15
           },
           "zerolinecolor": "white",
           "zerolinewidth": 2
          },
          "yaxis": {
           "automargin": true,
           "gridcolor": "white",
           "linecolor": "white",
           "ticks": "",
           "title": {
            "standoff": 15
           },
           "zerolinecolor": "white",
           "zerolinewidth": 2
          }
         }
        },
        "title": {
         "text": "Top 15 posts"
        },
        "xaxis": {
         "anchor": "y",
         "domain": [
          0,
          1
         ],
         "title": {
          "text": "channel_info"
         }
        },
        "yaxis": {
         "anchor": "x",
         "domain": [
          0,
          1
         ],
         "title": {
          "text": "posts"
         }
        }
       }
      }
     },
     "metadata": {},
     "output_type": "display_data"
    }
   ],
   "source": [
    "def top_15_posts(df):\n",
    "    fig = px.bar(df, x='channel_info', y='posts', title='Top 15 posts', orientation='v')\n",
    "    fig.show()\n",
    "top_15_posts(data_clean.head(15))\n"
   ]
  },
  {
   "cell_type": "code",
   "execution_count": 152,
   "metadata": {},
   "outputs": [
    {
     "data": {
      "application/vnd.plotly.v1+json": {
       "config": {
        "plotlyServerURL": "https://plot.ly"
       },
       "data": [
        {
         "alignmentgroup": "True",
         "hovertemplate": "channel_info=%{x}<br>avg_likes=%{y}<extra></extra>",
         "legendgroup": "",
         "marker": {
          "color": "#636efa",
          "pattern": {
           "shape": ""
          }
         },
         "name": "",
         "offsetgroup": "",
         "orientation": "v",
         "showlegend": false,
         "textposition": "auto",
         "type": "bar",
         "x": [
          "cristiano",
          "kyliejenner",
          "leomessi",
          "selenagomez",
          "therock",
          "kimkardashian",
          "arianagrande",
          "beyonce",
          "khloekardashian",
          "justinbieber",
          "kendalljenner",
          "natgeo",
          "nike",
          "taylorswift",
          "jlo"
         ],
         "xaxis": "x",
         "y": [
          8700000,
          8300000,
          6800000,
          6200000,
          1900000,
          3500000,
          3700000,
          3600000,
          2400000,
          1900000,
          5500000,
          302200,
          329000,
          2400000,
          1700000
         ],
         "yaxis": "y"
        }
       ],
       "layout": {
        "barmode": "relative",
        "legend": {
         "tracegroupgap": 0
        },
        "template": {
         "data": {
          "bar": [
           {
            "error_x": {
             "color": "#2a3f5f"
            },
            "error_y": {
             "color": "#2a3f5f"
            },
            "marker": {
             "line": {
              "color": "#E5ECF6",
              "width": 0.5
             },
             "pattern": {
              "fillmode": "overlay",
              "size": 10,
              "solidity": 0.2
             }
            },
            "type": "bar"
           }
          ],
          "barpolar": [
           {
            "marker": {
             "line": {
              "color": "#E5ECF6",
              "width": 0.5
             },
             "pattern": {
              "fillmode": "overlay",
              "size": 10,
              "solidity": 0.2
             }
            },
            "type": "barpolar"
           }
          ],
          "carpet": [
           {
            "aaxis": {
             "endlinecolor": "#2a3f5f",
             "gridcolor": "white",
             "linecolor": "white",
             "minorgridcolor": "white",
             "startlinecolor": "#2a3f5f"
            },
            "baxis": {
             "endlinecolor": "#2a3f5f",
             "gridcolor": "white",
             "linecolor": "white",
             "minorgridcolor": "white",
             "startlinecolor": "#2a3f5f"
            },
            "type": "carpet"
           }
          ],
          "choropleth": [
           {
            "colorbar": {
             "outlinewidth": 0,
             "ticks": ""
            },
            "type": "choropleth"
           }
          ],
          "contour": [
           {
            "colorbar": {
             "outlinewidth": 0,
             "ticks": ""
            },
            "colorscale": [
             [
              0,
              "#0d0887"
             ],
             [
              0.1111111111111111,
              "#46039f"
             ],
             [
              0.2222222222222222,
              "#7201a8"
             ],
             [
              0.3333333333333333,
              "#9c179e"
             ],
             [
              0.4444444444444444,
              "#bd3786"
             ],
             [
              0.5555555555555556,
              "#d8576b"
             ],
             [
              0.6666666666666666,
              "#ed7953"
             ],
             [
              0.7777777777777778,
              "#fb9f3a"
             ],
             [
              0.8888888888888888,
              "#fdca26"
             ],
             [
              1,
              "#f0f921"
             ]
            ],
            "type": "contour"
           }
          ],
          "contourcarpet": [
           {
            "colorbar": {
             "outlinewidth": 0,
             "ticks": ""
            },
            "type": "contourcarpet"
           }
          ],
          "heatmap": [
           {
            "colorbar": {
             "outlinewidth": 0,
             "ticks": ""
            },
            "colorscale": [
             [
              0,
              "#0d0887"
             ],
             [
              0.1111111111111111,
              "#46039f"
             ],
             [
              0.2222222222222222,
              "#7201a8"
             ],
             [
              0.3333333333333333,
              "#9c179e"
             ],
             [
              0.4444444444444444,
              "#bd3786"
             ],
             [
              0.5555555555555556,
              "#d8576b"
             ],
             [
              0.6666666666666666,
              "#ed7953"
             ],
             [
              0.7777777777777778,
              "#fb9f3a"
             ],
             [
              0.8888888888888888,
              "#fdca26"
             ],
             [
              1,
              "#f0f921"
             ]
            ],
            "type": "heatmap"
           }
          ],
          "heatmapgl": [
           {
            "colorbar": {
             "outlinewidth": 0,
             "ticks": ""
            },
            "colorscale": [
             [
              0,
              "#0d0887"
             ],
             [
              0.1111111111111111,
              "#46039f"
             ],
             [
              0.2222222222222222,
              "#7201a8"
             ],
             [
              0.3333333333333333,
              "#9c179e"
             ],
             [
              0.4444444444444444,
              "#bd3786"
             ],
             [
              0.5555555555555556,
              "#d8576b"
             ],
             [
              0.6666666666666666,
              "#ed7953"
             ],
             [
              0.7777777777777778,
              "#fb9f3a"
             ],
             [
              0.8888888888888888,
              "#fdca26"
             ],
             [
              1,
              "#f0f921"
             ]
            ],
            "type": "heatmapgl"
           }
          ],
          "histogram": [
           {
            "marker": {
             "pattern": {
              "fillmode": "overlay",
              "size": 10,
              "solidity": 0.2
             }
            },
            "type": "histogram"
           }
          ],
          "histogram2d": [
           {
            "colorbar": {
             "outlinewidth": 0,
             "ticks": ""
            },
            "colorscale": [
             [
              0,
              "#0d0887"
             ],
             [
              0.1111111111111111,
              "#46039f"
             ],
             [
              0.2222222222222222,
              "#7201a8"
             ],
             [
              0.3333333333333333,
              "#9c179e"
             ],
             [
              0.4444444444444444,
              "#bd3786"
             ],
             [
              0.5555555555555556,
              "#d8576b"
             ],
             [
              0.6666666666666666,
              "#ed7953"
             ],
             [
              0.7777777777777778,
              "#fb9f3a"
             ],
             [
              0.8888888888888888,
              "#fdca26"
             ],
             [
              1,
              "#f0f921"
             ]
            ],
            "type": "histogram2d"
           }
          ],
          "histogram2dcontour": [
           {
            "colorbar": {
             "outlinewidth": 0,
             "ticks": ""
            },
            "colorscale": [
             [
              0,
              "#0d0887"
             ],
             [
              0.1111111111111111,
              "#46039f"
             ],
             [
              0.2222222222222222,
              "#7201a8"
             ],
             [
              0.3333333333333333,
              "#9c179e"
             ],
             [
              0.4444444444444444,
              "#bd3786"
             ],
             [
              0.5555555555555556,
              "#d8576b"
             ],
             [
              0.6666666666666666,
              "#ed7953"
             ],
             [
              0.7777777777777778,
              "#fb9f3a"
             ],
             [
              0.8888888888888888,
              "#fdca26"
             ],
             [
              1,
              "#f0f921"
             ]
            ],
            "type": "histogram2dcontour"
           }
          ],
          "mesh3d": [
           {
            "colorbar": {
             "outlinewidth": 0,
             "ticks": ""
            },
            "type": "mesh3d"
           }
          ],
          "parcoords": [
           {
            "line": {
             "colorbar": {
              "outlinewidth": 0,
              "ticks": ""
             }
            },
            "type": "parcoords"
           }
          ],
          "pie": [
           {
            "automargin": true,
            "type": "pie"
           }
          ],
          "scatter": [
           {
            "fillpattern": {
             "fillmode": "overlay",
             "size": 10,
             "solidity": 0.2
            },
            "type": "scatter"
           }
          ],
          "scatter3d": [
           {
            "line": {
             "colorbar": {
              "outlinewidth": 0,
              "ticks": ""
             }
            },
            "marker": {
             "colorbar": {
              "outlinewidth": 0,
              "ticks": ""
             }
            },
            "type": "scatter3d"
           }
          ],
          "scattercarpet": [
           {
            "marker": {
             "colorbar": {
              "outlinewidth": 0,
              "ticks": ""
             }
            },
            "type": "scattercarpet"
           }
          ],
          "scattergeo": [
           {
            "marker": {
             "colorbar": {
              "outlinewidth": 0,
              "ticks": ""
             }
            },
            "type": "scattergeo"
           }
          ],
          "scattergl": [
           {
            "marker": {
             "colorbar": {
              "outlinewidth": 0,
              "ticks": ""
             }
            },
            "type": "scattergl"
           }
          ],
          "scattermapbox": [
           {
            "marker": {
             "colorbar": {
              "outlinewidth": 0,
              "ticks": ""
             }
            },
            "type": "scattermapbox"
           }
          ],
          "scatterpolar": [
           {
            "marker": {
             "colorbar": {
              "outlinewidth": 0,
              "ticks": ""
             }
            },
            "type": "scatterpolar"
           }
          ],
          "scatterpolargl": [
           {
            "marker": {
             "colorbar": {
              "outlinewidth": 0,
              "ticks": ""
             }
            },
            "type": "scatterpolargl"
           }
          ],
          "scatterternary": [
           {
            "marker": {
             "colorbar": {
              "outlinewidth": 0,
              "ticks": ""
             }
            },
            "type": "scatterternary"
           }
          ],
          "surface": [
           {
            "colorbar": {
             "outlinewidth": 0,
             "ticks": ""
            },
            "colorscale": [
             [
              0,
              "#0d0887"
             ],
             [
              0.1111111111111111,
              "#46039f"
             ],
             [
              0.2222222222222222,
              "#7201a8"
             ],
             [
              0.3333333333333333,
              "#9c179e"
             ],
             [
              0.4444444444444444,
              "#bd3786"
             ],
             [
              0.5555555555555556,
              "#d8576b"
             ],
             [
              0.6666666666666666,
              "#ed7953"
             ],
             [
              0.7777777777777778,
              "#fb9f3a"
             ],
             [
              0.8888888888888888,
              "#fdca26"
             ],
             [
              1,
              "#f0f921"
             ]
            ],
            "type": "surface"
           }
          ],
          "table": [
           {
            "cells": {
             "fill": {
              "color": "#EBF0F8"
             },
             "line": {
              "color": "white"
             }
            },
            "header": {
             "fill": {
              "color": "#C8D4E3"
             },
             "line": {
              "color": "white"
             }
            },
            "type": "table"
           }
          ]
         },
         "layout": {
          "annotationdefaults": {
           "arrowcolor": "#2a3f5f",
           "arrowhead": 0,
           "arrowwidth": 1
          },
          "autotypenumbers": "strict",
          "coloraxis": {
           "colorbar": {
            "outlinewidth": 0,
            "ticks": ""
           }
          },
          "colorscale": {
           "diverging": [
            [
             0,
             "#8e0152"
            ],
            [
             0.1,
             "#c51b7d"
            ],
            [
             0.2,
             "#de77ae"
            ],
            [
             0.3,
             "#f1b6da"
            ],
            [
             0.4,
             "#fde0ef"
            ],
            [
             0.5,
             "#f7f7f7"
            ],
            [
             0.6,
             "#e6f5d0"
            ],
            [
             0.7,
             "#b8e186"
            ],
            [
             0.8,
             "#7fbc41"
            ],
            [
             0.9,
             "#4d9221"
            ],
            [
             1,
             "#276419"
            ]
           ],
           "sequential": [
            [
             0,
             "#0d0887"
            ],
            [
             0.1111111111111111,
             "#46039f"
            ],
            [
             0.2222222222222222,
             "#7201a8"
            ],
            [
             0.3333333333333333,
             "#9c179e"
            ],
            [
             0.4444444444444444,
             "#bd3786"
            ],
            [
             0.5555555555555556,
             "#d8576b"
            ],
            [
             0.6666666666666666,
             "#ed7953"
            ],
            [
             0.7777777777777778,
             "#fb9f3a"
            ],
            [
             0.8888888888888888,
             "#fdca26"
            ],
            [
             1,
             "#f0f921"
            ]
           ],
           "sequentialminus": [
            [
             0,
             "#0d0887"
            ],
            [
             0.1111111111111111,
             "#46039f"
            ],
            [
             0.2222222222222222,
             "#7201a8"
            ],
            [
             0.3333333333333333,
             "#9c179e"
            ],
            [
             0.4444444444444444,
             "#bd3786"
            ],
            [
             0.5555555555555556,
             "#d8576b"
            ],
            [
             0.6666666666666666,
             "#ed7953"
            ],
            [
             0.7777777777777778,
             "#fb9f3a"
            ],
            [
             0.8888888888888888,
             "#fdca26"
            ],
            [
             1,
             "#f0f921"
            ]
           ]
          },
          "colorway": [
           "#636efa",
           "#EF553B",
           "#00cc96",
           "#ab63fa",
           "#FFA15A",
           "#19d3f3",
           "#FF6692",
           "#B6E880",
           "#FF97FF",
           "#FECB52"
          ],
          "font": {
           "color": "#2a3f5f"
          },
          "geo": {
           "bgcolor": "white",
           "lakecolor": "white",
           "landcolor": "#E5ECF6",
           "showlakes": true,
           "showland": true,
           "subunitcolor": "white"
          },
          "hoverlabel": {
           "align": "left"
          },
          "hovermode": "closest",
          "mapbox": {
           "style": "light"
          },
          "paper_bgcolor": "white",
          "plot_bgcolor": "#E5ECF6",
          "polar": {
           "angularaxis": {
            "gridcolor": "white",
            "linecolor": "white",
            "ticks": ""
           },
           "bgcolor": "#E5ECF6",
           "radialaxis": {
            "gridcolor": "white",
            "linecolor": "white",
            "ticks": ""
           }
          },
          "scene": {
           "xaxis": {
            "backgroundcolor": "#E5ECF6",
            "gridcolor": "white",
            "gridwidth": 2,
            "linecolor": "white",
            "showbackground": true,
            "ticks": "",
            "zerolinecolor": "white"
           },
           "yaxis": {
            "backgroundcolor": "#E5ECF6",
            "gridcolor": "white",
            "gridwidth": 2,
            "linecolor": "white",
            "showbackground": true,
            "ticks": "",
            "zerolinecolor": "white"
           },
           "zaxis": {
            "backgroundcolor": "#E5ECF6",
            "gridcolor": "white",
            "gridwidth": 2,
            "linecolor": "white",
            "showbackground": true,
            "ticks": "",
            "zerolinecolor": "white"
           }
          },
          "shapedefaults": {
           "line": {
            "color": "#2a3f5f"
           }
          },
          "ternary": {
           "aaxis": {
            "gridcolor": "white",
            "linecolor": "white",
            "ticks": ""
           },
           "baxis": {
            "gridcolor": "white",
            "linecolor": "white",
            "ticks": ""
           },
           "bgcolor": "#E5ECF6",
           "caxis": {
            "gridcolor": "white",
            "linecolor": "white",
            "ticks": ""
           }
          },
          "title": {
           "x": 0.05
          },
          "xaxis": {
           "automargin": true,
           "gridcolor": "white",
           "linecolor": "white",
           "ticks": "",
           "title": {
            "standoff": 15
           },
           "zerolinecolor": "white",
           "zerolinewidth": 2
          },
          "yaxis": {
           "automargin": true,
           "gridcolor": "white",
           "linecolor": "white",
           "ticks": "",
           "title": {
            "standoff": 15
           },
           "zerolinecolor": "white",
           "zerolinewidth": 2
          }
         }
        },
        "title": {
         "text": "Top 15 likes"
        },
        "xaxis": {
         "anchor": "y",
         "domain": [
          0,
          1
         ],
         "title": {
          "text": "channel_info"
         }
        },
        "yaxis": {
         "anchor": "x",
         "domain": [
          0,
          1
         ],
         "title": {
          "text": "avg_likes"
         }
        }
       }
      }
     },
     "metadata": {},
     "output_type": "display_data"
    }
   ],
   "source": [
    "def top_15_likes(df):\n",
    "    fig = px.bar(df, x='channel_info', y='avg_likes', title='Top 15 likes', orientation='v')\n",
    "    fig.show()\n",
    "top_15_likes(data_clean.head(15))"
   ]
  },
  {
   "cell_type": "code",
   "execution_count": 153,
   "metadata": {},
   "outputs": [
    {
     "data": {
      "application/vnd.plotly.v1+json": {
       "config": {
        "plotlyServerURL": "https://plot.ly"
       },
       "data": [
        {
         "alignmentgroup": "True",
         "hovertemplate": "channel_info=%{x}<br>total_likes=%{y}<extra></extra>",
         "legendgroup": "",
         "marker": {
          "color": "#636efa",
          "pattern": {
           "shape": ""
          }
         },
         "name": "",
         "offsetgroup": "",
         "orientation": "v",
         "showlegend": false,
         "textposition": "auto",
         "type": "bar",
         "x": [
          "cristiano",
          "kyliejenner",
          "leomessi",
          "selenagomez",
          "therock",
          "kimkardashian",
          "arianagrande",
          "beyonce",
          "khloekardashian",
          "justinbieber",
          "kendalljenner",
          "natgeo",
          "nike",
          "taylorswift",
          "jlo"
         ],
         "xaxis": "x",
         "y": [
          29000000000,
          57400000000,
          6000000000,
          11500000000,
          12500000000,
          19900000000,
          18400000000,
          7400000000,
          9800000000,
          13900000000,
          3700000000,
          3000000000,
          313600000,
          1300000000,
          5300000000
         ],
         "yaxis": "y"
        }
       ],
       "layout": {
        "barmode": "relative",
        "legend": {
         "tracegroupgap": 0
        },
        "template": {
         "data": {
          "bar": [
           {
            "error_x": {
             "color": "#2a3f5f"
            },
            "error_y": {
             "color": "#2a3f5f"
            },
            "marker": {
             "line": {
              "color": "#E5ECF6",
              "width": 0.5
             },
             "pattern": {
              "fillmode": "overlay",
              "size": 10,
              "solidity": 0.2
             }
            },
            "type": "bar"
           }
          ],
          "barpolar": [
           {
            "marker": {
             "line": {
              "color": "#E5ECF6",
              "width": 0.5
             },
             "pattern": {
              "fillmode": "overlay",
              "size": 10,
              "solidity": 0.2
             }
            },
            "type": "barpolar"
           }
          ],
          "carpet": [
           {
            "aaxis": {
             "endlinecolor": "#2a3f5f",
             "gridcolor": "white",
             "linecolor": "white",
             "minorgridcolor": "white",
             "startlinecolor": "#2a3f5f"
            },
            "baxis": {
             "endlinecolor": "#2a3f5f",
             "gridcolor": "white",
             "linecolor": "white",
             "minorgridcolor": "white",
             "startlinecolor": "#2a3f5f"
            },
            "type": "carpet"
           }
          ],
          "choropleth": [
           {
            "colorbar": {
             "outlinewidth": 0,
             "ticks": ""
            },
            "type": "choropleth"
           }
          ],
          "contour": [
           {
            "colorbar": {
             "outlinewidth": 0,
             "ticks": ""
            },
            "colorscale": [
             [
              0,
              "#0d0887"
             ],
             [
              0.1111111111111111,
              "#46039f"
             ],
             [
              0.2222222222222222,
              "#7201a8"
             ],
             [
              0.3333333333333333,
              "#9c179e"
             ],
             [
              0.4444444444444444,
              "#bd3786"
             ],
             [
              0.5555555555555556,
              "#d8576b"
             ],
             [
              0.6666666666666666,
              "#ed7953"
             ],
             [
              0.7777777777777778,
              "#fb9f3a"
             ],
             [
              0.8888888888888888,
              "#fdca26"
             ],
             [
              1,
              "#f0f921"
             ]
            ],
            "type": "contour"
           }
          ],
          "contourcarpet": [
           {
            "colorbar": {
             "outlinewidth": 0,
             "ticks": ""
            },
            "type": "contourcarpet"
           }
          ],
          "heatmap": [
           {
            "colorbar": {
             "outlinewidth": 0,
             "ticks": ""
            },
            "colorscale": [
             [
              0,
              "#0d0887"
             ],
             [
              0.1111111111111111,
              "#46039f"
             ],
             [
              0.2222222222222222,
              "#7201a8"
             ],
             [
              0.3333333333333333,
              "#9c179e"
             ],
             [
              0.4444444444444444,
              "#bd3786"
             ],
             [
              0.5555555555555556,
              "#d8576b"
             ],
             [
              0.6666666666666666,
              "#ed7953"
             ],
             [
              0.7777777777777778,
              "#fb9f3a"
             ],
             [
              0.8888888888888888,
              "#fdca26"
             ],
             [
              1,
              "#f0f921"
             ]
            ],
            "type": "heatmap"
           }
          ],
          "heatmapgl": [
           {
            "colorbar": {
             "outlinewidth": 0,
             "ticks": ""
            },
            "colorscale": [
             [
              0,
              "#0d0887"
             ],
             [
              0.1111111111111111,
              "#46039f"
             ],
             [
              0.2222222222222222,
              "#7201a8"
             ],
             [
              0.3333333333333333,
              "#9c179e"
             ],
             [
              0.4444444444444444,
              "#bd3786"
             ],
             [
              0.5555555555555556,
              "#d8576b"
             ],
             [
              0.6666666666666666,
              "#ed7953"
             ],
             [
              0.7777777777777778,
              "#fb9f3a"
             ],
             [
              0.8888888888888888,
              "#fdca26"
             ],
             [
              1,
              "#f0f921"
             ]
            ],
            "type": "heatmapgl"
           }
          ],
          "histogram": [
           {
            "marker": {
             "pattern": {
              "fillmode": "overlay",
              "size": 10,
              "solidity": 0.2
             }
            },
            "type": "histogram"
           }
          ],
          "histogram2d": [
           {
            "colorbar": {
             "outlinewidth": 0,
             "ticks": ""
            },
            "colorscale": [
             [
              0,
              "#0d0887"
             ],
             [
              0.1111111111111111,
              "#46039f"
             ],
             [
              0.2222222222222222,
              "#7201a8"
             ],
             [
              0.3333333333333333,
              "#9c179e"
             ],
             [
              0.4444444444444444,
              "#bd3786"
             ],
             [
              0.5555555555555556,
              "#d8576b"
             ],
             [
              0.6666666666666666,
              "#ed7953"
             ],
             [
              0.7777777777777778,
              "#fb9f3a"
             ],
             [
              0.8888888888888888,
              "#fdca26"
             ],
             [
              1,
              "#f0f921"
             ]
            ],
            "type": "histogram2d"
           }
          ],
          "histogram2dcontour": [
           {
            "colorbar": {
             "outlinewidth": 0,
             "ticks": ""
            },
            "colorscale": [
             [
              0,
              "#0d0887"
             ],
             [
              0.1111111111111111,
              "#46039f"
             ],
             [
              0.2222222222222222,
              "#7201a8"
             ],
             [
              0.3333333333333333,
              "#9c179e"
             ],
             [
              0.4444444444444444,
              "#bd3786"
             ],
             [
              0.5555555555555556,
              "#d8576b"
             ],
             [
              0.6666666666666666,
              "#ed7953"
             ],
             [
              0.7777777777777778,
              "#fb9f3a"
             ],
             [
              0.8888888888888888,
              "#fdca26"
             ],
             [
              1,
              "#f0f921"
             ]
            ],
            "type": "histogram2dcontour"
           }
          ],
          "mesh3d": [
           {
            "colorbar": {
             "outlinewidth": 0,
             "ticks": ""
            },
            "type": "mesh3d"
           }
          ],
          "parcoords": [
           {
            "line": {
             "colorbar": {
              "outlinewidth": 0,
              "ticks": ""
             }
            },
            "type": "parcoords"
           }
          ],
          "pie": [
           {
            "automargin": true,
            "type": "pie"
           }
          ],
          "scatter": [
           {
            "fillpattern": {
             "fillmode": "overlay",
             "size": 10,
             "solidity": 0.2
            },
            "type": "scatter"
           }
          ],
          "scatter3d": [
           {
            "line": {
             "colorbar": {
              "outlinewidth": 0,
              "ticks": ""
             }
            },
            "marker": {
             "colorbar": {
              "outlinewidth": 0,
              "ticks": ""
             }
            },
            "type": "scatter3d"
           }
          ],
          "scattercarpet": [
           {
            "marker": {
             "colorbar": {
              "outlinewidth": 0,
              "ticks": ""
             }
            },
            "type": "scattercarpet"
           }
          ],
          "scattergeo": [
           {
            "marker": {
             "colorbar": {
              "outlinewidth": 0,
              "ticks": ""
             }
            },
            "type": "scattergeo"
           }
          ],
          "scattergl": [
           {
            "marker": {
             "colorbar": {
              "outlinewidth": 0,
              "ticks": ""
             }
            },
            "type": "scattergl"
           }
          ],
          "scattermapbox": [
           {
            "marker": {
             "colorbar": {
              "outlinewidth": 0,
              "ticks": ""
             }
            },
            "type": "scattermapbox"
           }
          ],
          "scatterpolar": [
           {
            "marker": {
             "colorbar": {
              "outlinewidth": 0,
              "ticks": ""
             }
            },
            "type": "scatterpolar"
           }
          ],
          "scatterpolargl": [
           {
            "marker": {
             "colorbar": {
              "outlinewidth": 0,
              "ticks": ""
             }
            },
            "type": "scatterpolargl"
           }
          ],
          "scatterternary": [
           {
            "marker": {
             "colorbar": {
              "outlinewidth": 0,
              "ticks": ""
             }
            },
            "type": "scatterternary"
           }
          ],
          "surface": [
           {
            "colorbar": {
             "outlinewidth": 0,
             "ticks": ""
            },
            "colorscale": [
             [
              0,
              "#0d0887"
             ],
             [
              0.1111111111111111,
              "#46039f"
             ],
             [
              0.2222222222222222,
              "#7201a8"
             ],
             [
              0.3333333333333333,
              "#9c179e"
             ],
             [
              0.4444444444444444,
              "#bd3786"
             ],
             [
              0.5555555555555556,
              "#d8576b"
             ],
             [
              0.6666666666666666,
              "#ed7953"
             ],
             [
              0.7777777777777778,
              "#fb9f3a"
             ],
             [
              0.8888888888888888,
              "#fdca26"
             ],
             [
              1,
              "#f0f921"
             ]
            ],
            "type": "surface"
           }
          ],
          "table": [
           {
            "cells": {
             "fill": {
              "color": "#EBF0F8"
             },
             "line": {
              "color": "white"
             }
            },
            "header": {
             "fill": {
              "color": "#C8D4E3"
             },
             "line": {
              "color": "white"
             }
            },
            "type": "table"
           }
          ]
         },
         "layout": {
          "annotationdefaults": {
           "arrowcolor": "#2a3f5f",
           "arrowhead": 0,
           "arrowwidth": 1
          },
          "autotypenumbers": "strict",
          "coloraxis": {
           "colorbar": {
            "outlinewidth": 0,
            "ticks": ""
           }
          },
          "colorscale": {
           "diverging": [
            [
             0,
             "#8e0152"
            ],
            [
             0.1,
             "#c51b7d"
            ],
            [
             0.2,
             "#de77ae"
            ],
            [
             0.3,
             "#f1b6da"
            ],
            [
             0.4,
             "#fde0ef"
            ],
            [
             0.5,
             "#f7f7f7"
            ],
            [
             0.6,
             "#e6f5d0"
            ],
            [
             0.7,
             "#b8e186"
            ],
            [
             0.8,
             "#7fbc41"
            ],
            [
             0.9,
             "#4d9221"
            ],
            [
             1,
             "#276419"
            ]
           ],
           "sequential": [
            [
             0,
             "#0d0887"
            ],
            [
             0.1111111111111111,
             "#46039f"
            ],
            [
             0.2222222222222222,
             "#7201a8"
            ],
            [
             0.3333333333333333,
             "#9c179e"
            ],
            [
             0.4444444444444444,
             "#bd3786"
            ],
            [
             0.5555555555555556,
             "#d8576b"
            ],
            [
             0.6666666666666666,
             "#ed7953"
            ],
            [
             0.7777777777777778,
             "#fb9f3a"
            ],
            [
             0.8888888888888888,
             "#fdca26"
            ],
            [
             1,
             "#f0f921"
            ]
           ],
           "sequentialminus": [
            [
             0,
             "#0d0887"
            ],
            [
             0.1111111111111111,
             "#46039f"
            ],
            [
             0.2222222222222222,
             "#7201a8"
            ],
            [
             0.3333333333333333,
             "#9c179e"
            ],
            [
             0.4444444444444444,
             "#bd3786"
            ],
            [
             0.5555555555555556,
             "#d8576b"
            ],
            [
             0.6666666666666666,
             "#ed7953"
            ],
            [
             0.7777777777777778,
             "#fb9f3a"
            ],
            [
             0.8888888888888888,
             "#fdca26"
            ],
            [
             1,
             "#f0f921"
            ]
           ]
          },
          "colorway": [
           "#636efa",
           "#EF553B",
           "#00cc96",
           "#ab63fa",
           "#FFA15A",
           "#19d3f3",
           "#FF6692",
           "#B6E880",
           "#FF97FF",
           "#FECB52"
          ],
          "font": {
           "color": "#2a3f5f"
          },
          "geo": {
           "bgcolor": "white",
           "lakecolor": "white",
           "landcolor": "#E5ECF6",
           "showlakes": true,
           "showland": true,
           "subunitcolor": "white"
          },
          "hoverlabel": {
           "align": "left"
          },
          "hovermode": "closest",
          "mapbox": {
           "style": "light"
          },
          "paper_bgcolor": "white",
          "plot_bgcolor": "#E5ECF6",
          "polar": {
           "angularaxis": {
            "gridcolor": "white",
            "linecolor": "white",
            "ticks": ""
           },
           "bgcolor": "#E5ECF6",
           "radialaxis": {
            "gridcolor": "white",
            "linecolor": "white",
            "ticks": ""
           }
          },
          "scene": {
           "xaxis": {
            "backgroundcolor": "#E5ECF6",
            "gridcolor": "white",
            "gridwidth": 2,
            "linecolor": "white",
            "showbackground": true,
            "ticks": "",
            "zerolinecolor": "white"
           },
           "yaxis": {
            "backgroundcolor": "#E5ECF6",
            "gridcolor": "white",
            "gridwidth": 2,
            "linecolor": "white",
            "showbackground": true,
            "ticks": "",
            "zerolinecolor": "white"
           },
           "zaxis": {
            "backgroundcolor": "#E5ECF6",
            "gridcolor": "white",
            "gridwidth": 2,
            "linecolor": "white",
            "showbackground": true,
            "ticks": "",
            "zerolinecolor": "white"
           }
          },
          "shapedefaults": {
           "line": {
            "color": "#2a3f5f"
           }
          },
          "ternary": {
           "aaxis": {
            "gridcolor": "white",
            "linecolor": "white",
            "ticks": ""
           },
           "baxis": {
            "gridcolor": "white",
            "linecolor": "white",
            "ticks": ""
           },
           "bgcolor": "#E5ECF6",
           "caxis": {
            "gridcolor": "white",
            "linecolor": "white",
            "ticks": ""
           }
          },
          "title": {
           "x": 0.05
          },
          "xaxis": {
           "automargin": true,
           "gridcolor": "white",
           "linecolor": "white",
           "ticks": "",
           "title": {
            "standoff": 15
           },
           "zerolinecolor": "white",
           "zerolinewidth": 2
          },
          "yaxis": {
           "automargin": true,
           "gridcolor": "white",
           "linecolor": "white",
           "ticks": "",
           "title": {
            "standoff": 15
           },
           "zerolinecolor": "white",
           "zerolinewidth": 2
          }
         }
        },
        "title": {
         "text": "Top 15 total likes"
        },
        "xaxis": {
         "anchor": "y",
         "domain": [
          0,
          1
         ],
         "title": {
          "text": "channel_info"
         }
        },
        "yaxis": {
         "anchor": "x",
         "domain": [
          0,
          1
         ],
         "title": {
          "text": "total_likes"
         }
        }
       }
      }
     },
     "metadata": {},
     "output_type": "display_data"
    }
   ],
   "source": [
    "def top_15_total_likes(df):\n",
    "    fig = px.bar(df, x='channel_info', y='total_likes', title='Top 15 total likes', orientation='v')\n",
    "    fig.show()\n",
    "top_15_total_likes(data_clean.head(15))"
   ]
  },
  {
   "cell_type": "code",
   "execution_count": 180,
   "metadata": {},
   "outputs": [
    {
     "data": {
      "application/vnd.plotly.v1+json": {
       "config": {
        "plotlyServerURL": "https://plot.ly"
       },
       "data": [
        {
         "domain": {
          "x": [
           0,
           1
          ],
          "y": [
           0,
           1
          ]
         },
         "hovertemplate": "channel_info=%{label}<br>avg_likes=%{value}<extra></extra>",
         "labels": [
          1,
          2,
          3,
          4,
          5,
          6,
          7,
          8,
          9,
          10
         ],
         "legendgroup": "",
         "name": "",
         "showlegend": true,
         "type": "pie",
         "values": [
          8700000,
          8300000,
          6800000,
          6200000,
          1900000,
          3500000,
          3700000,
          3600000,
          2400000,
          1900000
         ]
        }
       ],
       "layout": {
        "legend": {
         "tracegroupgap": 0
        },
        "template": {
         "data": {
          "bar": [
           {
            "error_x": {
             "color": "#2a3f5f"
            },
            "error_y": {
             "color": "#2a3f5f"
            },
            "marker": {
             "line": {
              "color": "#E5ECF6",
              "width": 0.5
             },
             "pattern": {
              "fillmode": "overlay",
              "size": 10,
              "solidity": 0.2
             }
            },
            "type": "bar"
           }
          ],
          "barpolar": [
           {
            "marker": {
             "line": {
              "color": "#E5ECF6",
              "width": 0.5
             },
             "pattern": {
              "fillmode": "overlay",
              "size": 10,
              "solidity": 0.2
             }
            },
            "type": "barpolar"
           }
          ],
          "carpet": [
           {
            "aaxis": {
             "endlinecolor": "#2a3f5f",
             "gridcolor": "white",
             "linecolor": "white",
             "minorgridcolor": "white",
             "startlinecolor": "#2a3f5f"
            },
            "baxis": {
             "endlinecolor": "#2a3f5f",
             "gridcolor": "white",
             "linecolor": "white",
             "minorgridcolor": "white",
             "startlinecolor": "#2a3f5f"
            },
            "type": "carpet"
           }
          ],
          "choropleth": [
           {
            "colorbar": {
             "outlinewidth": 0,
             "ticks": ""
            },
            "type": "choropleth"
           }
          ],
          "contour": [
           {
            "colorbar": {
             "outlinewidth": 0,
             "ticks": ""
            },
            "colorscale": [
             [
              0,
              "#0d0887"
             ],
             [
              0.1111111111111111,
              "#46039f"
             ],
             [
              0.2222222222222222,
              "#7201a8"
             ],
             [
              0.3333333333333333,
              "#9c179e"
             ],
             [
              0.4444444444444444,
              "#bd3786"
             ],
             [
              0.5555555555555556,
              "#d8576b"
             ],
             [
              0.6666666666666666,
              "#ed7953"
             ],
             [
              0.7777777777777778,
              "#fb9f3a"
             ],
             [
              0.8888888888888888,
              "#fdca26"
             ],
             [
              1,
              "#f0f921"
             ]
            ],
            "type": "contour"
           }
          ],
          "contourcarpet": [
           {
            "colorbar": {
             "outlinewidth": 0,
             "ticks": ""
            },
            "type": "contourcarpet"
           }
          ],
          "heatmap": [
           {
            "colorbar": {
             "outlinewidth": 0,
             "ticks": ""
            },
            "colorscale": [
             [
              0,
              "#0d0887"
             ],
             [
              0.1111111111111111,
              "#46039f"
             ],
             [
              0.2222222222222222,
              "#7201a8"
             ],
             [
              0.3333333333333333,
              "#9c179e"
             ],
             [
              0.4444444444444444,
              "#bd3786"
             ],
             [
              0.5555555555555556,
              "#d8576b"
             ],
             [
              0.6666666666666666,
              "#ed7953"
             ],
             [
              0.7777777777777778,
              "#fb9f3a"
             ],
             [
              0.8888888888888888,
              "#fdca26"
             ],
             [
              1,
              "#f0f921"
             ]
            ],
            "type": "heatmap"
           }
          ],
          "heatmapgl": [
           {
            "colorbar": {
             "outlinewidth": 0,
             "ticks": ""
            },
            "colorscale": [
             [
              0,
              "#0d0887"
             ],
             [
              0.1111111111111111,
              "#46039f"
             ],
             [
              0.2222222222222222,
              "#7201a8"
             ],
             [
              0.3333333333333333,
              "#9c179e"
             ],
             [
              0.4444444444444444,
              "#bd3786"
             ],
             [
              0.5555555555555556,
              "#d8576b"
             ],
             [
              0.6666666666666666,
              "#ed7953"
             ],
             [
              0.7777777777777778,
              "#fb9f3a"
             ],
             [
              0.8888888888888888,
              "#fdca26"
             ],
             [
              1,
              "#f0f921"
             ]
            ],
            "type": "heatmapgl"
           }
          ],
          "histogram": [
           {
            "marker": {
             "pattern": {
              "fillmode": "overlay",
              "size": 10,
              "solidity": 0.2
             }
            },
            "type": "histogram"
           }
          ],
          "histogram2d": [
           {
            "colorbar": {
             "outlinewidth": 0,
             "ticks": ""
            },
            "colorscale": [
             [
              0,
              "#0d0887"
             ],
             [
              0.1111111111111111,
              "#46039f"
             ],
             [
              0.2222222222222222,
              "#7201a8"
             ],
             [
              0.3333333333333333,
              "#9c179e"
             ],
             [
              0.4444444444444444,
              "#bd3786"
             ],
             [
              0.5555555555555556,
              "#d8576b"
             ],
             [
              0.6666666666666666,
              "#ed7953"
             ],
             [
              0.7777777777777778,
              "#fb9f3a"
             ],
             [
              0.8888888888888888,
              "#fdca26"
             ],
             [
              1,
              "#f0f921"
             ]
            ],
            "type": "histogram2d"
           }
          ],
          "histogram2dcontour": [
           {
            "colorbar": {
             "outlinewidth": 0,
             "ticks": ""
            },
            "colorscale": [
             [
              0,
              "#0d0887"
             ],
             [
              0.1111111111111111,
              "#46039f"
             ],
             [
              0.2222222222222222,
              "#7201a8"
             ],
             [
              0.3333333333333333,
              "#9c179e"
             ],
             [
              0.4444444444444444,
              "#bd3786"
             ],
             [
              0.5555555555555556,
              "#d8576b"
             ],
             [
              0.6666666666666666,
              "#ed7953"
             ],
             [
              0.7777777777777778,
              "#fb9f3a"
             ],
             [
              0.8888888888888888,
              "#fdca26"
             ],
             [
              1,
              "#f0f921"
             ]
            ],
            "type": "histogram2dcontour"
           }
          ],
          "mesh3d": [
           {
            "colorbar": {
             "outlinewidth": 0,
             "ticks": ""
            },
            "type": "mesh3d"
           }
          ],
          "parcoords": [
           {
            "line": {
             "colorbar": {
              "outlinewidth": 0,
              "ticks": ""
             }
            },
            "type": "parcoords"
           }
          ],
          "pie": [
           {
            "automargin": true,
            "type": "pie"
           }
          ],
          "scatter": [
           {
            "fillpattern": {
             "fillmode": "overlay",
             "size": 10,
             "solidity": 0.2
            },
            "type": "scatter"
           }
          ],
          "scatter3d": [
           {
            "line": {
             "colorbar": {
              "outlinewidth": 0,
              "ticks": ""
             }
            },
            "marker": {
             "colorbar": {
              "outlinewidth": 0,
              "ticks": ""
             }
            },
            "type": "scatter3d"
           }
          ],
          "scattercarpet": [
           {
            "marker": {
             "colorbar": {
              "outlinewidth": 0,
              "ticks": ""
             }
            },
            "type": "scattercarpet"
           }
          ],
          "scattergeo": [
           {
            "marker": {
             "colorbar": {
              "outlinewidth": 0,
              "ticks": ""
             }
            },
            "type": "scattergeo"
           }
          ],
          "scattergl": [
           {
            "marker": {
             "colorbar": {
              "outlinewidth": 0,
              "ticks": ""
             }
            },
            "type": "scattergl"
           }
          ],
          "scattermapbox": [
           {
            "marker": {
             "colorbar": {
              "outlinewidth": 0,
              "ticks": ""
             }
            },
            "type": "scattermapbox"
           }
          ],
          "scatterpolar": [
           {
            "marker": {
             "colorbar": {
              "outlinewidth": 0,
              "ticks": ""
             }
            },
            "type": "scatterpolar"
           }
          ],
          "scatterpolargl": [
           {
            "marker": {
             "colorbar": {
              "outlinewidth": 0,
              "ticks": ""
             }
            },
            "type": "scatterpolargl"
           }
          ],
          "scatterternary": [
           {
            "marker": {
             "colorbar": {
              "outlinewidth": 0,
              "ticks": ""
             }
            },
            "type": "scatterternary"
           }
          ],
          "surface": [
           {
            "colorbar": {
             "outlinewidth": 0,
             "ticks": ""
            },
            "colorscale": [
             [
              0,
              "#0d0887"
             ],
             [
              0.1111111111111111,
              "#46039f"
             ],
             [
              0.2222222222222222,
              "#7201a8"
             ],
             [
              0.3333333333333333,
              "#9c179e"
             ],
             [
              0.4444444444444444,
              "#bd3786"
             ],
             [
              0.5555555555555556,
              "#d8576b"
             ],
             [
              0.6666666666666666,
              "#ed7953"
             ],
             [
              0.7777777777777778,
              "#fb9f3a"
             ],
             [
              0.8888888888888888,
              "#fdca26"
             ],
             [
              1,
              "#f0f921"
             ]
            ],
            "type": "surface"
           }
          ],
          "table": [
           {
            "cells": {
             "fill": {
              "color": "#EBF0F8"
             },
             "line": {
              "color": "white"
             }
            },
            "header": {
             "fill": {
              "color": "#C8D4E3"
             },
             "line": {
              "color": "white"
             }
            },
            "type": "table"
           }
          ]
         },
         "layout": {
          "annotationdefaults": {
           "arrowcolor": "#2a3f5f",
           "arrowhead": 0,
           "arrowwidth": 1
          },
          "autotypenumbers": "strict",
          "coloraxis": {
           "colorbar": {
            "outlinewidth": 0,
            "ticks": ""
           }
          },
          "colorscale": {
           "diverging": [
            [
             0,
             "#8e0152"
            ],
            [
             0.1,
             "#c51b7d"
            ],
            [
             0.2,
             "#de77ae"
            ],
            [
             0.3,
             "#f1b6da"
            ],
            [
             0.4,
             "#fde0ef"
            ],
            [
             0.5,
             "#f7f7f7"
            ],
            [
             0.6,
             "#e6f5d0"
            ],
            [
             0.7,
             "#b8e186"
            ],
            [
             0.8,
             "#7fbc41"
            ],
            [
             0.9,
             "#4d9221"
            ],
            [
             1,
             "#276419"
            ]
           ],
           "sequential": [
            [
             0,
             "#0d0887"
            ],
            [
             0.1111111111111111,
             "#46039f"
            ],
            [
             0.2222222222222222,
             "#7201a8"
            ],
            [
             0.3333333333333333,
             "#9c179e"
            ],
            [
             0.4444444444444444,
             "#bd3786"
            ],
            [
             0.5555555555555556,
             "#d8576b"
            ],
            [
             0.6666666666666666,
             "#ed7953"
            ],
            [
             0.7777777777777778,
             "#fb9f3a"
            ],
            [
             0.8888888888888888,
             "#fdca26"
            ],
            [
             1,
             "#f0f921"
            ]
           ],
           "sequentialminus": [
            [
             0,
             "#0d0887"
            ],
            [
             0.1111111111111111,
             "#46039f"
            ],
            [
             0.2222222222222222,
             "#7201a8"
            ],
            [
             0.3333333333333333,
             "#9c179e"
            ],
            [
             0.4444444444444444,
             "#bd3786"
            ],
            [
             0.5555555555555556,
             "#d8576b"
            ],
            [
             0.6666666666666666,
             "#ed7953"
            ],
            [
             0.7777777777777778,
             "#fb9f3a"
            ],
            [
             0.8888888888888888,
             "#fdca26"
            ],
            [
             1,
             "#f0f921"
            ]
           ]
          },
          "colorway": [
           "#636efa",
           "#EF553B",
           "#00cc96",
           "#ab63fa",
           "#FFA15A",
           "#19d3f3",
           "#FF6692",
           "#B6E880",
           "#FF97FF",
           "#FECB52"
          ],
          "font": {
           "color": "#2a3f5f"
          },
          "geo": {
           "bgcolor": "white",
           "lakecolor": "white",
           "landcolor": "#E5ECF6",
           "showlakes": true,
           "showland": true,
           "subunitcolor": "white"
          },
          "hoverlabel": {
           "align": "left"
          },
          "hovermode": "closest",
          "mapbox": {
           "style": "light"
          },
          "paper_bgcolor": "white",
          "plot_bgcolor": "#E5ECF6",
          "polar": {
           "angularaxis": {
            "gridcolor": "white",
            "linecolor": "white",
            "ticks": ""
           },
           "bgcolor": "#E5ECF6",
           "radialaxis": {
            "gridcolor": "white",
            "linecolor": "white",
            "ticks": ""
           }
          },
          "scene": {
           "xaxis": {
            "backgroundcolor": "#E5ECF6",
            "gridcolor": "white",
            "gridwidth": 2,
            "linecolor": "white",
            "showbackground": true,
            "ticks": "",
            "zerolinecolor": "white"
           },
           "yaxis": {
            "backgroundcolor": "#E5ECF6",
            "gridcolor": "white",
            "gridwidth": 2,
            "linecolor": "white",
            "showbackground": true,
            "ticks": "",
            "zerolinecolor": "white"
           },
           "zaxis": {
            "backgroundcolor": "#E5ECF6",
            "gridcolor": "white",
            "gridwidth": 2,
            "linecolor": "white",
            "showbackground": true,
            "ticks": "",
            "zerolinecolor": "white"
           }
          },
          "shapedefaults": {
           "line": {
            "color": "#2a3f5f"
           }
          },
          "ternary": {
           "aaxis": {
            "gridcolor": "white",
            "linecolor": "white",
            "ticks": ""
           },
           "baxis": {
            "gridcolor": "white",
            "linecolor": "white",
            "ticks": ""
           },
           "bgcolor": "#E5ECF6",
           "caxis": {
            "gridcolor": "white",
            "linecolor": "white",
            "ticks": ""
           }
          },
          "title": {
           "x": 0.05
          },
          "xaxis": {
           "automargin": true,
           "gridcolor": "white",
           "linecolor": "white",
           "ticks": "",
           "title": {
            "standoff": 15
           },
           "zerolinecolor": "white",
           "zerolinewidth": 2
          },
          "yaxis": {
           "automargin": true,
           "gridcolor": "white",
           "linecolor": "white",
           "ticks": "",
           "title": {
            "standoff": 15
           },
           "zerolinecolor": "white",
           "zerolinewidth": 2
          }
         }
        },
        "title": {
         "text": "Top 10 new post avg like"
        }
       }
      }
     },
     "metadata": {},
     "output_type": "display_data"
    }
   ],
   "source": [
    "def top_new_post_avg_like(df):\n",
    "    fig = px.pie(df, values='avg_likes', names='channel_info', title='Top 10 new post avg like')\n",
    "\n",
    "    fig.show()\n",
    "top_new_post_avg_like(data_clean.head(10))"
   ]
  },
  {
   "cell_type": "code",
   "execution_count": 181,
   "metadata": {},
   "outputs": [
    {
     "data": {
      "application/vnd.plotly.v1+json": {
       "config": {
        "plotlyServerURL": "https://plot.ly"
       },
       "data": [
        {
         "branchvalues": "total",
         "domain": {
          "x": [
           0,
           1
          ],
          "y": [
           0,
           1
          ]
         },
         "hovertemplate": "labels=%{label}<br>rank=%{value}<br>parent=%{parent}<br>id=%{id}<extra></extra>",
         "ids": [
          "Spain/1",
          "United States/2",
          "Other country/3",
          "United States/4",
          "United States/5",
          "United States/6",
          "United States/7",
          "United States/8",
          "United States/9",
          "Canada/10",
          "United States/11",
          "United States/12",
          "United States/13",
          "United States/14",
          "United States/15",
          "Other country/16",
          "United States/17",
          "United States/18",
          "Other country/19",
          "Brazil/20",
          "Other country/21",
          "United States/22",
          "United States/23",
          "United States/24",
          "United States/25",
          "United States/26",
          "Other country/27",
          "United States/28",
          "Spain/29",
          "Netherlands/30",
          "United States/31",
          "Other country/32",
          "Other country/33",
          "United Kingdom/34",
          "United States/35",
          "United States/36",
          "United States/37",
          "United States/38",
          "Other country/39",
          "Other country/40",
          "Other country/41",
          "United States/42",
          "United States/43",
          "Other country/44",
          "United States/45",
          "Other country/46",
          "India/47",
          "United States/48",
          "Canada/49",
          "Other country/50",
          "India/51",
          "India/52",
          "India/53",
          "Other country/54",
          "Brazil/55",
          "United States/56",
          "Uruguay/57",
          "India/58",
          "Turkey/59",
          "United States/60",
          "United States/61",
          "United States/62",
          "Indonesia/63",
          "United States/64",
          "Other country/65",
          "Colombia/66",
          "Other country/67",
          "India/68",
          "France/69",
          "Other country/70",
          "United Kingdom/71",
          "Other country/72",
          "Brazil/73",
          "United States/74",
          "Brazil/75",
          "United States/76",
          "Spain/77",
          "Australia/78",
          "India/79",
          "France/80",
          "Other country/81",
          "Other country/82",
          "Other country/83",
          "United States/84",
          "United Kingdom/85",
          "Brazil/86",
          "India/87",
          "United States/88",
          "Other country/89",
          "United States/90",
          "United States/91",
          "Other country/92",
          "Other country/93",
          "Other country/94",
          "Indonesia/95",
          "Netherlands/96",
          "United States/97",
          "United States/98",
          "Other country/99",
          "India/100",
          "Colombia/101",
          "United States/102",
          "Other country/103",
          "United States/104",
          "Other country/105",
          "Italy/106",
          "Indonesia/107",
          "France/108",
          "Other country/109",
          "Other country/110",
          "United States/111",
          "Other country/112",
          "Other country/113",
          "United Arab Emirates/114",
          "United States/115",
          "Other country/116",
          "United States/117",
          "United States/118",
          "United States/119",
          "Brazil/120",
          "United States/121",
          "United States/122",
          "Puerto Rico/123",
          "United States/124",
          "United States/125",
          "Other country/126",
          "Other country/127",
          "Brazil/128",
          "Other country/129",
          "Brazil/130",
          "Other country/131",
          "India/132",
          "Cã´Te D'Ivoire/133",
          "Colombia/134",
          "Spain/135",
          "United States/136",
          "United States/137",
          "Other country/138",
          "Other country/139",
          "Turkey/140",
          "Other country/141",
          "Brazil/142",
          "Anguilla/143",
          "Other country/144",
          "Other country/145",
          "Switzerland/146",
          "Brazil/147",
          "Other country/148",
          "Other country/149",
          "Spain/150",
          "Indonesia/151",
          "United Kingdom/152",
          "United States/153",
          "United States/154",
          "Other country/155",
          "Other country/156",
          "Other country/157",
          "Other country/158",
          "United States/159",
          "Indonesia/160",
          "United States/161",
          "Sweden/162",
          "Other country/163",
          "Other country/164",
          "Other country/165",
          "Other country/166",
          "Other country/167",
          "Other country/168",
          "Indonesia/169",
          "France/170",
          "Other country/171",
          "United States/172",
          "British Virgin Islands/173",
          "Other country/174",
          "Czech Republic/175",
          "Other country/176",
          "India/177",
          "Mexico/178",
          "United States/179",
          "Other country/180",
          "Brazil/181",
          "Brazil/182",
          "Other country/183",
          "Other country/184",
          "Mexico/185",
          "Other country/186",
          "United States/187",
          "Other country/188",
          "United States/189",
          "United States/190",
          "Germany/191",
          "Canada/192",
          "Russia/193",
          "France/194",
          "India/195",
          "United States/196",
          "France/197",
          "Brazil/198",
          "United States/199",
          "Indonesia/200",
          "Anguilla",
          "Australia",
          "Brazil",
          "British Virgin Islands",
          "Canada",
          "Colombia",
          "Czech Republic",
          "Cã´Te D'Ivoire",
          "France",
          "Germany",
          "India",
          "Indonesia",
          "Italy",
          "Mexico",
          "Netherlands",
          "Other country",
          "Puerto Rico",
          "Russia",
          "Spain",
          "Sweden",
          "Switzerland",
          "Turkey",
          "United Arab Emirates",
          "United Kingdom",
          "United States",
          "Uruguay"
         ],
         "labels": [
          "1",
          "2",
          "3",
          "4",
          "5",
          "6",
          "7",
          "8",
          "9",
          "10",
          "11",
          "12",
          "13",
          "14",
          "15",
          "16",
          "17",
          "18",
          "19",
          "20",
          "21",
          "22",
          "23",
          "24",
          "25",
          "26",
          "27",
          "28",
          "29",
          "30",
          "31",
          "32",
          "33",
          "34",
          "35",
          "36",
          "37",
          "38",
          "39",
          "40",
          "41",
          "42",
          "43",
          "44",
          "45",
          "46",
          "47",
          "48",
          "49",
          "50",
          "51",
          "52",
          "53",
          "54",
          "55",
          "56",
          "57",
          "58",
          "59",
          "60",
          "61",
          "62",
          "63",
          "64",
          "65",
          "66",
          "67",
          "68",
          "69",
          "70",
          "71",
          "72",
          "73",
          "74",
          "75",
          "76",
          "77",
          "78",
          "79",
          "80",
          "81",
          "82",
          "83",
          "84",
          "85",
          "86",
          "87",
          "88",
          "89",
          "90",
          "91",
          "92",
          "93",
          "94",
          "95",
          "96",
          "97",
          "98",
          "99",
          "100",
          "101",
          "102",
          "103",
          "104",
          "105",
          "106",
          "107",
          "108",
          "109",
          "110",
          "111",
          "112",
          "113",
          "114",
          "115",
          "116",
          "117",
          "118",
          "119",
          "120",
          "121",
          "122",
          "123",
          "124",
          "125",
          "126",
          "127",
          "128",
          "129",
          "130",
          "131",
          "132",
          "133",
          "134",
          "135",
          "136",
          "137",
          "138",
          "139",
          "140",
          "141",
          "142",
          "143",
          "144",
          "145",
          "146",
          "147",
          "148",
          "149",
          "150",
          "151",
          "152",
          "153",
          "154",
          "155",
          "156",
          "157",
          "158",
          "159",
          "160",
          "161",
          "162",
          "163",
          "164",
          "165",
          "166",
          "167",
          "168",
          "169",
          "170",
          "171",
          "172",
          "173",
          "174",
          "175",
          "176",
          "177",
          "178",
          "179",
          "180",
          "181",
          "182",
          "183",
          "184",
          "185",
          "186",
          "187",
          "188",
          "189",
          "190",
          "191",
          "192",
          "193",
          "194",
          "195",
          "196",
          "197",
          "198",
          "199",
          "200",
          "Anguilla",
          "Australia",
          "Brazil",
          "British Virgin Islands",
          "Canada",
          "Colombia",
          "Czech Republic",
          "Cã´Te D'Ivoire",
          "France",
          "Germany",
          "India",
          "Indonesia",
          "Italy",
          "Mexico",
          "Netherlands",
          "Other country",
          "Puerto Rico",
          "Russia",
          "Spain",
          "Sweden",
          "Switzerland",
          "Turkey",
          "United Arab Emirates",
          "United Kingdom",
          "United States",
          "Uruguay"
         ],
         "name": "",
         "parents": [
          "Spain",
          "United States",
          "Other country",
          "United States",
          "United States",
          "United States",
          "United States",
          "United States",
          "United States",
          "Canada",
          "United States",
          "United States",
          "United States",
          "United States",
          "United States",
          "Other country",
          "United States",
          "United States",
          "Other country",
          "Brazil",
          "Other country",
          "United States",
          "United States",
          "United States",
          "United States",
          "United States",
          "Other country",
          "United States",
          "Spain",
          "Netherlands",
          "United States",
          "Other country",
          "Other country",
          "United Kingdom",
          "United States",
          "United States",
          "United States",
          "United States",
          "Other country",
          "Other country",
          "Other country",
          "United States",
          "United States",
          "Other country",
          "United States",
          "Other country",
          "India",
          "United States",
          "Canada",
          "Other country",
          "India",
          "India",
          "India",
          "Other country",
          "Brazil",
          "United States",
          "Uruguay",
          "India",
          "Turkey",
          "United States",
          "United States",
          "United States",
          "Indonesia",
          "United States",
          "Other country",
          "Colombia",
          "Other country",
          "India",
          "France",
          "Other country",
          "United Kingdom",
          "Other country",
          "Brazil",
          "United States",
          "Brazil",
          "United States",
          "Spain",
          "Australia",
          "India",
          "France",
          "Other country",
          "Other country",
          "Other country",
          "United States",
          "United Kingdom",
          "Brazil",
          "India",
          "United States",
          "Other country",
          "United States",
          "United States",
          "Other country",
          "Other country",
          "Other country",
          "Indonesia",
          "Netherlands",
          "United States",
          "United States",
          "Other country",
          "India",
          "Colombia",
          "United States",
          "Other country",
          "United States",
          "Other country",
          "Italy",
          "Indonesia",
          "France",
          "Other country",
          "Other country",
          "United States",
          "Other country",
          "Other country",
          "United Arab Emirates",
          "United States",
          "Other country",
          "United States",
          "United States",
          "United States",
          "Brazil",
          "United States",
          "United States",
          "Puerto Rico",
          "United States",
          "United States",
          "Other country",
          "Other country",
          "Brazil",
          "Other country",
          "Brazil",
          "Other country",
          "India",
          "Cã´Te D'Ivoire",
          "Colombia",
          "Spain",
          "United States",
          "United States",
          "Other country",
          "Other country",
          "Turkey",
          "Other country",
          "Brazil",
          "Anguilla",
          "Other country",
          "Other country",
          "Switzerland",
          "Brazil",
          "Other country",
          "Other country",
          "Spain",
          "Indonesia",
          "United Kingdom",
          "United States",
          "United States",
          "Other country",
          "Other country",
          "Other country",
          "Other country",
          "United States",
          "Indonesia",
          "United States",
          "Sweden",
          "Other country",
          "Other country",
          "Other country",
          "Other country",
          "Other country",
          "Other country",
          "Indonesia",
          "France",
          "Other country",
          "United States",
          "British Virgin Islands",
          "Other country",
          "Czech Republic",
          "Other country",
          "India",
          "Mexico",
          "United States",
          "Other country",
          "Brazil",
          "Brazil",
          "Other country",
          "Other country",
          "Mexico",
          "Other country",
          "United States",
          "Other country",
          "United States",
          "United States",
          "Germany",
          "Canada",
          "Russia",
          "France",
          "India",
          "United States",
          "France",
          "Brazil",
          "United States",
          "Indonesia",
          "",
          "",
          "",
          "",
          "",
          "",
          "",
          "",
          "",
          "",
          "",
          "",
          "",
          "",
          "",
          "",
          "",
          "",
          "",
          "",
          "",
          "",
          "",
          "",
          "",
          ""
         ],
         "type": "sunburst",
         "values": [
          1,
          2,
          3,
          4,
          5,
          6,
          7,
          8,
          9,
          10,
          11,
          12,
          13,
          14,
          15,
          16,
          17,
          18,
          19,
          20,
          21,
          22,
          23,
          24,
          25,
          26,
          27,
          28,
          29,
          30,
          31,
          32,
          33,
          34,
          35,
          36,
          37,
          38,
          39,
          40,
          41,
          42,
          43,
          44,
          45,
          46,
          47,
          48,
          49,
          50,
          51,
          52,
          53,
          54,
          55,
          56,
          57,
          58,
          59,
          60,
          61,
          62,
          63,
          64,
          65,
          66,
          67,
          68,
          69,
          70,
          71,
          72,
          73,
          74,
          75,
          76,
          77,
          78,
          79,
          80,
          81,
          82,
          83,
          84,
          85,
          86,
          87,
          88,
          89,
          90,
          91,
          92,
          93,
          94,
          95,
          96,
          97,
          98,
          99,
          100,
          101,
          102,
          103,
          104,
          105,
          106,
          107,
          108,
          109,
          110,
          111,
          112,
          113,
          114,
          115,
          116,
          117,
          118,
          119,
          120,
          121,
          122,
          123,
          124,
          125,
          126,
          127,
          128,
          129,
          130,
          131,
          132,
          133,
          134,
          135,
          136,
          137,
          138,
          139,
          140,
          141,
          142,
          143,
          144,
          145,
          146,
          147,
          148,
          149,
          150,
          151,
          152,
          153,
          154,
          155,
          156,
          157,
          158,
          159,
          160,
          161,
          162,
          163,
          164,
          165,
          166,
          167,
          168,
          169,
          170,
          171,
          172,
          173,
          174,
          175,
          176,
          177,
          178,
          179,
          180,
          181,
          182,
          183,
          184,
          185,
          186,
          187,
          188,
          189,
          190,
          191,
          192,
          193,
          194,
          195,
          196,
          197,
          198,
          199,
          200,
          143,
          78,
          1537,
          173,
          251,
          301,
          175,
          133,
          818,
          191,
          1099,
          945,
          106,
          363,
          126,
          6798,
          123,
          193,
          392,
          162,
          146,
          199,
          114,
          342,
          5135,
          57
         ]
        }
       ],
       "layout": {
        "legend": {
         "tracegroupgap": 0
        },
        "template": {
         "data": {
          "bar": [
           {
            "error_x": {
             "color": "#2a3f5f"
            },
            "error_y": {
             "color": "#2a3f5f"
            },
            "marker": {
             "line": {
              "color": "#E5ECF6",
              "width": 0.5
             },
             "pattern": {
              "fillmode": "overlay",
              "size": 10,
              "solidity": 0.2
             }
            },
            "type": "bar"
           }
          ],
          "barpolar": [
           {
            "marker": {
             "line": {
              "color": "#E5ECF6",
              "width": 0.5
             },
             "pattern": {
              "fillmode": "overlay",
              "size": 10,
              "solidity": 0.2
             }
            },
            "type": "barpolar"
           }
          ],
          "carpet": [
           {
            "aaxis": {
             "endlinecolor": "#2a3f5f",
             "gridcolor": "white",
             "linecolor": "white",
             "minorgridcolor": "white",
             "startlinecolor": "#2a3f5f"
            },
            "baxis": {
             "endlinecolor": "#2a3f5f",
             "gridcolor": "white",
             "linecolor": "white",
             "minorgridcolor": "white",
             "startlinecolor": "#2a3f5f"
            },
            "type": "carpet"
           }
          ],
          "choropleth": [
           {
            "colorbar": {
             "outlinewidth": 0,
             "ticks": ""
            },
            "type": "choropleth"
           }
          ],
          "contour": [
           {
            "colorbar": {
             "outlinewidth": 0,
             "ticks": ""
            },
            "colorscale": [
             [
              0,
              "#0d0887"
             ],
             [
              0.1111111111111111,
              "#46039f"
             ],
             [
              0.2222222222222222,
              "#7201a8"
             ],
             [
              0.3333333333333333,
              "#9c179e"
             ],
             [
              0.4444444444444444,
              "#bd3786"
             ],
             [
              0.5555555555555556,
              "#d8576b"
             ],
             [
              0.6666666666666666,
              "#ed7953"
             ],
             [
              0.7777777777777778,
              "#fb9f3a"
             ],
             [
              0.8888888888888888,
              "#fdca26"
             ],
             [
              1,
              "#f0f921"
             ]
            ],
            "type": "contour"
           }
          ],
          "contourcarpet": [
           {
            "colorbar": {
             "outlinewidth": 0,
             "ticks": ""
            },
            "type": "contourcarpet"
           }
          ],
          "heatmap": [
           {
            "colorbar": {
             "outlinewidth": 0,
             "ticks": ""
            },
            "colorscale": [
             [
              0,
              "#0d0887"
             ],
             [
              0.1111111111111111,
              "#46039f"
             ],
             [
              0.2222222222222222,
              "#7201a8"
             ],
             [
              0.3333333333333333,
              "#9c179e"
             ],
             [
              0.4444444444444444,
              "#bd3786"
             ],
             [
              0.5555555555555556,
              "#d8576b"
             ],
             [
              0.6666666666666666,
              "#ed7953"
             ],
             [
              0.7777777777777778,
              "#fb9f3a"
             ],
             [
              0.8888888888888888,
              "#fdca26"
             ],
             [
              1,
              "#f0f921"
             ]
            ],
            "type": "heatmap"
           }
          ],
          "heatmapgl": [
           {
            "colorbar": {
             "outlinewidth": 0,
             "ticks": ""
            },
            "colorscale": [
             [
              0,
              "#0d0887"
             ],
             [
              0.1111111111111111,
              "#46039f"
             ],
             [
              0.2222222222222222,
              "#7201a8"
             ],
             [
              0.3333333333333333,
              "#9c179e"
             ],
             [
              0.4444444444444444,
              "#bd3786"
             ],
             [
              0.5555555555555556,
              "#d8576b"
             ],
             [
              0.6666666666666666,
              "#ed7953"
             ],
             [
              0.7777777777777778,
              "#fb9f3a"
             ],
             [
              0.8888888888888888,
              "#fdca26"
             ],
             [
              1,
              "#f0f921"
             ]
            ],
            "type": "heatmapgl"
           }
          ],
          "histogram": [
           {
            "marker": {
             "pattern": {
              "fillmode": "overlay",
              "size": 10,
              "solidity": 0.2
             }
            },
            "type": "histogram"
           }
          ],
          "histogram2d": [
           {
            "colorbar": {
             "outlinewidth": 0,
             "ticks": ""
            },
            "colorscale": [
             [
              0,
              "#0d0887"
             ],
             [
              0.1111111111111111,
              "#46039f"
             ],
             [
              0.2222222222222222,
              "#7201a8"
             ],
             [
              0.3333333333333333,
              "#9c179e"
             ],
             [
              0.4444444444444444,
              "#bd3786"
             ],
             [
              0.5555555555555556,
              "#d8576b"
             ],
             [
              0.6666666666666666,
              "#ed7953"
             ],
             [
              0.7777777777777778,
              "#fb9f3a"
             ],
             [
              0.8888888888888888,
              "#fdca26"
             ],
             [
              1,
              "#f0f921"
             ]
            ],
            "type": "histogram2d"
           }
          ],
          "histogram2dcontour": [
           {
            "colorbar": {
             "outlinewidth": 0,
             "ticks": ""
            },
            "colorscale": [
             [
              0,
              "#0d0887"
             ],
             [
              0.1111111111111111,
              "#46039f"
             ],
             [
              0.2222222222222222,
              "#7201a8"
             ],
             [
              0.3333333333333333,
              "#9c179e"
             ],
             [
              0.4444444444444444,
              "#bd3786"
             ],
             [
              0.5555555555555556,
              "#d8576b"
             ],
             [
              0.6666666666666666,
              "#ed7953"
             ],
             [
              0.7777777777777778,
              "#fb9f3a"
             ],
             [
              0.8888888888888888,
              "#fdca26"
             ],
             [
              1,
              "#f0f921"
             ]
            ],
            "type": "histogram2dcontour"
           }
          ],
          "mesh3d": [
           {
            "colorbar": {
             "outlinewidth": 0,
             "ticks": ""
            },
            "type": "mesh3d"
           }
          ],
          "parcoords": [
           {
            "line": {
             "colorbar": {
              "outlinewidth": 0,
              "ticks": ""
             }
            },
            "type": "parcoords"
           }
          ],
          "pie": [
           {
            "automargin": true,
            "type": "pie"
           }
          ],
          "scatter": [
           {
            "fillpattern": {
             "fillmode": "overlay",
             "size": 10,
             "solidity": 0.2
            },
            "type": "scatter"
           }
          ],
          "scatter3d": [
           {
            "line": {
             "colorbar": {
              "outlinewidth": 0,
              "ticks": ""
             }
            },
            "marker": {
             "colorbar": {
              "outlinewidth": 0,
              "ticks": ""
             }
            },
            "type": "scatter3d"
           }
          ],
          "scattercarpet": [
           {
            "marker": {
             "colorbar": {
              "outlinewidth": 0,
              "ticks": ""
             }
            },
            "type": "scattercarpet"
           }
          ],
          "scattergeo": [
           {
            "marker": {
             "colorbar": {
              "outlinewidth": 0,
              "ticks": ""
             }
            },
            "type": "scattergeo"
           }
          ],
          "scattergl": [
           {
            "marker": {
             "colorbar": {
              "outlinewidth": 0,
              "ticks": ""
             }
            },
            "type": "scattergl"
           }
          ],
          "scattermapbox": [
           {
            "marker": {
             "colorbar": {
              "outlinewidth": 0,
              "ticks": ""
             }
            },
            "type": "scattermapbox"
           }
          ],
          "scatterpolar": [
           {
            "marker": {
             "colorbar": {
              "outlinewidth": 0,
              "ticks": ""
             }
            },
            "type": "scatterpolar"
           }
          ],
          "scatterpolargl": [
           {
            "marker": {
             "colorbar": {
              "outlinewidth": 0,
              "ticks": ""
             }
            },
            "type": "scatterpolargl"
           }
          ],
          "scatterternary": [
           {
            "marker": {
             "colorbar": {
              "outlinewidth": 0,
              "ticks": ""
             }
            },
            "type": "scatterternary"
           }
          ],
          "surface": [
           {
            "colorbar": {
             "outlinewidth": 0,
             "ticks": ""
            },
            "colorscale": [
             [
              0,
              "#0d0887"
             ],
             [
              0.1111111111111111,
              "#46039f"
             ],
             [
              0.2222222222222222,
              "#7201a8"
             ],
             [
              0.3333333333333333,
              "#9c179e"
             ],
             [
              0.4444444444444444,
              "#bd3786"
             ],
             [
              0.5555555555555556,
              "#d8576b"
             ],
             [
              0.6666666666666666,
              "#ed7953"
             ],
             [
              0.7777777777777778,
              "#fb9f3a"
             ],
             [
              0.8888888888888888,
              "#fdca26"
             ],
             [
              1,
              "#f0f921"
             ]
            ],
            "type": "surface"
           }
          ],
          "table": [
           {
            "cells": {
             "fill": {
              "color": "#EBF0F8"
             },
             "line": {
              "color": "white"
             }
            },
            "header": {
             "fill": {
              "color": "#C8D4E3"
             },
             "line": {
              "color": "white"
             }
            },
            "type": "table"
           }
          ]
         },
         "layout": {
          "annotationdefaults": {
           "arrowcolor": "#2a3f5f",
           "arrowhead": 0,
           "arrowwidth": 1
          },
          "autotypenumbers": "strict",
          "coloraxis": {
           "colorbar": {
            "outlinewidth": 0,
            "ticks": ""
           }
          },
          "colorscale": {
           "diverging": [
            [
             0,
             "#8e0152"
            ],
            [
             0.1,
             "#c51b7d"
            ],
            [
             0.2,
             "#de77ae"
            ],
            [
             0.3,
             "#f1b6da"
            ],
            [
             0.4,
             "#fde0ef"
            ],
            [
             0.5,
             "#f7f7f7"
            ],
            [
             0.6,
             "#e6f5d0"
            ],
            [
             0.7,
             "#b8e186"
            ],
            [
             0.8,
             "#7fbc41"
            ],
            [
             0.9,
             "#4d9221"
            ],
            [
             1,
             "#276419"
            ]
           ],
           "sequential": [
            [
             0,
             "#0d0887"
            ],
            [
             0.1111111111111111,
             "#46039f"
            ],
            [
             0.2222222222222222,
             "#7201a8"
            ],
            [
             0.3333333333333333,
             "#9c179e"
            ],
            [
             0.4444444444444444,
             "#bd3786"
            ],
            [
             0.5555555555555556,
             "#d8576b"
            ],
            [
             0.6666666666666666,
             "#ed7953"
            ],
            [
             0.7777777777777778,
             "#fb9f3a"
            ],
            [
             0.8888888888888888,
             "#fdca26"
            ],
            [
             1,
             "#f0f921"
            ]
           ],
           "sequentialminus": [
            [
             0,
             "#0d0887"
            ],
            [
             0.1111111111111111,
             "#46039f"
            ],
            [
             0.2222222222222222,
             "#7201a8"
            ],
            [
             0.3333333333333333,
             "#9c179e"
            ],
            [
             0.4444444444444444,
             "#bd3786"
            ],
            [
             0.5555555555555556,
             "#d8576b"
            ],
            [
             0.6666666666666666,
             "#ed7953"
            ],
            [
             0.7777777777777778,
             "#fb9f3a"
            ],
            [
             0.8888888888888888,
             "#fdca26"
            ],
            [
             1,
             "#f0f921"
            ]
           ]
          },
          "colorway": [
           "#636efa",
           "#EF553B",
           "#00cc96",
           "#ab63fa",
           "#FFA15A",
           "#19d3f3",
           "#FF6692",
           "#B6E880",
           "#FF97FF",
           "#FECB52"
          ],
          "font": {
           "color": "#2a3f5f"
          },
          "geo": {
           "bgcolor": "white",
           "lakecolor": "white",
           "landcolor": "#E5ECF6",
           "showlakes": true,
           "showland": true,
           "subunitcolor": "white"
          },
          "hoverlabel": {
           "align": "left"
          },
          "hovermode": "closest",
          "mapbox": {
           "style": "light"
          },
          "paper_bgcolor": "white",
          "plot_bgcolor": "#E5ECF6",
          "polar": {
           "angularaxis": {
            "gridcolor": "white",
            "linecolor": "white",
            "ticks": ""
           },
           "bgcolor": "#E5ECF6",
           "radialaxis": {
            "gridcolor": "white",
            "linecolor": "white",
            "ticks": ""
           }
          },
          "scene": {
           "xaxis": {
            "backgroundcolor": "#E5ECF6",
            "gridcolor": "white",
            "gridwidth": 2,
            "linecolor": "white",
            "showbackground": true,
            "ticks": "",
            "zerolinecolor": "white"
           },
           "yaxis": {
            "backgroundcolor": "#E5ECF6",
            "gridcolor": "white",
            "gridwidth": 2,
            "linecolor": "white",
            "showbackground": true,
            "ticks": "",
            "zerolinecolor": "white"
           },
           "zaxis": {
            "backgroundcolor": "#E5ECF6",
            "gridcolor": "white",
            "gridwidth": 2,
            "linecolor": "white",
            "showbackground": true,
            "ticks": "",
            "zerolinecolor": "white"
           }
          },
          "shapedefaults": {
           "line": {
            "color": "#2a3f5f"
           }
          },
          "ternary": {
           "aaxis": {
            "gridcolor": "white",
            "linecolor": "white",
            "ticks": ""
           },
           "baxis": {
            "gridcolor": "white",
            "linecolor": "white",
            "ticks": ""
           },
           "bgcolor": "#E5ECF6",
           "caxis": {
            "gridcolor": "white",
            "linecolor": "white",
            "ticks": ""
           }
          },
          "title": {
           "x": 0.05
          },
          "xaxis": {
           "automargin": true,
           "gridcolor": "white",
           "linecolor": "white",
           "ticks": "",
           "title": {
            "standoff": 15
           },
           "zerolinecolor": "white",
           "zerolinewidth": 2
          },
          "yaxis": {
           "automargin": true,
           "gridcolor": "white",
           "linecolor": "white",
           "ticks": "",
           "title": {
            "standoff": 15
           },
           "zerolinecolor": "white",
           "zerolinewidth": 2
          }
         }
        },
        "title": {
         "text": "Top Country"
        }
       }
      }
     },
     "metadata": {},
     "output_type": "display_data"
    }
   ],
   "source": [
    "def sunburst_country(df):\n",
    "    fig = px.sunburst(df, path=[\"country\", \"channel_info\"], names='channel_info', values='rank', title='Top Country')\n",
    "    fig.show()\n",
    "sunburst_country(data_clean)"
   ]
  },
  {
   "cell_type": "code",
   "execution_count": 156,
   "metadata": {},
   "outputs": [
    {
     "data": {
      "application/vnd.plotly.v1+json": {
       "config": {
        "plotlyServerURL": "https://plot.ly"
       },
       "data": [
        {
         "branchvalues": "total",
         "domain": {
          "x": [
           0,
           1
          ],
          "y": [
           0,
           1
          ]
         },
         "hovertemplate": "labels=%{label}<br>followers=%{value}<br>parent=%{parent}<br>id=%{id}<extra></extra>",
         "ids": [
          "Netherlands/433",
          "United States/5-Minute Crafts GIRLY",
          "United States/9gag",
          "Other country/Shakira",
          "Other country/addisonraee",
          "United States/adele",
          "Other country/adidasoriginals",
          "Other country/akshaykumar",
          "India/aliaabhatt",
          "Spain/andresiniesta8",
          "United States/anitta",
          "France/antogriezmann",
          "Other country/anushkasen0408",
          "Other country/anushkasharma",
          "United States/arianagrande",
          "Indonesia/ayutingting92",
          "Other country/badbunnypr",
          "United States/badgalriri",
          "United States/barackobama",
          "India/beingsalmankhan",
          "United Kingdom/bellahadid",
          "United States/beyonce",
          "Other country/billieeilish",
          "Other country/blackpinkofficial",
          "United States/blakelively",
          "Germany/bmw",
          "Turkey/britneyspears",
          "United States/brunamarquezine",
          "Uruguay/bts.bighitofficial",
          "Spain/buzzfeedtasty",
          "United States/camila_cabello",
          "United States/caradelevingne",
          "Netherlands/champagnepapi",
          "Other country/charlidamelio",
          "United States/chrisbrownofficial",
          "Australia/chrishemsworth",
          "United States/chrissyteigen",
          "Other country/colesprouse",
          "Spain/cristiano",
          "Other country/cznburak",
          "Puerto Rico/daddyyankee",
          "Canada/danbilzerian",
          "Mexico/dannapaola",
          "United States/davidbeckham",
          "United States/ddlovato",
          "India/deepikapadukone",
          "Other country/dior",
          "United States/dishapatani",
          "United States/disney",
          "United States/dovecameron",
          "United Kingdom/dualipa",
          "United States/eminem",
          "United States/emmawatson",
          "Other country/fcbarcelona",
          "United States/gal_gadot",
          "Other country/garethbale11",
          "Other country/georginagio",
          "United States/gigihadid",
          "Other country/gisel_la",
          "Italy/gucci",
          "Brazil/gusttavolima",
          "Other country/haileybieber",
          "United States/harrystyles",
          "Sweden/hm",
          "Cã´Te D'Ivoire/hrithikroshan",
          "United States/hudabeauty",
          "United States/iambeckyg",
          "United States/iamcardib",
          "Other country/iamzlatanibrahimovic",
          "Brazil/ivetesangalo",
          "Other country/j.m",
          "India/jacquelinef143",
          "Colombia/jamesrodriguez10",
          "Other country/jannatzubair29",
          "Other country/jbalvin",
          "Other country/jennierubyjane",
          "Other country/jenniferaniston",
          "United States/jlo",
          "Other country/jokowi",
          "Canada/justinbieber",
          "United States/justintimberlake",
          "Other country/juventus",
          "Other country/k.mbappe",
          "Other country/kapilsharma",
          "Spain/karimbenzema",
          "India/karolg",
          "India/katrinakaif",
          "Other country/katyperry",
          "United States/kendalljenner",
          "United States/kevinhart4real",
          "Russia/khabib_nurmagomedov",
          "United States/khloekardashian",
          "Mexico/kimberly.loaiza",
          "United States/kimkardashian",
          "Other country/kingjames",
          "United States/kourtneykardash",
          "United States/krisjenner",
          "India/kritisanon",
          "United States/kyliejenner",
          "United States/ladygaga",
          "Other country/lalalalisa_m",
          "Brazil/larissamanoela",
          "Indonesia/laudyacynthiabella",
          "United States/lelepons",
          "Other country/leomessi",
          "Other country/leonardodicaprio",
          "United Kingdom/liverpoolfc",
          "France/louisvuitton",
          "Brazil/luansantana",
          "Other country/luissuarez9",
          "Other country/lunamaya",
          "Other country/mahi7781",
          "Brazil/maisa",
          "Colombia/maluma",
          "United Kingdom/manchesterunited",
          "Brazil/marcelotwelve",
          "Brazil/mariliamendoncacantora",
          "Brazil/marinaruybarbosa",
          "Turkey/marvel",
          "Other country/marvelstudios",
          "British Virgin Islands/mercedesbenz",
          "Other country/michelleobama",
          "Other country/mileycyrus",
          "United States/milliebobbybrown",
          "Other country/mosalah",
          "France/nancyajram",
          "India/narendramodi",
          "United States/nasa",
          "Other country/natashawilona12",
          "United States/natgeo",
          "United States/natgeotravel",
          "Czech Republic/nattinatasha",
          "United States/nba",
          "India/nehakakkar",
          "Brazil/neymarjr",
          "United States/nickiminaj",
          "United States/nickjonas",
          "Colombia/nickyjampr",
          "United States/nike",
          "United States/nikefootball",
          "Anguilla/norafatehi",
          "United Arab Emirates/nusr_et",
          "Other country/paollaoliveirareal",
          "Other country/parineetichopra",
          "Other country/paulodybala",
          "France/paulpogba",
          "Other country/prattprattpratt",
          "Indonesia/prillylatuconsina96",
          "Indonesia/princessyahrini",
          "United States/priyankachopra",
          "France/psg",
          "Indonesia/raffinagita1717",
          "Indonesia/raisa6690",
          "Switzerland/ranveersingh",
          "Spain/realmadrid",
          "Other country/rkive",
          "United States/robertdowneyjr",
          "Brazil/ronaldinho",
          "Other country/roses_are_rosie",
          "Indonesia/ruben_onsu",
          "Other country/sachintendulkar",
          "United States/selenagomez",
          "Other country/sergioramos",
          "Other country/shahidkapoor",
          "Canada/shawnmendes",
          "United States/shaymitchell",
          "Other country/shraddhakapoor",
          "Brazil/simonemendes",
          "Other country/snoopdogg",
          "India/sonamkapoor",
          "Other country/sooyaaa__",
          "Other country/stephencurry30",
          "Other country/sunnyleone",
          "Brazil/tatawerneck",
          "United States/taylorswift",
          "United States/teddysphotos",
          "United States/theellenshow",
          "United States/thenotoriousmma",
          "United States/therock",
          "Other country/theweeknd",
          "Other country/thv",
          "India/tigerjackieshroff",
          "Other country/tomholland2013",
          "Other country/toni.kr8s",
          "United States/travisscott",
          "Other country/vancityreynolds",
          "United States/vanessahudgens",
          "India/varundvn",
          "United States/victoriassecret",
          "United States/vindiesel",
          "Other country/virat.kohli",
          "Other country/wesleysafadao",
          "Brazil/whinderssonnunes",
          "United States/willsmith",
          "United States/wizkhalifa",
          "United States/worldstar",
          "United States/zacefron",
          "United States/zayn",
          "United States/zendaya",
          "France/zidane",
          "Anguilla",
          "Australia",
          "Brazil",
          "British Virgin Islands",
          "Canada",
          "Colombia",
          "Czech Republic",
          "Cã´Te D'Ivoire",
          "France",
          "Germany",
          "India",
          "Indonesia",
          "Italy",
          "Mexico",
          "Netherlands",
          "Other country",
          "Puerto Rico",
          "Russia",
          "Spain",
          "Sweden",
          "Switzerland",
          "Turkey",
          "United Arab Emirates",
          "United Kingdom",
          "United States",
          "Uruguay"
         ],
         "labels": [
          "433",
          "5-Minute Crafts GIRLY",
          "9gag",
          "Shakira",
          "addisonraee",
          "adele",
          "adidasoriginals",
          "akshaykumar",
          "aliaabhatt",
          "andresiniesta8",
          "anitta",
          "antogriezmann",
          "anushkasen0408",
          "anushkasharma",
          "arianagrande",
          "ayutingting92",
          "badbunnypr",
          "badgalriri",
          "barackobama",
          "beingsalmankhan",
          "bellahadid",
          "beyonce",
          "billieeilish",
          "blackpinkofficial",
          "blakelively",
          "bmw",
          "britneyspears",
          "brunamarquezine",
          "bts.bighitofficial",
          "buzzfeedtasty",
          "camila_cabello",
          "caradelevingne",
          "champagnepapi",
          "charlidamelio",
          "chrisbrownofficial",
          "chrishemsworth",
          "chrissyteigen",
          "colesprouse",
          "cristiano",
          "cznburak",
          "daddyyankee",
          "danbilzerian",
          "dannapaola",
          "davidbeckham",
          "ddlovato",
          "deepikapadukone",
          "dior",
          "dishapatani",
          "disney",
          "dovecameron",
          "dualipa",
          "eminem",
          "emmawatson",
          "fcbarcelona",
          "gal_gadot",
          "garethbale11",
          "georginagio",
          "gigihadid",
          "gisel_la",
          "gucci",
          "gusttavolima",
          "haileybieber",
          "harrystyles",
          "hm",
          "hrithikroshan",
          "hudabeauty",
          "iambeckyg",
          "iamcardib",
          "iamzlatanibrahimovic",
          "ivetesangalo",
          "j.m",
          "jacquelinef143",
          "jamesrodriguez10",
          "jannatzubair29",
          "jbalvin",
          "jennierubyjane",
          "jenniferaniston",
          "jlo",
          "jokowi",
          "justinbieber",
          "justintimberlake",
          "juventus",
          "k.mbappe",
          "kapilsharma",
          "karimbenzema",
          "karolg",
          "katrinakaif",
          "katyperry",
          "kendalljenner",
          "kevinhart4real",
          "khabib_nurmagomedov",
          "khloekardashian",
          "kimberly.loaiza",
          "kimkardashian",
          "kingjames",
          "kourtneykardash",
          "krisjenner",
          "kritisanon",
          "kyliejenner",
          "ladygaga",
          "lalalalisa_m",
          "larissamanoela",
          "laudyacynthiabella",
          "lelepons",
          "leomessi",
          "leonardodicaprio",
          "liverpoolfc",
          "louisvuitton",
          "luansantana",
          "luissuarez9",
          "lunamaya",
          "mahi7781",
          "maisa",
          "maluma",
          "manchesterunited",
          "marcelotwelve",
          "mariliamendoncacantora",
          "marinaruybarbosa",
          "marvel",
          "marvelstudios",
          "mercedesbenz",
          "michelleobama",
          "mileycyrus",
          "milliebobbybrown",
          "mosalah",
          "nancyajram",
          "narendramodi",
          "nasa",
          "natashawilona12",
          "natgeo",
          "natgeotravel",
          "nattinatasha",
          "nba",
          "nehakakkar",
          "neymarjr",
          "nickiminaj",
          "nickjonas",
          "nickyjampr",
          "nike",
          "nikefootball",
          "norafatehi",
          "nusr_et",
          "paollaoliveirareal",
          "parineetichopra",
          "paulodybala",
          "paulpogba",
          "prattprattpratt",
          "prillylatuconsina96",
          "princessyahrini",
          "priyankachopra",
          "psg",
          "raffinagita1717",
          "raisa6690",
          "ranveersingh",
          "realmadrid",
          "rkive",
          "robertdowneyjr",
          "ronaldinho",
          "roses_are_rosie",
          "ruben_onsu",
          "sachintendulkar",
          "selenagomez",
          "sergioramos",
          "shahidkapoor",
          "shawnmendes",
          "shaymitchell",
          "shraddhakapoor",
          "simonemendes",
          "snoopdogg",
          "sonamkapoor",
          "sooyaaa__",
          "stephencurry30",
          "sunnyleone",
          "tatawerneck",
          "taylorswift",
          "teddysphotos",
          "theellenshow",
          "thenotoriousmma",
          "therock",
          "theweeknd",
          "thv",
          "tigerjackieshroff",
          "tomholland2013",
          "toni.kr8s",
          "travisscott",
          "vancityreynolds",
          "vanessahudgens",
          "varundvn",
          "victoriassecret",
          "vindiesel",
          "virat.kohli",
          "wesleysafadao",
          "whinderssonnunes",
          "willsmith",
          "wizkhalifa",
          "worldstar",
          "zacefron",
          "zayn",
          "zendaya",
          "zidane",
          "Anguilla",
          "Australia",
          "Brazil",
          "British Virgin Islands",
          "Canada",
          "Colombia",
          "Czech Republic",
          "Cã´Te D'Ivoire",
          "France",
          "Germany",
          "India",
          "Indonesia",
          "Italy",
          "Mexico",
          "Netherlands",
          "Other country",
          "Puerto Rico",
          "Russia",
          "Spain",
          "Sweden",
          "Switzerland",
          "Turkey",
          "United Arab Emirates",
          "United Kingdom",
          "United States",
          "Uruguay"
         ],
         "name": "",
         "parents": [
          "Netherlands",
          "United States",
          "United States",
          "Other country",
          "Other country",
          "United States",
          "Other country",
          "Other country",
          "India",
          "Spain",
          "United States",
          "France",
          "Other country",
          "Other country",
          "United States",
          "Indonesia",
          "Other country",
          "United States",
          "United States",
          "India",
          "United Kingdom",
          "United States",
          "Other country",
          "Other country",
          "United States",
          "Germany",
          "Turkey",
          "United States",
          "Uruguay",
          "Spain",
          "United States",
          "United States",
          "Netherlands",
          "Other country",
          "United States",
          "Australia",
          "United States",
          "Other country",
          "Spain",
          "Other country",
          "Puerto Rico",
          "Canada",
          "Mexico",
          "United States",
          "United States",
          "India",
          "Other country",
          "United States",
          "United States",
          "United States",
          "United Kingdom",
          "United States",
          "United States",
          "Other country",
          "United States",
          "Other country",
          "Other country",
          "United States",
          "Other country",
          "Italy",
          "Brazil",
          "Other country",
          "United States",
          "Sweden",
          "Cã´Te D'Ivoire",
          "United States",
          "United States",
          "United States",
          "Other country",
          "Brazil",
          "Other country",
          "India",
          "Colombia",
          "Other country",
          "Other country",
          "Other country",
          "Other country",
          "United States",
          "Other country",
          "Canada",
          "United States",
          "Other country",
          "Other country",
          "Other country",
          "Spain",
          "India",
          "India",
          "Other country",
          "United States",
          "United States",
          "Russia",
          "United States",
          "Mexico",
          "United States",
          "Other country",
          "United States",
          "United States",
          "India",
          "United States",
          "United States",
          "Other country",
          "Brazil",
          "Indonesia",
          "United States",
          "Other country",
          "Other country",
          "United Kingdom",
          "France",
          "Brazil",
          "Other country",
          "Other country",
          "Other country",
          "Brazil",
          "Colombia",
          "United Kingdom",
          "Brazil",
          "Brazil",
          "Brazil",
          "Turkey",
          "Other country",
          "British Virgin Islands",
          "Other country",
          "Other country",
          "United States",
          "Other country",
          "France",
          "India",
          "United States",
          "Other country",
          "United States",
          "United States",
          "Czech Republic",
          "United States",
          "India",
          "Brazil",
          "United States",
          "United States",
          "Colombia",
          "United States",
          "United States",
          "Anguilla",
          "United Arab Emirates",
          "Other country",
          "Other country",
          "Other country",
          "France",
          "Other country",
          "Indonesia",
          "Indonesia",
          "United States",
          "France",
          "Indonesia",
          "Indonesia",
          "Switzerland",
          "Spain",
          "Other country",
          "United States",
          "Brazil",
          "Other country",
          "Indonesia",
          "Other country",
          "United States",
          "Other country",
          "Other country",
          "Canada",
          "United States",
          "Other country",
          "Brazil",
          "Other country",
          "India",
          "Other country",
          "Other country",
          "Other country",
          "Brazil",
          "United States",
          "United States",
          "United States",
          "United States",
          "United States",
          "Other country",
          "Other country",
          "India",
          "Other country",
          "Other country",
          "United States",
          "Other country",
          "United States",
          "India",
          "United States",
          "United States",
          "Other country",
          "Other country",
          "Brazil",
          "United States",
          "United States",
          "United States",
          "United States",
          "United States",
          "United States",
          "France",
          "",
          "",
          "",
          "",
          "",
          "",
          "",
          "",
          "",
          "",
          "",
          "",
          "",
          "",
          "",
          "",
          "",
          "",
          "",
          "",
          "",
          "",
          "",
          "",
          "",
          ""
         ],
         "type": "sunburst",
         "values": [
          51200000,
          46500000,
          58100000,
          76100000,
          40100000,
          50700000,
          34200000,
          62800000,
          68700000,
          40000000,
          63100000,
          36500000,
          38300000,
          59500000,
          327700000,
          52400000,
          42100000,
          135300000,
          35400000,
          53500000,
          54100000,
          272800000,
          105200000,
          48200000,
          34600000,
          33700000,
          42100000,
          43100000,
          66900000.00000001,
          43200000,
          65000000,
          42900000,
          119600000,
          49100000,
          118500000,
          55900000,
          38900000,
          35900000,
          475800000,
          39000000,
          45900000,
          33600000,
          34700000,
          74900000,
          139100000,
          68400000,
          41500000,
          53000000,
          34200000,
          48200000,
          85900000,
          36400000,
          67300000,
          111400000,
          85600000,
          48100000,
          39100000,
          75300000,
          36500000,
          49000000,
          43900000,
          46900000,
          46900000,
          38500000,
          43700000,
          50800000,
          33200000.000000004,
          140500000,
          55100000,
          34800000,
          41900000,
          62700000,
          49900000,
          43800000,
          52800000,
          68900000,
          40700000,
          220400000,
          47700000,
          254500000,
          65900000.00000001,
          54500000,
          72700000,
          42200000,
          56900000,
          55600000,
          66300000,
          170300000,
          254000000,
          152000000,
          33500000,
          268300000,
          35500000,
          329200000,
          130900000,
          195200000,
          49700000,
          50200000,
          366200000,
          53200000,
          80900000,
          46500000,
          36900000,
          49200000,
          357300000,
          54600000,
          39900000,
          48700000,
          33200000.000000004,
          44200000,
          34800000,
          39100000,
          44500000,
          62800000,
          59600000,
          58100000,
          41800000,
          40700000,
          66200000,
          38100000,
          36000000,
          50700000,
          181500000,
          57600000,
          52500000,
          33200000.000000004,
          68900000,
          81300000,
          39200000,
          237000000,
          45800000,
          35900000,
          70100000,
          70400000,
          177100000,
          201600000,
          33000000,
          43400000,
          234100000,
          45400000,
          41600000,
          47300000,
          34700000,
          37400000,
          48300000,
          55200000,
          38300000,
          48900000,
          40000000,
          81100000,
          61900000,
          63500000,
          32799999.999999996,
          40800000,
          123400000,
          37000000,
          53400000,
          67700000,
          61800000,
          38800000,
          35300000,
          342700000,
          52800000,
          35600000,
          69900000,
          34100000,
          73900000,
          35000000,
          75300000,
          33299999.999999996,
          62900000,
          45400000,
          53400000,
          53900000,
          222200000,
          39900000,
          125100000,
          45900000,
          334100000,
          41500000,
          49300000,
          35600000,
          67700000,
          34700000,
          46200000,
          44800000,
          46800000,
          43800000,
          73200000,
          82300000,
          211800000,
          37400000,
          58700000,
          63900000,
          38700000,
          39200000,
          54500000,
          46500000,
          150700000,
          33500000,
          41600000,
          55900000,
          735900000,
          36000000,
          358000000,
          156100000,
          35900000,
          43700000,
          269000000,
          33700000,
          677400000,
          313300000,
          49000000,
          70200000,
          170800000,
          3927700000,
          45900000,
          33500000,
          739300000,
          38500000,
          40800000,
          108300000,
          47300000,
          239500000,
          7147700000,
          66900000.00000001
         ]
        }
       ],
       "layout": {
        "legend": {
         "tracegroupgap": 0
        },
        "template": {
         "data": {
          "bar": [
           {
            "error_x": {
             "color": "#2a3f5f"
            },
            "error_y": {
             "color": "#2a3f5f"
            },
            "marker": {
             "line": {
              "color": "#E5ECF6",
              "width": 0.5
             },
             "pattern": {
              "fillmode": "overlay",
              "size": 10,
              "solidity": 0.2
             }
            },
            "type": "bar"
           }
          ],
          "barpolar": [
           {
            "marker": {
             "line": {
              "color": "#E5ECF6",
              "width": 0.5
             },
             "pattern": {
              "fillmode": "overlay",
              "size": 10,
              "solidity": 0.2
             }
            },
            "type": "barpolar"
           }
          ],
          "carpet": [
           {
            "aaxis": {
             "endlinecolor": "#2a3f5f",
             "gridcolor": "white",
             "linecolor": "white",
             "minorgridcolor": "white",
             "startlinecolor": "#2a3f5f"
            },
            "baxis": {
             "endlinecolor": "#2a3f5f",
             "gridcolor": "white",
             "linecolor": "white",
             "minorgridcolor": "white",
             "startlinecolor": "#2a3f5f"
            },
            "type": "carpet"
           }
          ],
          "choropleth": [
           {
            "colorbar": {
             "outlinewidth": 0,
             "ticks": ""
            },
            "type": "choropleth"
           }
          ],
          "contour": [
           {
            "colorbar": {
             "outlinewidth": 0,
             "ticks": ""
            },
            "colorscale": [
             [
              0,
              "#0d0887"
             ],
             [
              0.1111111111111111,
              "#46039f"
             ],
             [
              0.2222222222222222,
              "#7201a8"
             ],
             [
              0.3333333333333333,
              "#9c179e"
             ],
             [
              0.4444444444444444,
              "#bd3786"
             ],
             [
              0.5555555555555556,
              "#d8576b"
             ],
             [
              0.6666666666666666,
              "#ed7953"
             ],
             [
              0.7777777777777778,
              "#fb9f3a"
             ],
             [
              0.8888888888888888,
              "#fdca26"
             ],
             [
              1,
              "#f0f921"
             ]
            ],
            "type": "contour"
           }
          ],
          "contourcarpet": [
           {
            "colorbar": {
             "outlinewidth": 0,
             "ticks": ""
            },
            "type": "contourcarpet"
           }
          ],
          "heatmap": [
           {
            "colorbar": {
             "outlinewidth": 0,
             "ticks": ""
            },
            "colorscale": [
             [
              0,
              "#0d0887"
             ],
             [
              0.1111111111111111,
              "#46039f"
             ],
             [
              0.2222222222222222,
              "#7201a8"
             ],
             [
              0.3333333333333333,
              "#9c179e"
             ],
             [
              0.4444444444444444,
              "#bd3786"
             ],
             [
              0.5555555555555556,
              "#d8576b"
             ],
             [
              0.6666666666666666,
              "#ed7953"
             ],
             [
              0.7777777777777778,
              "#fb9f3a"
             ],
             [
              0.8888888888888888,
              "#fdca26"
             ],
             [
              1,
              "#f0f921"
             ]
            ],
            "type": "heatmap"
           }
          ],
          "heatmapgl": [
           {
            "colorbar": {
             "outlinewidth": 0,
             "ticks": ""
            },
            "colorscale": [
             [
              0,
              "#0d0887"
             ],
             [
              0.1111111111111111,
              "#46039f"
             ],
             [
              0.2222222222222222,
              "#7201a8"
             ],
             [
              0.3333333333333333,
              "#9c179e"
             ],
             [
              0.4444444444444444,
              "#bd3786"
             ],
             [
              0.5555555555555556,
              "#d8576b"
             ],
             [
              0.6666666666666666,
              "#ed7953"
             ],
             [
              0.7777777777777778,
              "#fb9f3a"
             ],
             [
              0.8888888888888888,
              "#fdca26"
             ],
             [
              1,
              "#f0f921"
             ]
            ],
            "type": "heatmapgl"
           }
          ],
          "histogram": [
           {
            "marker": {
             "pattern": {
              "fillmode": "overlay",
              "size": 10,
              "solidity": 0.2
             }
            },
            "type": "histogram"
           }
          ],
          "histogram2d": [
           {
            "colorbar": {
             "outlinewidth": 0,
             "ticks": ""
            },
            "colorscale": [
             [
              0,
              "#0d0887"
             ],
             [
              0.1111111111111111,
              "#46039f"
             ],
             [
              0.2222222222222222,
              "#7201a8"
             ],
             [
              0.3333333333333333,
              "#9c179e"
             ],
             [
              0.4444444444444444,
              "#bd3786"
             ],
             [
              0.5555555555555556,
              "#d8576b"
             ],
             [
              0.6666666666666666,
              "#ed7953"
             ],
             [
              0.7777777777777778,
              "#fb9f3a"
             ],
             [
              0.8888888888888888,
              "#fdca26"
             ],
             [
              1,
              "#f0f921"
             ]
            ],
            "type": "histogram2d"
           }
          ],
          "histogram2dcontour": [
           {
            "colorbar": {
             "outlinewidth": 0,
             "ticks": ""
            },
            "colorscale": [
             [
              0,
              "#0d0887"
             ],
             [
              0.1111111111111111,
              "#46039f"
             ],
             [
              0.2222222222222222,
              "#7201a8"
             ],
             [
              0.3333333333333333,
              "#9c179e"
             ],
             [
              0.4444444444444444,
              "#bd3786"
             ],
             [
              0.5555555555555556,
              "#d8576b"
             ],
             [
              0.6666666666666666,
              "#ed7953"
             ],
             [
              0.7777777777777778,
              "#fb9f3a"
             ],
             [
              0.8888888888888888,
              "#fdca26"
             ],
             [
              1,
              "#f0f921"
             ]
            ],
            "type": "histogram2dcontour"
           }
          ],
          "mesh3d": [
           {
            "colorbar": {
             "outlinewidth": 0,
             "ticks": ""
            },
            "type": "mesh3d"
           }
          ],
          "parcoords": [
           {
            "line": {
             "colorbar": {
              "outlinewidth": 0,
              "ticks": ""
             }
            },
            "type": "parcoords"
           }
          ],
          "pie": [
           {
            "automargin": true,
            "type": "pie"
           }
          ],
          "scatter": [
           {
            "fillpattern": {
             "fillmode": "overlay",
             "size": 10,
             "solidity": 0.2
            },
            "type": "scatter"
           }
          ],
          "scatter3d": [
           {
            "line": {
             "colorbar": {
              "outlinewidth": 0,
              "ticks": ""
             }
            },
            "marker": {
             "colorbar": {
              "outlinewidth": 0,
              "ticks": ""
             }
            },
            "type": "scatter3d"
           }
          ],
          "scattercarpet": [
           {
            "marker": {
             "colorbar": {
              "outlinewidth": 0,
              "ticks": ""
             }
            },
            "type": "scattercarpet"
           }
          ],
          "scattergeo": [
           {
            "marker": {
             "colorbar": {
              "outlinewidth": 0,
              "ticks": ""
             }
            },
            "type": "scattergeo"
           }
          ],
          "scattergl": [
           {
            "marker": {
             "colorbar": {
              "outlinewidth": 0,
              "ticks": ""
             }
            },
            "type": "scattergl"
           }
          ],
          "scattermapbox": [
           {
            "marker": {
             "colorbar": {
              "outlinewidth": 0,
              "ticks": ""
             }
            },
            "type": "scattermapbox"
           }
          ],
          "scatterpolar": [
           {
            "marker": {
             "colorbar": {
              "outlinewidth": 0,
              "ticks": ""
             }
            },
            "type": "scatterpolar"
           }
          ],
          "scatterpolargl": [
           {
            "marker": {
             "colorbar": {
              "outlinewidth": 0,
              "ticks": ""
             }
            },
            "type": "scatterpolargl"
           }
          ],
          "scatterternary": [
           {
            "marker": {
             "colorbar": {
              "outlinewidth": 0,
              "ticks": ""
             }
            },
            "type": "scatterternary"
           }
          ],
          "surface": [
           {
            "colorbar": {
             "outlinewidth": 0,
             "ticks": ""
            },
            "colorscale": [
             [
              0,
              "#0d0887"
             ],
             [
              0.1111111111111111,
              "#46039f"
             ],
             [
              0.2222222222222222,
              "#7201a8"
             ],
             [
              0.3333333333333333,
              "#9c179e"
             ],
             [
              0.4444444444444444,
              "#bd3786"
             ],
             [
              0.5555555555555556,
              "#d8576b"
             ],
             [
              0.6666666666666666,
              "#ed7953"
             ],
             [
              0.7777777777777778,
              "#fb9f3a"
             ],
             [
              0.8888888888888888,
              "#fdca26"
             ],
             [
              1,
              "#f0f921"
             ]
            ],
            "type": "surface"
           }
          ],
          "table": [
           {
            "cells": {
             "fill": {
              "color": "#EBF0F8"
             },
             "line": {
              "color": "white"
             }
            },
            "header": {
             "fill": {
              "color": "#C8D4E3"
             },
             "line": {
              "color": "white"
             }
            },
            "type": "table"
           }
          ]
         },
         "layout": {
          "annotationdefaults": {
           "arrowcolor": "#2a3f5f",
           "arrowhead": 0,
           "arrowwidth": 1
          },
          "autotypenumbers": "strict",
          "coloraxis": {
           "colorbar": {
            "outlinewidth": 0,
            "ticks": ""
           }
          },
          "colorscale": {
           "diverging": [
            [
             0,
             "#8e0152"
            ],
            [
             0.1,
             "#c51b7d"
            ],
            [
             0.2,
             "#de77ae"
            ],
            [
             0.3,
             "#f1b6da"
            ],
            [
             0.4,
             "#fde0ef"
            ],
            [
             0.5,
             "#f7f7f7"
            ],
            [
             0.6,
             "#e6f5d0"
            ],
            [
             0.7,
             "#b8e186"
            ],
            [
             0.8,
             "#7fbc41"
            ],
            [
             0.9,
             "#4d9221"
            ],
            [
             1,
             "#276419"
            ]
           ],
           "sequential": [
            [
             0,
             "#0d0887"
            ],
            [
             0.1111111111111111,
             "#46039f"
            ],
            [
             0.2222222222222222,
             "#7201a8"
            ],
            [
             0.3333333333333333,
             "#9c179e"
            ],
            [
             0.4444444444444444,
             "#bd3786"
            ],
            [
             0.5555555555555556,
             "#d8576b"
            ],
            [
             0.6666666666666666,
             "#ed7953"
            ],
            [
             0.7777777777777778,
             "#fb9f3a"
            ],
            [
             0.8888888888888888,
             "#fdca26"
            ],
            [
             1,
             "#f0f921"
            ]
           ],
           "sequentialminus": [
            [
             0,
             "#0d0887"
            ],
            [
             0.1111111111111111,
             "#46039f"
            ],
            [
             0.2222222222222222,
             "#7201a8"
            ],
            [
             0.3333333333333333,
             "#9c179e"
            ],
            [
             0.4444444444444444,
             "#bd3786"
            ],
            [
             0.5555555555555556,
             "#d8576b"
            ],
            [
             0.6666666666666666,
             "#ed7953"
            ],
            [
             0.7777777777777778,
             "#fb9f3a"
            ],
            [
             0.8888888888888888,
             "#fdca26"
            ],
            [
             1,
             "#f0f921"
            ]
           ]
          },
          "colorway": [
           "#636efa",
           "#EF553B",
           "#00cc96",
           "#ab63fa",
           "#FFA15A",
           "#19d3f3",
           "#FF6692",
           "#B6E880",
           "#FF97FF",
           "#FECB52"
          ],
          "font": {
           "color": "#2a3f5f"
          },
          "geo": {
           "bgcolor": "white",
           "lakecolor": "white",
           "landcolor": "#E5ECF6",
           "showlakes": true,
           "showland": true,
           "subunitcolor": "white"
          },
          "hoverlabel": {
           "align": "left"
          },
          "hovermode": "closest",
          "mapbox": {
           "style": "light"
          },
          "paper_bgcolor": "white",
          "plot_bgcolor": "#E5ECF6",
          "polar": {
           "angularaxis": {
            "gridcolor": "white",
            "linecolor": "white",
            "ticks": ""
           },
           "bgcolor": "#E5ECF6",
           "radialaxis": {
            "gridcolor": "white",
            "linecolor": "white",
            "ticks": ""
           }
          },
          "scene": {
           "xaxis": {
            "backgroundcolor": "#E5ECF6",
            "gridcolor": "white",
            "gridwidth": 2,
            "linecolor": "white",
            "showbackground": true,
            "ticks": "",
            "zerolinecolor": "white"
           },
           "yaxis": {
            "backgroundcolor": "#E5ECF6",
            "gridcolor": "white",
            "gridwidth": 2,
            "linecolor": "white",
            "showbackground": true,
            "ticks": "",
            "zerolinecolor": "white"
           },
           "zaxis": {
            "backgroundcolor": "#E5ECF6",
            "gridcolor": "white",
            "gridwidth": 2,
            "linecolor": "white",
            "showbackground": true,
            "ticks": "",
            "zerolinecolor": "white"
           }
          },
          "shapedefaults": {
           "line": {
            "color": "#2a3f5f"
           }
          },
          "ternary": {
           "aaxis": {
            "gridcolor": "white",
            "linecolor": "white",
            "ticks": ""
           },
           "baxis": {
            "gridcolor": "white",
            "linecolor": "white",
            "ticks": ""
           },
           "bgcolor": "#E5ECF6",
           "caxis": {
            "gridcolor": "white",
            "linecolor": "white",
            "ticks": ""
           }
          },
          "title": {
           "x": 0.05
          },
          "xaxis": {
           "automargin": true,
           "gridcolor": "white",
           "linecolor": "white",
           "ticks": "",
           "title": {
            "standoff": 15
           },
           "zerolinecolor": "white",
           "zerolinewidth": 2
          },
          "yaxis": {
           "automargin": true,
           "gridcolor": "white",
           "linecolor": "white",
           "ticks": "",
           "title": {
            "standoff": 15
           },
           "zerolinecolor": "white",
           "zerolinewidth": 2
          }
         }
        },
        "title": {
         "text": "Top followers"
        }
       }
      }
     },
     "metadata": {},
     "output_type": "display_data"
    }
   ],
   "source": [
    "def sunburst_country_followers(df):\n",
    "    fig = px.sunburst(df, path=[\"country\", \"channel_info\"], names='followers', values='followers', title='Top followers')\n",
    "    fig.show()\n",
    "sunburst_country_followers(data_clean)"
   ]
  },
  {
   "cell_type": "code",
   "execution_count": 157,
   "metadata": {},
   "outputs": [
    {
     "data": {
      "application/vnd.plotly.v1+json": {
       "config": {
        "plotlyServerURL": "https://plot.ly"
       },
       "data": [
        {
         "branchvalues": "total",
         "domain": {
          "x": [
           0,
           1
          ],
          "y": [
           0,
           1
          ]
         },
         "hovertemplate": "labels=%{label}<br>avg_likes=%{value}<br>parent=%{parent}<br>id=%{id}<extra></extra>",
         "ids": [
          "Netherlands/433",
          "United States/5-Minute Crafts GIRLY",
          "United States/9gag",
          "Other country/Shakira",
          "Other country/addisonraee",
          "United States/adele",
          "Other country/adidasoriginals",
          "Other country/akshaykumar",
          "India/aliaabhatt",
          "Spain/andresiniesta8",
          "United States/anitta",
          "France/antogriezmann",
          "Other country/anushkasen0408",
          "Other country/anushkasharma",
          "United States/arianagrande",
          "Indonesia/ayutingting92",
          "Other country/badbunnypr",
          "United States/badgalriri",
          "United States/barackobama",
          "India/beingsalmankhan",
          "United Kingdom/bellahadid",
          "United States/beyonce",
          "Other country/billieeilish",
          "Other country/blackpinkofficial",
          "United States/blakelively",
          "Germany/bmw",
          "Turkey/britneyspears",
          "United States/brunamarquezine",
          "Uruguay/bts.bighitofficial",
          "Spain/buzzfeedtasty",
          "United States/camila_cabello",
          "United States/caradelevingne",
          "Netherlands/champagnepapi",
          "Other country/charlidamelio",
          "United States/chrisbrownofficial",
          "Australia/chrishemsworth",
          "United States/chrissyteigen",
          "Other country/colesprouse",
          "Spain/cristiano",
          "Other country/cznburak",
          "Puerto Rico/daddyyankee",
          "Canada/danbilzerian",
          "Mexico/dannapaola",
          "United States/davidbeckham",
          "United States/ddlovato",
          "India/deepikapadukone",
          "Other country/dior",
          "United States/dishapatani",
          "United States/disney",
          "United States/dovecameron",
          "United Kingdom/dualipa",
          "United States/eminem",
          "United States/emmawatson",
          "Other country/fcbarcelona",
          "United States/gal_gadot",
          "Other country/garethbale11",
          "Other country/georginagio",
          "United States/gigihadid",
          "Other country/gisel_la",
          "Italy/gucci",
          "Brazil/gusttavolima",
          "Other country/haileybieber",
          "United States/harrystyles",
          "Sweden/hm",
          "Cã´Te D'Ivoire/hrithikroshan",
          "United States/hudabeauty",
          "United States/iambeckyg",
          "United States/iamcardib",
          "Other country/iamzlatanibrahimovic",
          "Brazil/ivetesangalo",
          "Other country/j.m",
          "India/jacquelinef143",
          "Colombia/jamesrodriguez10",
          "Other country/jannatzubair29",
          "Other country/jbalvin",
          "Other country/jennierubyjane",
          "Other country/jenniferaniston",
          "United States/jlo",
          "Other country/jokowi",
          "Canada/justinbieber",
          "United States/justintimberlake",
          "Other country/juventus",
          "Other country/k.mbappe",
          "Other country/kapilsharma",
          "Spain/karimbenzema",
          "India/karolg",
          "India/katrinakaif",
          "Other country/katyperry",
          "United States/kendalljenner",
          "United States/kevinhart4real",
          "Russia/khabib_nurmagomedov",
          "United States/khloekardashian",
          "Mexico/kimberly.loaiza",
          "United States/kimkardashian",
          "Other country/kingjames",
          "United States/kourtneykardash",
          "United States/krisjenner",
          "India/kritisanon",
          "United States/kyliejenner",
          "United States/ladygaga",
          "Other country/lalalalisa_m",
          "Brazil/larissamanoela",
          "Indonesia/laudyacynthiabella",
          "United States/lelepons",
          "Other country/leomessi",
          "Other country/leonardodicaprio",
          "United Kingdom/liverpoolfc",
          "France/louisvuitton",
          "Brazil/luansantana",
          "Other country/luissuarez9",
          "Other country/lunamaya",
          "Other country/mahi7781",
          "Brazil/maisa",
          "Colombia/maluma",
          "United Kingdom/manchesterunited",
          "Brazil/marcelotwelve",
          "Brazil/mariliamendoncacantora",
          "Brazil/marinaruybarbosa",
          "Turkey/marvel",
          "Other country/marvelstudios",
          "British Virgin Islands/mercedesbenz",
          "Other country/michelleobama",
          "Other country/mileycyrus",
          "United States/milliebobbybrown",
          "Other country/mosalah",
          "France/nancyajram",
          "India/narendramodi",
          "United States/nasa",
          "Other country/natashawilona12",
          "United States/natgeo",
          "United States/natgeotravel",
          "Czech Republic/nattinatasha",
          "United States/nba",
          "India/nehakakkar",
          "Brazil/neymarjr",
          "United States/nickiminaj",
          "United States/nickjonas",
          "Colombia/nickyjampr",
          "United States/nike",
          "United States/nikefootball",
          "Anguilla/norafatehi",
          "United Arab Emirates/nusr_et",
          "Other country/paollaoliveirareal",
          "Other country/parineetichopra",
          "Other country/paulodybala",
          "France/paulpogba",
          "Other country/prattprattpratt",
          "Indonesia/prillylatuconsina96",
          "Indonesia/princessyahrini",
          "United States/priyankachopra",
          "France/psg",
          "Indonesia/raffinagita1717",
          "Indonesia/raisa6690",
          "Switzerland/ranveersingh",
          "Spain/realmadrid",
          "Other country/rkive",
          "United States/robertdowneyjr",
          "Brazil/ronaldinho",
          "Other country/roses_are_rosie",
          "Indonesia/ruben_onsu",
          "Other country/sachintendulkar",
          "United States/selenagomez",
          "Other country/sergioramos",
          "Other country/shahidkapoor",
          "Canada/shawnmendes",
          "United States/shaymitchell",
          "Other country/shraddhakapoor",
          "Brazil/simonemendes",
          "Other country/snoopdogg",
          "India/sonamkapoor",
          "Other country/sooyaaa__",
          "Other country/stephencurry30",
          "Other country/sunnyleone",
          "Brazil/tatawerneck",
          "United States/taylorswift",
          "United States/teddysphotos",
          "United States/theellenshow",
          "United States/thenotoriousmma",
          "United States/therock",
          "Other country/theweeknd",
          "Other country/thv",
          "India/tigerjackieshroff",
          "Other country/tomholland2013",
          "Other country/toni.kr8s",
          "United States/travisscott",
          "Other country/vancityreynolds",
          "United States/vanessahudgens",
          "India/varundvn",
          "United States/victoriassecret",
          "United States/vindiesel",
          "Other country/virat.kohli",
          "Other country/wesleysafadao",
          "Brazil/whinderssonnunes",
          "United States/willsmith",
          "United States/wizkhalifa",
          "United States/worldstar",
          "United States/zacefron",
          "United States/zayn",
          "United States/zendaya",
          "France/zidane",
          "Anguilla",
          "Australia",
          "Brazil",
          "British Virgin Islands",
          "Canada",
          "Colombia",
          "Czech Republic",
          "Cã´Te D'Ivoire",
          "France",
          "Germany",
          "India",
          "Indonesia",
          "Italy",
          "Mexico",
          "Netherlands",
          "Other country",
          "Puerto Rico",
          "Russia",
          "Spain",
          "Sweden",
          "Switzerland",
          "Turkey",
          "United Arab Emirates",
          "United Kingdom",
          "United States",
          "Uruguay"
         ],
         "labels": [
          "433",
          "5-Minute Crafts GIRLY",
          "9gag",
          "Shakira",
          "addisonraee",
          "adele",
          "adidasoriginals",
          "akshaykumar",
          "aliaabhatt",
          "andresiniesta8",
          "anitta",
          "antogriezmann",
          "anushkasen0408",
          "anushkasharma",
          "arianagrande",
          "ayutingting92",
          "badbunnypr",
          "badgalriri",
          "barackobama",
          "beingsalmankhan",
          "bellahadid",
          "beyonce",
          "billieeilish",
          "blackpinkofficial",
          "blakelively",
          "bmw",
          "britneyspears",
          "brunamarquezine",
          "bts.bighitofficial",
          "buzzfeedtasty",
          "camila_cabello",
          "caradelevingne",
          "champagnepapi",
          "charlidamelio",
          "chrisbrownofficial",
          "chrishemsworth",
          "chrissyteigen",
          "colesprouse",
          "cristiano",
          "cznburak",
          "daddyyankee",
          "danbilzerian",
          "dannapaola",
          "davidbeckham",
          "ddlovato",
          "deepikapadukone",
          "dior",
          "dishapatani",
          "disney",
          "dovecameron",
          "dualipa",
          "eminem",
          "emmawatson",
          "fcbarcelona",
          "gal_gadot",
          "garethbale11",
          "georginagio",
          "gigihadid",
          "gisel_la",
          "gucci",
          "gusttavolima",
          "haileybieber",
          "harrystyles",
          "hm",
          "hrithikroshan",
          "hudabeauty",
          "iambeckyg",
          "iamcardib",
          "iamzlatanibrahimovic",
          "ivetesangalo",
          "j.m",
          "jacquelinef143",
          "jamesrodriguez10",
          "jannatzubair29",
          "jbalvin",
          "jennierubyjane",
          "jenniferaniston",
          "jlo",
          "jokowi",
          "justinbieber",
          "justintimberlake",
          "juventus",
          "k.mbappe",
          "kapilsharma",
          "karimbenzema",
          "karolg",
          "katrinakaif",
          "katyperry",
          "kendalljenner",
          "kevinhart4real",
          "khabib_nurmagomedov",
          "khloekardashian",
          "kimberly.loaiza",
          "kimkardashian",
          "kingjames",
          "kourtneykardash",
          "krisjenner",
          "kritisanon",
          "kyliejenner",
          "ladygaga",
          "lalalalisa_m",
          "larissamanoela",
          "laudyacynthiabella",
          "lelepons",
          "leomessi",
          "leonardodicaprio",
          "liverpoolfc",
          "louisvuitton",
          "luansantana",
          "luissuarez9",
          "lunamaya",
          "mahi7781",
          "maisa",
          "maluma",
          "manchesterunited",
          "marcelotwelve",
          "mariliamendoncacantora",
          "marinaruybarbosa",
          "marvel",
          "marvelstudios",
          "mercedesbenz",
          "michelleobama",
          "mileycyrus",
          "milliebobbybrown",
          "mosalah",
          "nancyajram",
          "narendramodi",
          "nasa",
          "natashawilona12",
          "natgeo",
          "natgeotravel",
          "nattinatasha",
          "nba",
          "nehakakkar",
          "neymarjr",
          "nickiminaj",
          "nickjonas",
          "nickyjampr",
          "nike",
          "nikefootball",
          "norafatehi",
          "nusr_et",
          "paollaoliveirareal",
          "parineetichopra",
          "paulodybala",
          "paulpogba",
          "prattprattpratt",
          "prillylatuconsina96",
          "princessyahrini",
          "priyankachopra",
          "psg",
          "raffinagita1717",
          "raisa6690",
          "ranveersingh",
          "realmadrid",
          "rkive",
          "robertdowneyjr",
          "ronaldinho",
          "roses_are_rosie",
          "ruben_onsu",
          "sachintendulkar",
          "selenagomez",
          "sergioramos",
          "shahidkapoor",
          "shawnmendes",
          "shaymitchell",
          "shraddhakapoor",
          "simonemendes",
          "snoopdogg",
          "sonamkapoor",
          "sooyaaa__",
          "stephencurry30",
          "sunnyleone",
          "tatawerneck",
          "taylorswift",
          "teddysphotos",
          "theellenshow",
          "thenotoriousmma",
          "therock",
          "theweeknd",
          "thv",
          "tigerjackieshroff",
          "tomholland2013",
          "toni.kr8s",
          "travisscott",
          "vancityreynolds",
          "vanessahudgens",
          "varundvn",
          "victoriassecret",
          "vindiesel",
          "virat.kohli",
          "wesleysafadao",
          "whinderssonnunes",
          "willsmith",
          "wizkhalifa",
          "worldstar",
          "zacefron",
          "zayn",
          "zendaya",
          "zidane",
          "Anguilla",
          "Australia",
          "Brazil",
          "British Virgin Islands",
          "Canada",
          "Colombia",
          "Czech Republic",
          "Cã´Te D'Ivoire",
          "France",
          "Germany",
          "India",
          "Indonesia",
          "Italy",
          "Mexico",
          "Netherlands",
          "Other country",
          "Puerto Rico",
          "Russia",
          "Spain",
          "Sweden",
          "Switzerland",
          "Turkey",
          "United Arab Emirates",
          "United Kingdom",
          "United States",
          "Uruguay"
         ],
         "name": "",
         "parents": [
          "Netherlands",
          "United States",
          "United States",
          "Other country",
          "Other country",
          "United States",
          "Other country",
          "Other country",
          "India",
          "Spain",
          "United States",
          "France",
          "Other country",
          "Other country",
          "United States",
          "Indonesia",
          "Other country",
          "United States",
          "United States",
          "India",
          "United Kingdom",
          "United States",
          "Other country",
          "Other country",
          "United States",
          "Germany",
          "Turkey",
          "United States",
          "Uruguay",
          "Spain",
          "United States",
          "United States",
          "Netherlands",
          "Other country",
          "United States",
          "Australia",
          "United States",
          "Other country",
          "Spain",
          "Other country",
          "Puerto Rico",
          "Canada",
          "Mexico",
          "United States",
          "United States",
          "India",
          "Other country",
          "United States",
          "United States",
          "United States",
          "United Kingdom",
          "United States",
          "United States",
          "Other country",
          "United States",
          "Other country",
          "Other country",
          "United States",
          "Other country",
          "Italy",
          "Brazil",
          "Other country",
          "United States",
          "Sweden",
          "Cã´Te D'Ivoire",
          "United States",
          "United States",
          "United States",
          "Other country",
          "Brazil",
          "Other country",
          "India",
          "Colombia",
          "Other country",
          "Other country",
          "Other country",
          "Other country",
          "United States",
          "Other country",
          "Canada",
          "United States",
          "Other country",
          "Other country",
          "Other country",
          "Spain",
          "India",
          "India",
          "Other country",
          "United States",
          "United States",
          "Russia",
          "United States",
          "Mexico",
          "United States",
          "Other country",
          "United States",
          "United States",
          "India",
          "United States",
          "United States",
          "Other country",
          "Brazil",
          "Indonesia",
          "United States",
          "Other country",
          "Other country",
          "United Kingdom",
          "France",
          "Brazil",
          "Other country",
          "Other country",
          "Other country",
          "Brazil",
          "Colombia",
          "United Kingdom",
          "Brazil",
          "Brazil",
          "Brazil",
          "Turkey",
          "Other country",
          "British Virgin Islands",
          "Other country",
          "Other country",
          "United States",
          "Other country",
          "France",
          "India",
          "United States",
          "Other country",
          "United States",
          "United States",
          "Czech Republic",
          "United States",
          "India",
          "Brazil",
          "United States",
          "United States",
          "Colombia",
          "United States",
          "United States",
          "Anguilla",
          "United Arab Emirates",
          "Other country",
          "Other country",
          "Other country",
          "France",
          "Other country",
          "Indonesia",
          "Indonesia",
          "United States",
          "France",
          "Indonesia",
          "Indonesia",
          "Switzerland",
          "Spain",
          "Other country",
          "United States",
          "Brazil",
          "Other country",
          "Indonesia",
          "Other country",
          "United States",
          "Other country",
          "Other country",
          "Canada",
          "United States",
          "Other country",
          "Brazil",
          "Other country",
          "India",
          "Other country",
          "Other country",
          "Other country",
          "Brazil",
          "United States",
          "United States",
          "United States",
          "United States",
          "United States",
          "Other country",
          "Other country",
          "India",
          "Other country",
          "Other country",
          "United States",
          "Other country",
          "United States",
          "India",
          "United States",
          "United States",
          "Other country",
          "Other country",
          "Brazil",
          "United States",
          "United States",
          "United States",
          "United States",
          "United States",
          "United States",
          "France",
          "",
          "",
          "",
          "",
          "",
          "",
          "",
          "",
          "",
          "",
          "",
          "",
          "",
          "",
          "",
          "",
          "",
          "",
          "",
          "",
          "",
          "",
          "",
          "",
          "",
          ""
         ],
         "type": "sunburst",
         "values": [
          863200,
          157000,
          672600,
          975100,
          3100000,
          4700000,
          136200,
          1500000,
          1800000,
          250800,
          855500,
          1100000,
          695400,
          1900000,
          3700000,
          147300,
          3700000,
          3700000,
          1100000,
          1400000,
          1100000,
          3600000,
          8500000,
          2100000,
          3100000,
          231300,
          513100,
          969700,
          4099999,
          65099,
          1900000,
          790200,
          1700000,
          4200000,
          463200,
          2800000,
          623100,
          2200000,
          8700000,
          815800,
          652500,
          2000000,
          1500000,
          1200000,
          1100000,
          1600000,
          88800,
          1600000,
          185200,
          1600000,
          2100000,
          1100000,
          1900000,
          1200000,
          1400000,
          763000,
          2200000,
          2500000,
          150500,
          115100,
          475100,
          2000000,
          4700000,
          88400,
          1600000,
          186400,
          623800,
          3100000,
          1500000,
          226400,
          14200000,
          1100000,
          1400000,
          1300000,
          878000,
          5100000,
          4600000,
          1700000,
          452600,
          1900000,
          600400,
          194800,
          2500000,
          736400,
          878500,
          3100000,
          1700000,
          715000,
          5500000,
          522000,
          685100,
          2400000,
          2600000,
          3500000,
          2100000,
          1800000,
          356800,
          897200,
          8300000,
          1400000,
          5800000,
          579600,
          172800,
          2400000,
          6800000,
          395500,
          346700,
          127500,
          193300,
          801800,
          145400,
          4099999,
          553000,
          1200000,
          381800,
          690900,
          1000000,
          586400,
          332300,
          594200,
          197900,
          700500,
          1300000,
          4000000,
          1800000,
          390400,
          2900000,
          1200000,
          486500,
          302200,
          189900,
          518100,
          370800,
          1500000,
          2700000,
          2100000,
          719600,
          381600,
          329000,
          431200,
          1400000,
          728200,
          367800,
          505700,
          1800000,
          1400000,
          813500,
          372400,
          118300,
          1600000,
          500500,
          386900,
          232200,
          1000000,
          996200,
          10900000,
          3000000,
          872900,
          4600000,
          139300,
          800400,
          6200000,
          1100000,
          1300000,
          3500000,
          732400,
          1600000,
          420000,
          203700,
          264700,
          4500000,
          1100000,
          764000,
          959800,
          2400000,
          715500,
          420500,
          1100000,
          1900000,
          1100000,
          15400000,
          1100000,
          5400000,
          597200,
          3000000,
          1400000,
          633900,
          1100000,
          147000,
          1400000,
          3500000,
          256100,
          1600000,
          1400000,
          398700,
          157400,
          2300000,
          4700000,
          5800000,
          1100000,
          1400000,
          2800000,
          10857400,
          197900,
          7400000,
          2981600,
          518100,
          1600000,
          4618400,
          231300,
          18461900,
          1569200,
          115100,
          4100000,
          2563200,
          151433899,
          652500,
          685100,
          10890599,
          88400,
          1000000,
          845400,
          728200,
          3928500,
          123654000,
          4099999
         ]
        }
       ],
       "layout": {
        "legend": {
         "tracegroupgap": 0
        },
        "template": {
         "data": {
          "bar": [
           {
            "error_x": {
             "color": "#2a3f5f"
            },
            "error_y": {
             "color": "#2a3f5f"
            },
            "marker": {
             "line": {
              "color": "#E5ECF6",
              "width": 0.5
             },
             "pattern": {
              "fillmode": "overlay",
              "size": 10,
              "solidity": 0.2
             }
            },
            "type": "bar"
           }
          ],
          "barpolar": [
           {
            "marker": {
             "line": {
              "color": "#E5ECF6",
              "width": 0.5
             },
             "pattern": {
              "fillmode": "overlay",
              "size": 10,
              "solidity": 0.2
             }
            },
            "type": "barpolar"
           }
          ],
          "carpet": [
           {
            "aaxis": {
             "endlinecolor": "#2a3f5f",
             "gridcolor": "white",
             "linecolor": "white",
             "minorgridcolor": "white",
             "startlinecolor": "#2a3f5f"
            },
            "baxis": {
             "endlinecolor": "#2a3f5f",
             "gridcolor": "white",
             "linecolor": "white",
             "minorgridcolor": "white",
             "startlinecolor": "#2a3f5f"
            },
            "type": "carpet"
           }
          ],
          "choropleth": [
           {
            "colorbar": {
             "outlinewidth": 0,
             "ticks": ""
            },
            "type": "choropleth"
           }
          ],
          "contour": [
           {
            "colorbar": {
             "outlinewidth": 0,
             "ticks": ""
            },
            "colorscale": [
             [
              0,
              "#0d0887"
             ],
             [
              0.1111111111111111,
              "#46039f"
             ],
             [
              0.2222222222222222,
              "#7201a8"
             ],
             [
              0.3333333333333333,
              "#9c179e"
             ],
             [
              0.4444444444444444,
              "#bd3786"
             ],
             [
              0.5555555555555556,
              "#d8576b"
             ],
             [
              0.6666666666666666,
              "#ed7953"
             ],
             [
              0.7777777777777778,
              "#fb9f3a"
             ],
             [
              0.8888888888888888,
              "#fdca26"
             ],
             [
              1,
              "#f0f921"
             ]
            ],
            "type": "contour"
           }
          ],
          "contourcarpet": [
           {
            "colorbar": {
             "outlinewidth": 0,
             "ticks": ""
            },
            "type": "contourcarpet"
           }
          ],
          "heatmap": [
           {
            "colorbar": {
             "outlinewidth": 0,
             "ticks": ""
            },
            "colorscale": [
             [
              0,
              "#0d0887"
             ],
             [
              0.1111111111111111,
              "#46039f"
             ],
             [
              0.2222222222222222,
              "#7201a8"
             ],
             [
              0.3333333333333333,
              "#9c179e"
             ],
             [
              0.4444444444444444,
              "#bd3786"
             ],
             [
              0.5555555555555556,
              "#d8576b"
             ],
             [
              0.6666666666666666,
              "#ed7953"
             ],
             [
              0.7777777777777778,
              "#fb9f3a"
             ],
             [
              0.8888888888888888,
              "#fdca26"
             ],
             [
              1,
              "#f0f921"
             ]
            ],
            "type": "heatmap"
           }
          ],
          "heatmapgl": [
           {
            "colorbar": {
             "outlinewidth": 0,
             "ticks": ""
            },
            "colorscale": [
             [
              0,
              "#0d0887"
             ],
             [
              0.1111111111111111,
              "#46039f"
             ],
             [
              0.2222222222222222,
              "#7201a8"
             ],
             [
              0.3333333333333333,
              "#9c179e"
             ],
             [
              0.4444444444444444,
              "#bd3786"
             ],
             [
              0.5555555555555556,
              "#d8576b"
             ],
             [
              0.6666666666666666,
              "#ed7953"
             ],
             [
              0.7777777777777778,
              "#fb9f3a"
             ],
             [
              0.8888888888888888,
              "#fdca26"
             ],
             [
              1,
              "#f0f921"
             ]
            ],
            "type": "heatmapgl"
           }
          ],
          "histogram": [
           {
            "marker": {
             "pattern": {
              "fillmode": "overlay",
              "size": 10,
              "solidity": 0.2
             }
            },
            "type": "histogram"
           }
          ],
          "histogram2d": [
           {
            "colorbar": {
             "outlinewidth": 0,
             "ticks": ""
            },
            "colorscale": [
             [
              0,
              "#0d0887"
             ],
             [
              0.1111111111111111,
              "#46039f"
             ],
             [
              0.2222222222222222,
              "#7201a8"
             ],
             [
              0.3333333333333333,
              "#9c179e"
             ],
             [
              0.4444444444444444,
              "#bd3786"
             ],
             [
              0.5555555555555556,
              "#d8576b"
             ],
             [
              0.6666666666666666,
              "#ed7953"
             ],
             [
              0.7777777777777778,
              "#fb9f3a"
             ],
             [
              0.8888888888888888,
              "#fdca26"
             ],
             [
              1,
              "#f0f921"
             ]
            ],
            "type": "histogram2d"
           }
          ],
          "histogram2dcontour": [
           {
            "colorbar": {
             "outlinewidth": 0,
             "ticks": ""
            },
            "colorscale": [
             [
              0,
              "#0d0887"
             ],
             [
              0.1111111111111111,
              "#46039f"
             ],
             [
              0.2222222222222222,
              "#7201a8"
             ],
             [
              0.3333333333333333,
              "#9c179e"
             ],
             [
              0.4444444444444444,
              "#bd3786"
             ],
             [
              0.5555555555555556,
              "#d8576b"
             ],
             [
              0.6666666666666666,
              "#ed7953"
             ],
             [
              0.7777777777777778,
              "#fb9f3a"
             ],
             [
              0.8888888888888888,
              "#fdca26"
             ],
             [
              1,
              "#f0f921"
             ]
            ],
            "type": "histogram2dcontour"
           }
          ],
          "mesh3d": [
           {
            "colorbar": {
             "outlinewidth": 0,
             "ticks": ""
            },
            "type": "mesh3d"
           }
          ],
          "parcoords": [
           {
            "line": {
             "colorbar": {
              "outlinewidth": 0,
              "ticks": ""
             }
            },
            "type": "parcoords"
           }
          ],
          "pie": [
           {
            "automargin": true,
            "type": "pie"
           }
          ],
          "scatter": [
           {
            "fillpattern": {
             "fillmode": "overlay",
             "size": 10,
             "solidity": 0.2
            },
            "type": "scatter"
           }
          ],
          "scatter3d": [
           {
            "line": {
             "colorbar": {
              "outlinewidth": 0,
              "ticks": ""
             }
            },
            "marker": {
             "colorbar": {
              "outlinewidth": 0,
              "ticks": ""
             }
            },
            "type": "scatter3d"
           }
          ],
          "scattercarpet": [
           {
            "marker": {
             "colorbar": {
              "outlinewidth": 0,
              "ticks": ""
             }
            },
            "type": "scattercarpet"
           }
          ],
          "scattergeo": [
           {
            "marker": {
             "colorbar": {
              "outlinewidth": 0,
              "ticks": ""
             }
            },
            "type": "scattergeo"
           }
          ],
          "scattergl": [
           {
            "marker": {
             "colorbar": {
              "outlinewidth": 0,
              "ticks": ""
             }
            },
            "type": "scattergl"
           }
          ],
          "scattermapbox": [
           {
            "marker": {
             "colorbar": {
              "outlinewidth": 0,
              "ticks": ""
             }
            },
            "type": "scattermapbox"
           }
          ],
          "scatterpolar": [
           {
            "marker": {
             "colorbar": {
              "outlinewidth": 0,
              "ticks": ""
             }
            },
            "type": "scatterpolar"
           }
          ],
          "scatterpolargl": [
           {
            "marker": {
             "colorbar": {
              "outlinewidth": 0,
              "ticks": ""
             }
            },
            "type": "scatterpolargl"
           }
          ],
          "scatterternary": [
           {
            "marker": {
             "colorbar": {
              "outlinewidth": 0,
              "ticks": ""
             }
            },
            "type": "scatterternary"
           }
          ],
          "surface": [
           {
            "colorbar": {
             "outlinewidth": 0,
             "ticks": ""
            },
            "colorscale": [
             [
              0,
              "#0d0887"
             ],
             [
              0.1111111111111111,
              "#46039f"
             ],
             [
              0.2222222222222222,
              "#7201a8"
             ],
             [
              0.3333333333333333,
              "#9c179e"
             ],
             [
              0.4444444444444444,
              "#bd3786"
             ],
             [
              0.5555555555555556,
              "#d8576b"
             ],
             [
              0.6666666666666666,
              "#ed7953"
             ],
             [
              0.7777777777777778,
              "#fb9f3a"
             ],
             [
              0.8888888888888888,
              "#fdca26"
             ],
             [
              1,
              "#f0f921"
             ]
            ],
            "type": "surface"
           }
          ],
          "table": [
           {
            "cells": {
             "fill": {
              "color": "#EBF0F8"
             },
             "line": {
              "color": "white"
             }
            },
            "header": {
             "fill": {
              "color": "#C8D4E3"
             },
             "line": {
              "color": "white"
             }
            },
            "type": "table"
           }
          ]
         },
         "layout": {
          "annotationdefaults": {
           "arrowcolor": "#2a3f5f",
           "arrowhead": 0,
           "arrowwidth": 1
          },
          "autotypenumbers": "strict",
          "coloraxis": {
           "colorbar": {
            "outlinewidth": 0,
            "ticks": ""
           }
          },
          "colorscale": {
           "diverging": [
            [
             0,
             "#8e0152"
            ],
            [
             0.1,
             "#c51b7d"
            ],
            [
             0.2,
             "#de77ae"
            ],
            [
             0.3,
             "#f1b6da"
            ],
            [
             0.4,
             "#fde0ef"
            ],
            [
             0.5,
             "#f7f7f7"
            ],
            [
             0.6,
             "#e6f5d0"
            ],
            [
             0.7,
             "#b8e186"
            ],
            [
             0.8,
             "#7fbc41"
            ],
            [
             0.9,
             "#4d9221"
            ],
            [
             1,
             "#276419"
            ]
           ],
           "sequential": [
            [
             0,
             "#0d0887"
            ],
            [
             0.1111111111111111,
             "#46039f"
            ],
            [
             0.2222222222222222,
             "#7201a8"
            ],
            [
             0.3333333333333333,
             "#9c179e"
            ],
            [
             0.4444444444444444,
             "#bd3786"
            ],
            [
             0.5555555555555556,
             "#d8576b"
            ],
            [
             0.6666666666666666,
             "#ed7953"
            ],
            [
             0.7777777777777778,
             "#fb9f3a"
            ],
            [
             0.8888888888888888,
             "#fdca26"
            ],
            [
             1,
             "#f0f921"
            ]
           ],
           "sequentialminus": [
            [
             0,
             "#0d0887"
            ],
            [
             0.1111111111111111,
             "#46039f"
            ],
            [
             0.2222222222222222,
             "#7201a8"
            ],
            [
             0.3333333333333333,
             "#9c179e"
            ],
            [
             0.4444444444444444,
             "#bd3786"
            ],
            [
             0.5555555555555556,
             "#d8576b"
            ],
            [
             0.6666666666666666,
             "#ed7953"
            ],
            [
             0.7777777777777778,
             "#fb9f3a"
            ],
            [
             0.8888888888888888,
             "#fdca26"
            ],
            [
             1,
             "#f0f921"
            ]
           ]
          },
          "colorway": [
           "#636efa",
           "#EF553B",
           "#00cc96",
           "#ab63fa",
           "#FFA15A",
           "#19d3f3",
           "#FF6692",
           "#B6E880",
           "#FF97FF",
           "#FECB52"
          ],
          "font": {
           "color": "#2a3f5f"
          },
          "geo": {
           "bgcolor": "white",
           "lakecolor": "white",
           "landcolor": "#E5ECF6",
           "showlakes": true,
           "showland": true,
           "subunitcolor": "white"
          },
          "hoverlabel": {
           "align": "left"
          },
          "hovermode": "closest",
          "mapbox": {
           "style": "light"
          },
          "paper_bgcolor": "white",
          "plot_bgcolor": "#E5ECF6",
          "polar": {
           "angularaxis": {
            "gridcolor": "white",
            "linecolor": "white",
            "ticks": ""
           },
           "bgcolor": "#E5ECF6",
           "radialaxis": {
            "gridcolor": "white",
            "linecolor": "white",
            "ticks": ""
           }
          },
          "scene": {
           "xaxis": {
            "backgroundcolor": "#E5ECF6",
            "gridcolor": "white",
            "gridwidth": 2,
            "linecolor": "white",
            "showbackground": true,
            "ticks": "",
            "zerolinecolor": "white"
           },
           "yaxis": {
            "backgroundcolor": "#E5ECF6",
            "gridcolor": "white",
            "gridwidth": 2,
            "linecolor": "white",
            "showbackground": true,
            "ticks": "",
            "zerolinecolor": "white"
           },
           "zaxis": {
            "backgroundcolor": "#E5ECF6",
            "gridcolor": "white",
            "gridwidth": 2,
            "linecolor": "white",
            "showbackground": true,
            "ticks": "",
            "zerolinecolor": "white"
           }
          },
          "shapedefaults": {
           "line": {
            "color": "#2a3f5f"
           }
          },
          "ternary": {
           "aaxis": {
            "gridcolor": "white",
            "linecolor": "white",
            "ticks": ""
           },
           "baxis": {
            "gridcolor": "white",
            "linecolor": "white",
            "ticks": ""
           },
           "bgcolor": "#E5ECF6",
           "caxis": {
            "gridcolor": "white",
            "linecolor": "white",
            "ticks": ""
           }
          },
          "title": {
           "x": 0.05
          },
          "xaxis": {
           "automargin": true,
           "gridcolor": "white",
           "linecolor": "white",
           "ticks": "",
           "title": {
            "standoff": 15
           },
           "zerolinecolor": "white",
           "zerolinewidth": 2
          },
          "yaxis": {
           "automargin": true,
           "gridcolor": "white",
           "linecolor": "white",
           "ticks": "",
           "title": {
            "standoff": 15
           },
           "zerolinecolor": "white",
           "zerolinewidth": 2
          }
         }
        },
        "title": {
         "text": "Top avg likes"
        }
       }
      }
     },
     "metadata": {},
     "output_type": "display_data"
    }
   ],
   "source": [
    "def sunburst_country_avg_likes(df):\n",
    "    fig = px.sunburst(df, path=[\"country\", \"channel_info\"], names='channel_info', values='avg_likes', title='Top avg likes')\n",
    "    fig.show()\n",
    "sunburst_country_avg_likes(data_clean)"
   ]
  },
  {
   "cell_type": "code",
   "execution_count": 158,
   "metadata": {},
   "outputs": [
    {
     "data": {
      "application/vnd.plotly.v1+json": {
       "config": {
        "plotlyServerURL": "https://plot.ly"
       },
       "data": [
        {
         "branchvalues": "total",
         "domain": {
          "x": [
           0,
           1
          ],
          "y": [
           0,
           1
          ]
         },
         "hovertemplate": "labels=%{label}<br>posts=%{value}<br>parent=%{parent}<br>id=%{id}<extra></extra>",
         "ids": [
          "Netherlands/433",
          "United States/5-Minute Crafts GIRLY",
          "United States/9gag",
          "Other country/Shakira",
          "Other country/addisonraee",
          "United States/adele",
          "Other country/adidasoriginals",
          "Other country/akshaykumar",
          "India/aliaabhatt",
          "Spain/andresiniesta8",
          "United States/anitta",
          "France/antogriezmann",
          "Other country/anushkasen0408",
          "Other country/anushkasharma",
          "United States/arianagrande",
          "Indonesia/ayutingting92",
          "Other country/badbunnypr",
          "United States/badgalriri",
          "United States/barackobama",
          "India/beingsalmankhan",
          "United Kingdom/bellahadid",
          "United States/beyonce",
          "Other country/billieeilish",
          "Other country/blackpinkofficial",
          "United States/blakelively",
          "Germany/bmw",
          "Turkey/britneyspears",
          "United States/brunamarquezine",
          "Uruguay/bts.bighitofficial",
          "Spain/buzzfeedtasty",
          "United States/camila_cabello",
          "United States/caradelevingne",
          "Netherlands/champagnepapi",
          "Other country/charlidamelio",
          "United States/chrisbrownofficial",
          "Australia/chrishemsworth",
          "United States/chrissyteigen",
          "Other country/colesprouse",
          "Spain/cristiano",
          "Other country/cznburak",
          "Puerto Rico/daddyyankee",
          "Canada/danbilzerian",
          "Mexico/dannapaola",
          "United States/davidbeckham",
          "United States/ddlovato",
          "India/deepikapadukone",
          "Other country/dior",
          "United States/dishapatani",
          "United States/disney",
          "United States/dovecameron",
          "United Kingdom/dualipa",
          "United States/eminem",
          "United States/emmawatson",
          "Other country/fcbarcelona",
          "United States/gal_gadot",
          "Other country/garethbale11",
          "Other country/georginagio",
          "United States/gigihadid",
          "Other country/gisel_la",
          "Italy/gucci",
          "Brazil/gusttavolima",
          "Other country/haileybieber",
          "United States/harrystyles",
          "Sweden/hm",
          "Cã´Te D'Ivoire/hrithikroshan",
          "United States/hudabeauty",
          "United States/iambeckyg",
          "United States/iamcardib",
          "Other country/iamzlatanibrahimovic",
          "Brazil/ivetesangalo",
          "Other country/j.m",
          "India/jacquelinef143",
          "Colombia/jamesrodriguez10",
          "Other country/jannatzubair29",
          "Other country/jbalvin",
          "Other country/jennierubyjane",
          "Other country/jenniferaniston",
          "United States/jlo",
          "Other country/jokowi",
          "Canada/justinbieber",
          "United States/justintimberlake",
          "Other country/juventus",
          "Other country/k.mbappe",
          "Other country/kapilsharma",
          "Spain/karimbenzema",
          "India/karolg",
          "India/katrinakaif",
          "Other country/katyperry",
          "United States/kendalljenner",
          "United States/kevinhart4real",
          "Russia/khabib_nurmagomedov",
          "United States/khloekardashian",
          "Mexico/kimberly.loaiza",
          "United States/kimkardashian",
          "Other country/kingjames",
          "United States/kourtneykardash",
          "United States/krisjenner",
          "India/kritisanon",
          "United States/kyliejenner",
          "United States/ladygaga",
          "Other country/lalalalisa_m",
          "Brazil/larissamanoela",
          "Indonesia/laudyacynthiabella",
          "United States/lelepons",
          "Other country/leomessi",
          "Other country/leonardodicaprio",
          "United Kingdom/liverpoolfc",
          "France/louisvuitton",
          "Brazil/luansantana",
          "Other country/luissuarez9",
          "Other country/lunamaya",
          "Other country/mahi7781",
          "Brazil/maisa",
          "Colombia/maluma",
          "United Kingdom/manchesterunited",
          "Brazil/marcelotwelve",
          "Brazil/mariliamendoncacantora",
          "Brazil/marinaruybarbosa",
          "Turkey/marvel",
          "Other country/marvelstudios",
          "British Virgin Islands/mercedesbenz",
          "Other country/michelleobama",
          "Other country/mileycyrus",
          "United States/milliebobbybrown",
          "Other country/mosalah",
          "France/nancyajram",
          "India/narendramodi",
          "United States/nasa",
          "Other country/natashawilona12",
          "United States/natgeo",
          "United States/natgeotravel",
          "Czech Republic/nattinatasha",
          "United States/nba",
          "India/nehakakkar",
          "Brazil/neymarjr",
          "United States/nickiminaj",
          "United States/nickjonas",
          "Colombia/nickyjampr",
          "United States/nike",
          "United States/nikefootball",
          "Anguilla/norafatehi",
          "United Arab Emirates/nusr_et",
          "Other country/paollaoliveirareal",
          "Other country/parineetichopra",
          "Other country/paulodybala",
          "France/paulpogba",
          "Other country/prattprattpratt",
          "Indonesia/prillylatuconsina96",
          "Indonesia/princessyahrini",
          "United States/priyankachopra",
          "France/psg",
          "Indonesia/raffinagita1717",
          "Indonesia/raisa6690",
          "Switzerland/ranveersingh",
          "Spain/realmadrid",
          "Other country/rkive",
          "United States/robertdowneyjr",
          "Brazil/ronaldinho",
          "Other country/roses_are_rosie",
          "Indonesia/ruben_onsu",
          "Other country/sachintendulkar",
          "United States/selenagomez",
          "Other country/sergioramos",
          "Other country/shahidkapoor",
          "Canada/shawnmendes",
          "United States/shaymitchell",
          "Other country/shraddhakapoor",
          "Brazil/simonemendes",
          "Other country/snoopdogg",
          "India/sonamkapoor",
          "Other country/sooyaaa__",
          "Other country/stephencurry30",
          "Other country/sunnyleone",
          "Brazil/tatawerneck",
          "United States/taylorswift",
          "United States/teddysphotos",
          "United States/theellenshow",
          "United States/thenotoriousmma",
          "United States/therock",
          "Other country/theweeknd",
          "Other country/thv",
          "India/tigerjackieshroff",
          "Other country/tomholland2013",
          "Other country/toni.kr8s",
          "United States/travisscott",
          "Other country/vancityreynolds",
          "United States/vanessahudgens",
          "India/varundvn",
          "United States/victoriassecret",
          "United States/vindiesel",
          "Other country/virat.kohli",
          "Other country/wesleysafadao",
          "Brazil/whinderssonnunes",
          "United States/willsmith",
          "United States/wizkhalifa",
          "United States/worldstar",
          "United States/zacefron",
          "United States/zayn",
          "United States/zendaya",
          "France/zidane",
          "Anguilla",
          "Australia",
          "Brazil",
          "British Virgin Islands",
          "Canada",
          "Colombia",
          "Czech Republic",
          "Cã´Te D'Ivoire",
          "France",
          "Germany",
          "India",
          "Indonesia",
          "Italy",
          "Mexico",
          "Netherlands",
          "Other country",
          "Puerto Rico",
          "Russia",
          "Spain",
          "Sweden",
          "Switzerland",
          "Turkey",
          "United Arab Emirates",
          "United Kingdom",
          "United States",
          "Uruguay"
         ],
         "labels": [
          "433",
          "5-Minute Crafts GIRLY",
          "9gag",
          "Shakira",
          "addisonraee",
          "adele",
          "adidasoriginals",
          "akshaykumar",
          "aliaabhatt",
          "andresiniesta8",
          "anitta",
          "antogriezmann",
          "anushkasen0408",
          "anushkasharma",
          "arianagrande",
          "ayutingting92",
          "badbunnypr",
          "badgalriri",
          "barackobama",
          "beingsalmankhan",
          "bellahadid",
          "beyonce",
          "billieeilish",
          "blackpinkofficial",
          "blakelively",
          "bmw",
          "britneyspears",
          "brunamarquezine",
          "bts.bighitofficial",
          "buzzfeedtasty",
          "camila_cabello",
          "caradelevingne",
          "champagnepapi",
          "charlidamelio",
          "chrisbrownofficial",
          "chrishemsworth",
          "chrissyteigen",
          "colesprouse",
          "cristiano",
          "cznburak",
          "daddyyankee",
          "danbilzerian",
          "dannapaola",
          "davidbeckham",
          "ddlovato",
          "deepikapadukone",
          "dior",
          "dishapatani",
          "disney",
          "dovecameron",
          "dualipa",
          "eminem",
          "emmawatson",
          "fcbarcelona",
          "gal_gadot",
          "garethbale11",
          "georginagio",
          "gigihadid",
          "gisel_la",
          "gucci",
          "gusttavolima",
          "haileybieber",
          "harrystyles",
          "hm",
          "hrithikroshan",
          "hudabeauty",
          "iambeckyg",
          "iamcardib",
          "iamzlatanibrahimovic",
          "ivetesangalo",
          "j.m",
          "jacquelinef143",
          "jamesrodriguez10",
          "jannatzubair29",
          "jbalvin",
          "jennierubyjane",
          "jenniferaniston",
          "jlo",
          "jokowi",
          "justinbieber",
          "justintimberlake",
          "juventus",
          "k.mbappe",
          "kapilsharma",
          "karimbenzema",
          "karolg",
          "katrinakaif",
          "katyperry",
          "kendalljenner",
          "kevinhart4real",
          "khabib_nurmagomedov",
          "khloekardashian",
          "kimberly.loaiza",
          "kimkardashian",
          "kingjames",
          "kourtneykardash",
          "krisjenner",
          "kritisanon",
          "kyliejenner",
          "ladygaga",
          "lalalalisa_m",
          "larissamanoela",
          "laudyacynthiabella",
          "lelepons",
          "leomessi",
          "leonardodicaprio",
          "liverpoolfc",
          "louisvuitton",
          "luansantana",
          "luissuarez9",
          "lunamaya",
          "mahi7781",
          "maisa",
          "maluma",
          "manchesterunited",
          "marcelotwelve",
          "mariliamendoncacantora",
          "marinaruybarbosa",
          "marvel",
          "marvelstudios",
          "mercedesbenz",
          "michelleobama",
          "mileycyrus",
          "milliebobbybrown",
          "mosalah",
          "nancyajram",
          "narendramodi",
          "nasa",
          "natashawilona12",
          "natgeo",
          "natgeotravel",
          "nattinatasha",
          "nba",
          "nehakakkar",
          "neymarjr",
          "nickiminaj",
          "nickjonas",
          "nickyjampr",
          "nike",
          "nikefootball",
          "norafatehi",
          "nusr_et",
          "paollaoliveirareal",
          "parineetichopra",
          "paulodybala",
          "paulpogba",
          "prattprattpratt",
          "prillylatuconsina96",
          "princessyahrini",
          "priyankachopra",
          "psg",
          "raffinagita1717",
          "raisa6690",
          "ranveersingh",
          "realmadrid",
          "rkive",
          "robertdowneyjr",
          "ronaldinho",
          "roses_are_rosie",
          "ruben_onsu",
          "sachintendulkar",
          "selenagomez",
          "sergioramos",
          "shahidkapoor",
          "shawnmendes",
          "shaymitchell",
          "shraddhakapoor",
          "simonemendes",
          "snoopdogg",
          "sonamkapoor",
          "sooyaaa__",
          "stephencurry30",
          "sunnyleone",
          "tatawerneck",
          "taylorswift",
          "teddysphotos",
          "theellenshow",
          "thenotoriousmma",
          "therock",
          "theweeknd",
          "thv",
          "tigerjackieshroff",
          "tomholland2013",
          "toni.kr8s",
          "travisscott",
          "vancityreynolds",
          "vanessahudgens",
          "varundvn",
          "victoriassecret",
          "vindiesel",
          "virat.kohli",
          "wesleysafadao",
          "whinderssonnunes",
          "willsmith",
          "wizkhalifa",
          "worldstar",
          "zacefron",
          "zayn",
          "zendaya",
          "zidane",
          "Anguilla",
          "Australia",
          "Brazil",
          "British Virgin Islands",
          "Canada",
          "Colombia",
          "Czech Republic",
          "Cã´Te D'Ivoire",
          "France",
          "Germany",
          "India",
          "Indonesia",
          "Italy",
          "Mexico",
          "Netherlands",
          "Other country",
          "Puerto Rico",
          "Russia",
          "Spain",
          "Sweden",
          "Switzerland",
          "Turkey",
          "United Arab Emirates",
          "United Kingdom",
          "United States",
          "Uruguay"
         ],
         "name": "",
         "parents": [
          "Netherlands",
          "United States",
          "United States",
          "Other country",
          "Other country",
          "United States",
          "Other country",
          "Other country",
          "India",
          "Spain",
          "United States",
          "France",
          "Other country",
          "Other country",
          "United States",
          "Indonesia",
          "Other country",
          "United States",
          "United States",
          "India",
          "United Kingdom",
          "United States",
          "Other country",
          "Other country",
          "United States",
          "Germany",
          "Turkey",
          "United States",
          "Uruguay",
          "Spain",
          "United States",
          "United States",
          "Netherlands",
          "Other country",
          "United States",
          "Australia",
          "United States",
          "Other country",
          "Spain",
          "Other country",
          "Puerto Rico",
          "Canada",
          "Mexico",
          "United States",
          "United States",
          "India",
          "Other country",
          "United States",
          "United States",
          "United States",
          "United Kingdom",
          "United States",
          "United States",
          "Other country",
          "United States",
          "Other country",
          "Other country",
          "United States",
          "Other country",
          "Italy",
          "Brazil",
          "Other country",
          "United States",
          "Sweden",
          "Cã´Te D'Ivoire",
          "United States",
          "United States",
          "United States",
          "Other country",
          "Brazil",
          "Other country",
          "India",
          "Colombia",
          "Other country",
          "Other country",
          "Other country",
          "Other country",
          "United States",
          "Other country",
          "Canada",
          "United States",
          "Other country",
          "Other country",
          "Other country",
          "Spain",
          "India",
          "India",
          "Other country",
          "United States",
          "United States",
          "Russia",
          "United States",
          "Mexico",
          "United States",
          "Other country",
          "United States",
          "United States",
          "India",
          "United States",
          "United States",
          "Other country",
          "Brazil",
          "Indonesia",
          "United States",
          "Other country",
          "Other country",
          "United Kingdom",
          "France",
          "Brazil",
          "Other country",
          "Other country",
          "Other country",
          "Brazil",
          "Colombia",
          "United Kingdom",
          "Brazil",
          "Brazil",
          "Brazil",
          "Turkey",
          "Other country",
          "British Virgin Islands",
          "Other country",
          "Other country",
          "United States",
          "Other country",
          "France",
          "India",
          "United States",
          "Other country",
          "United States",
          "United States",
          "Czech Republic",
          "United States",
          "India",
          "Brazil",
          "United States",
          "United States",
          "Colombia",
          "United States",
          "United States",
          "Anguilla",
          "United Arab Emirates",
          "Other country",
          "Other country",
          "Other country",
          "France",
          "Other country",
          "Indonesia",
          "Indonesia",
          "United States",
          "France",
          "Indonesia",
          "Indonesia",
          "Switzerland",
          "Spain",
          "Other country",
          "United States",
          "Brazil",
          "Other country",
          "Indonesia",
          "Other country",
          "United States",
          "Other country",
          "Other country",
          "Canada",
          "United States",
          "Other country",
          "Brazil",
          "Other country",
          "India",
          "Other country",
          "Other country",
          "Other country",
          "Brazil",
          "United States",
          "United States",
          "United States",
          "United States",
          "United States",
          "Other country",
          "Other country",
          "India",
          "Other country",
          "Other country",
          "United States",
          "Other country",
          "United States",
          "India",
          "United States",
          "United States",
          "Other country",
          "Other country",
          "Brazil",
          "United States",
          "United States",
          "United States",
          "United States",
          "United States",
          "United States",
          "France",
          "",
          "",
          "",
          "",
          "",
          "",
          "",
          "",
          "",
          "",
          "",
          "",
          "",
          "",
          "",
          "",
          "",
          "",
          "",
          "",
          "",
          "",
          "",
          "",
          "",
          ""
         ],
         "type": "sunburst",
         "values": [
          10300,
          10000,
          10000,
          2000,
          300,
          420,
          150,
          1900,
          1800,
          2000,
          5100,
          870,
          5300,
          1200,
          5000,
          10000,
          10,
          4800,
          660,
          1200,
          3200,
          2000,
          690,
          1400,
          110,
          9300,
          3000,
          3000,
          1200,
          8900,
          2900,
          4400,
          5200,
          150,
          7300,
          880,
          5100,
          1200,
          3300,
          1800,
          20,
          1400,
          1900,
          1500,
          80,
          260,
          9700,
          2100,
          7300,
          170,
          1300,
          660,
          340,
          10000,
          1700,
          980,
          730,
          3300,
          9900,
          8900,
          4900,
          2100,
          590,
          7300,
          580,
          2400,
          2300,
          1600,
          870,
          7600,
          20,
          2400,
          1100,
          1600,
          10000,
          860,
          90,
          3200,
          3500,
          7400,
          780,
          10000,
          1200,
          950,
          2000,
          3300,
          1000,
          2000,
          660,
          8200,
          4500,
          4100,
          590,
          5600,
          2300,
          4400,
          6400,
          2700,
          6900,
          3600,
          870,
          5200,
          380,
          2500,
          890,
          1700,
          10000,
          6500,
          770,
          970,
          4100,
          100,
          1500,
          8200,
          9900,
          2700,
          1400,
          2100,
          7000,
          2700,
          10000,
          600,
          1200,
          280,
          840,
          3800,
          540,
          3600,
          1200,
          10000,
          16900,
          30,
          12900,
          2300,
          5300,
          6400,
          2300,
          10000,
          950,
          1800,
          1700,
          2300,
          4600,
          1300,
          1300,
          1300,
          730,
          6500,
          4500,
          3600,
          10000,
          17500,
          4200,
          1800,
          6900,
          110,
          420,
          2900,
          820,
          13400,
          1000,
          1800,
          2200,
          1100,
          2500,
          6300,
          1900,
          4400,
          10000,
          4800,
          830,
          1100,
          4600,
          5600,
          530,
          2300,
          10000,
          3200,
          6800,
          670,
          60,
          2100,
          1200,
          940,
          3200,
          680,
          4200,
          1900,
          2900,
          1800,
          1400,
          8900,
          2700,
          1400,
          500,
          11600,
          660,
          160,
          3500,
          370,
          1700,
          880,
          47070,
          10000,
          11300,
          19300,
          30,
          580,
          22840,
          9300,
          24300,
          56480,
          8900,
          2490,
          15500,
          143510,
          20,
          4500,
          23100,
          7300,
          1800,
          10000,
          2300,
          24400,
          251170,
          1200
         ]
        }
       ],
       "layout": {
        "legend": {
         "tracegroupgap": 0
        },
        "template": {
         "data": {
          "bar": [
           {
            "error_x": {
             "color": "#2a3f5f"
            },
            "error_y": {
             "color": "#2a3f5f"
            },
            "marker": {
             "line": {
              "color": "#E5ECF6",
              "width": 0.5
             },
             "pattern": {
              "fillmode": "overlay",
              "size": 10,
              "solidity": 0.2
             }
            },
            "type": "bar"
           }
          ],
          "barpolar": [
           {
            "marker": {
             "line": {
              "color": "#E5ECF6",
              "width": 0.5
             },
             "pattern": {
              "fillmode": "overlay",
              "size": 10,
              "solidity": 0.2
             }
            },
            "type": "barpolar"
           }
          ],
          "carpet": [
           {
            "aaxis": {
             "endlinecolor": "#2a3f5f",
             "gridcolor": "white",
             "linecolor": "white",
             "minorgridcolor": "white",
             "startlinecolor": "#2a3f5f"
            },
            "baxis": {
             "endlinecolor": "#2a3f5f",
             "gridcolor": "white",
             "linecolor": "white",
             "minorgridcolor": "white",
             "startlinecolor": "#2a3f5f"
            },
            "type": "carpet"
           }
          ],
          "choropleth": [
           {
            "colorbar": {
             "outlinewidth": 0,
             "ticks": ""
            },
            "type": "choropleth"
           }
          ],
          "contour": [
           {
            "colorbar": {
             "outlinewidth": 0,
             "ticks": ""
            },
            "colorscale": [
             [
              0,
              "#0d0887"
             ],
             [
              0.1111111111111111,
              "#46039f"
             ],
             [
              0.2222222222222222,
              "#7201a8"
             ],
             [
              0.3333333333333333,
              "#9c179e"
             ],
             [
              0.4444444444444444,
              "#bd3786"
             ],
             [
              0.5555555555555556,
              "#d8576b"
             ],
             [
              0.6666666666666666,
              "#ed7953"
             ],
             [
              0.7777777777777778,
              "#fb9f3a"
             ],
             [
              0.8888888888888888,
              "#fdca26"
             ],
             [
              1,
              "#f0f921"
             ]
            ],
            "type": "contour"
           }
          ],
          "contourcarpet": [
           {
            "colorbar": {
             "outlinewidth": 0,
             "ticks": ""
            },
            "type": "contourcarpet"
           }
          ],
          "heatmap": [
           {
            "colorbar": {
             "outlinewidth": 0,
             "ticks": ""
            },
            "colorscale": [
             [
              0,
              "#0d0887"
             ],
             [
              0.1111111111111111,
              "#46039f"
             ],
             [
              0.2222222222222222,
              "#7201a8"
             ],
             [
              0.3333333333333333,
              "#9c179e"
             ],
             [
              0.4444444444444444,
              "#bd3786"
             ],
             [
              0.5555555555555556,
              "#d8576b"
             ],
             [
              0.6666666666666666,
              "#ed7953"
             ],
             [
              0.7777777777777778,
              "#fb9f3a"
             ],
             [
              0.8888888888888888,
              "#fdca26"
             ],
             [
              1,
              "#f0f921"
             ]
            ],
            "type": "heatmap"
           }
          ],
          "heatmapgl": [
           {
            "colorbar": {
             "outlinewidth": 0,
             "ticks": ""
            },
            "colorscale": [
             [
              0,
              "#0d0887"
             ],
             [
              0.1111111111111111,
              "#46039f"
             ],
             [
              0.2222222222222222,
              "#7201a8"
             ],
             [
              0.3333333333333333,
              "#9c179e"
             ],
             [
              0.4444444444444444,
              "#bd3786"
             ],
             [
              0.5555555555555556,
              "#d8576b"
             ],
             [
              0.6666666666666666,
              "#ed7953"
             ],
             [
              0.7777777777777778,
              "#fb9f3a"
             ],
             [
              0.8888888888888888,
              "#fdca26"
             ],
             [
              1,
              "#f0f921"
             ]
            ],
            "type": "heatmapgl"
           }
          ],
          "histogram": [
           {
            "marker": {
             "pattern": {
              "fillmode": "overlay",
              "size": 10,
              "solidity": 0.2
             }
            },
            "type": "histogram"
           }
          ],
          "histogram2d": [
           {
            "colorbar": {
             "outlinewidth": 0,
             "ticks": ""
            },
            "colorscale": [
             [
              0,
              "#0d0887"
             ],
             [
              0.1111111111111111,
              "#46039f"
             ],
             [
              0.2222222222222222,
              "#7201a8"
             ],
             [
              0.3333333333333333,
              "#9c179e"
             ],
             [
              0.4444444444444444,
              "#bd3786"
             ],
             [
              0.5555555555555556,
              "#d8576b"
             ],
             [
              0.6666666666666666,
              "#ed7953"
             ],
             [
              0.7777777777777778,
              "#fb9f3a"
             ],
             [
              0.8888888888888888,
              "#fdca26"
             ],
             [
              1,
              "#f0f921"
             ]
            ],
            "type": "histogram2d"
           }
          ],
          "histogram2dcontour": [
           {
            "colorbar": {
             "outlinewidth": 0,
             "ticks": ""
            },
            "colorscale": [
             [
              0,
              "#0d0887"
             ],
             [
              0.1111111111111111,
              "#46039f"
             ],
             [
              0.2222222222222222,
              "#7201a8"
             ],
             [
              0.3333333333333333,
              "#9c179e"
             ],
             [
              0.4444444444444444,
              "#bd3786"
             ],
             [
              0.5555555555555556,
              "#d8576b"
             ],
             [
              0.6666666666666666,
              "#ed7953"
             ],
             [
              0.7777777777777778,
              "#fb9f3a"
             ],
             [
              0.8888888888888888,
              "#fdca26"
             ],
             [
              1,
              "#f0f921"
             ]
            ],
            "type": "histogram2dcontour"
           }
          ],
          "mesh3d": [
           {
            "colorbar": {
             "outlinewidth": 0,
             "ticks": ""
            },
            "type": "mesh3d"
           }
          ],
          "parcoords": [
           {
            "line": {
             "colorbar": {
              "outlinewidth": 0,
              "ticks": ""
             }
            },
            "type": "parcoords"
           }
          ],
          "pie": [
           {
            "automargin": true,
            "type": "pie"
           }
          ],
          "scatter": [
           {
            "fillpattern": {
             "fillmode": "overlay",
             "size": 10,
             "solidity": 0.2
            },
            "type": "scatter"
           }
          ],
          "scatter3d": [
           {
            "line": {
             "colorbar": {
              "outlinewidth": 0,
              "ticks": ""
             }
            },
            "marker": {
             "colorbar": {
              "outlinewidth": 0,
              "ticks": ""
             }
            },
            "type": "scatter3d"
           }
          ],
          "scattercarpet": [
           {
            "marker": {
             "colorbar": {
              "outlinewidth": 0,
              "ticks": ""
             }
            },
            "type": "scattercarpet"
           }
          ],
          "scattergeo": [
           {
            "marker": {
             "colorbar": {
              "outlinewidth": 0,
              "ticks": ""
             }
            },
            "type": "scattergeo"
           }
          ],
          "scattergl": [
           {
            "marker": {
             "colorbar": {
              "outlinewidth": 0,
              "ticks": ""
             }
            },
            "type": "scattergl"
           }
          ],
          "scattermapbox": [
           {
            "marker": {
             "colorbar": {
              "outlinewidth": 0,
              "ticks": ""
             }
            },
            "type": "scattermapbox"
           }
          ],
          "scatterpolar": [
           {
            "marker": {
             "colorbar": {
              "outlinewidth": 0,
              "ticks": ""
             }
            },
            "type": "scatterpolar"
           }
          ],
          "scatterpolargl": [
           {
            "marker": {
             "colorbar": {
              "outlinewidth": 0,
              "ticks": ""
             }
            },
            "type": "scatterpolargl"
           }
          ],
          "scatterternary": [
           {
            "marker": {
             "colorbar": {
              "outlinewidth": 0,
              "ticks": ""
             }
            },
            "type": "scatterternary"
           }
          ],
          "surface": [
           {
            "colorbar": {
             "outlinewidth": 0,
             "ticks": ""
            },
            "colorscale": [
             [
              0,
              "#0d0887"
             ],
             [
              0.1111111111111111,
              "#46039f"
             ],
             [
              0.2222222222222222,
              "#7201a8"
             ],
             [
              0.3333333333333333,
              "#9c179e"
             ],
             [
              0.4444444444444444,
              "#bd3786"
             ],
             [
              0.5555555555555556,
              "#d8576b"
             ],
             [
              0.6666666666666666,
              "#ed7953"
             ],
             [
              0.7777777777777778,
              "#fb9f3a"
             ],
             [
              0.8888888888888888,
              "#fdca26"
             ],
             [
              1,
              "#f0f921"
             ]
            ],
            "type": "surface"
           }
          ],
          "table": [
           {
            "cells": {
             "fill": {
              "color": "#EBF0F8"
             },
             "line": {
              "color": "white"
             }
            },
            "header": {
             "fill": {
              "color": "#C8D4E3"
             },
             "line": {
              "color": "white"
             }
            },
            "type": "table"
           }
          ]
         },
         "layout": {
          "annotationdefaults": {
           "arrowcolor": "#2a3f5f",
           "arrowhead": 0,
           "arrowwidth": 1
          },
          "autotypenumbers": "strict",
          "coloraxis": {
           "colorbar": {
            "outlinewidth": 0,
            "ticks": ""
           }
          },
          "colorscale": {
           "diverging": [
            [
             0,
             "#8e0152"
            ],
            [
             0.1,
             "#c51b7d"
            ],
            [
             0.2,
             "#de77ae"
            ],
            [
             0.3,
             "#f1b6da"
            ],
            [
             0.4,
             "#fde0ef"
            ],
            [
             0.5,
             "#f7f7f7"
            ],
            [
             0.6,
             "#e6f5d0"
            ],
            [
             0.7,
             "#b8e186"
            ],
            [
             0.8,
             "#7fbc41"
            ],
            [
             0.9,
             "#4d9221"
            ],
            [
             1,
             "#276419"
            ]
           ],
           "sequential": [
            [
             0,
             "#0d0887"
            ],
            [
             0.1111111111111111,
             "#46039f"
            ],
            [
             0.2222222222222222,
             "#7201a8"
            ],
            [
             0.3333333333333333,
             "#9c179e"
            ],
            [
             0.4444444444444444,
             "#bd3786"
            ],
            [
             0.5555555555555556,
             "#d8576b"
            ],
            [
             0.6666666666666666,
             "#ed7953"
            ],
            [
             0.7777777777777778,
             "#fb9f3a"
            ],
            [
             0.8888888888888888,
             "#fdca26"
            ],
            [
             1,
             "#f0f921"
            ]
           ],
           "sequentialminus": [
            [
             0,
             "#0d0887"
            ],
            [
             0.1111111111111111,
             "#46039f"
            ],
            [
             0.2222222222222222,
             "#7201a8"
            ],
            [
             0.3333333333333333,
             "#9c179e"
            ],
            [
             0.4444444444444444,
             "#bd3786"
            ],
            [
             0.5555555555555556,
             "#d8576b"
            ],
            [
             0.6666666666666666,
             "#ed7953"
            ],
            [
             0.7777777777777778,
             "#fb9f3a"
            ],
            [
             0.8888888888888888,
             "#fdca26"
            ],
            [
             1,
             "#f0f921"
            ]
           ]
          },
          "colorway": [
           "#636efa",
           "#EF553B",
           "#00cc96",
           "#ab63fa",
           "#FFA15A",
           "#19d3f3",
           "#FF6692",
           "#B6E880",
           "#FF97FF",
           "#FECB52"
          ],
          "font": {
           "color": "#2a3f5f"
          },
          "geo": {
           "bgcolor": "white",
           "lakecolor": "white",
           "landcolor": "#E5ECF6",
           "showlakes": true,
           "showland": true,
           "subunitcolor": "white"
          },
          "hoverlabel": {
           "align": "left"
          },
          "hovermode": "closest",
          "mapbox": {
           "style": "light"
          },
          "paper_bgcolor": "white",
          "plot_bgcolor": "#E5ECF6",
          "polar": {
           "angularaxis": {
            "gridcolor": "white",
            "linecolor": "white",
            "ticks": ""
           },
           "bgcolor": "#E5ECF6",
           "radialaxis": {
            "gridcolor": "white",
            "linecolor": "white",
            "ticks": ""
           }
          },
          "scene": {
           "xaxis": {
            "backgroundcolor": "#E5ECF6",
            "gridcolor": "white",
            "gridwidth": 2,
            "linecolor": "white",
            "showbackground": true,
            "ticks": "",
            "zerolinecolor": "white"
           },
           "yaxis": {
            "backgroundcolor": "#E5ECF6",
            "gridcolor": "white",
            "gridwidth": 2,
            "linecolor": "white",
            "showbackground": true,
            "ticks": "",
            "zerolinecolor": "white"
           },
           "zaxis": {
            "backgroundcolor": "#E5ECF6",
            "gridcolor": "white",
            "gridwidth": 2,
            "linecolor": "white",
            "showbackground": true,
            "ticks": "",
            "zerolinecolor": "white"
           }
          },
          "shapedefaults": {
           "line": {
            "color": "#2a3f5f"
           }
          },
          "ternary": {
           "aaxis": {
            "gridcolor": "white",
            "linecolor": "white",
            "ticks": ""
           },
           "baxis": {
            "gridcolor": "white",
            "linecolor": "white",
            "ticks": ""
           },
           "bgcolor": "#E5ECF6",
           "caxis": {
            "gridcolor": "white",
            "linecolor": "white",
            "ticks": ""
           }
          },
          "title": {
           "x": 0.05
          },
          "xaxis": {
           "automargin": true,
           "gridcolor": "white",
           "linecolor": "white",
           "ticks": "",
           "title": {
            "standoff": 15
           },
           "zerolinecolor": "white",
           "zerolinewidth": 2
          },
          "yaxis": {
           "automargin": true,
           "gridcolor": "white",
           "linecolor": "white",
           "ticks": "",
           "title": {
            "standoff": 15
           },
           "zerolinecolor": "white",
           "zerolinewidth": 2
          }
         }
        },
        "title": {
         "text": "Top posts"
        }
       }
      }
     },
     "metadata": {},
     "output_type": "display_data"
    }
   ],
   "source": [
    "def sunburst_country_posts(df):\n",
    "    fig = px.sunburst(df, path=[\"country\", \"channel_info\"], names='channel_info', values='posts', title='Top posts')\n",
    "    fig.show()\n",
    "sunburst_country_posts(data_clean)"
   ]
  },
  {
   "cell_type": "code",
   "execution_count": 160,
   "metadata": {},
   "outputs": [
    {
     "data": {
      "application/vnd.plotly.v1+json": {
       "config": {
        "plotlyServerURL": "https://plot.ly"
       },
       "data": [
        {
         "branchvalues": "total",
         "domain": {
          "x": [
           0,
           1
          ],
          "y": [
           0,
           1
          ]
         },
         "hovertemplate": "labels=%{label}<br>total_likes=%{value}<br>parent=%{parent}<br>id=%{id}<extra></extra>",
         "ids": [
          "Netherlands/433",
          "United States/5-Minute Crafts GIRLY",
          "United States/9gag",
          "Other country/Shakira",
          "Other country/addisonraee",
          "United States/adele",
          "Other country/adidasoriginals",
          "Other country/akshaykumar",
          "India/aliaabhatt",
          "Spain/andresiniesta8",
          "United States/anitta",
          "France/antogriezmann",
          "Other country/anushkasen0408",
          "Other country/anushkasharma",
          "United States/arianagrande",
          "Indonesia/ayutingting92",
          "Other country/badbunnypr",
          "United States/badgalriri",
          "United States/barackobama",
          "India/beingsalmankhan",
          "United Kingdom/bellahadid",
          "United States/beyonce",
          "Other country/billieeilish",
          "Other country/blackpinkofficial",
          "United States/blakelively",
          "Germany/bmw",
          "Turkey/britneyspears",
          "United States/brunamarquezine",
          "Uruguay/bts.bighitofficial",
          "Spain/buzzfeedtasty",
          "United States/camila_cabello",
          "United States/caradelevingne",
          "Netherlands/champagnepapi",
          "Other country/charlidamelio",
          "United States/chrisbrownofficial",
          "Australia/chrishemsworth",
          "United States/chrissyteigen",
          "Other country/colesprouse",
          "Spain/cristiano",
          "Other country/cznburak",
          "Puerto Rico/daddyyankee",
          "Canada/danbilzerian",
          "Mexico/dannapaola",
          "United States/davidbeckham",
          "United States/ddlovato",
          "India/deepikapadukone",
          "Other country/dior",
          "United States/dishapatani",
          "United States/disney",
          "United States/dovecameron",
          "United Kingdom/dualipa",
          "United States/eminem",
          "United States/emmawatson",
          "Other country/fcbarcelona",
          "United States/gal_gadot",
          "Other country/garethbale11",
          "Other country/georginagio",
          "United States/gigihadid",
          "Other country/gisel_la",
          "Italy/gucci",
          "Brazil/gusttavolima",
          "Other country/haileybieber",
          "United States/harrystyles",
          "Sweden/hm",
          "Cã´Te D'Ivoire/hrithikroshan",
          "United States/hudabeauty",
          "United States/iambeckyg",
          "United States/iamcardib",
          "Other country/iamzlatanibrahimovic",
          "Brazil/ivetesangalo",
          "Other country/j.m",
          "India/jacquelinef143",
          "Colombia/jamesrodriguez10",
          "Other country/jannatzubair29",
          "Other country/jbalvin",
          "Other country/jennierubyjane",
          "Other country/jenniferaniston",
          "United States/jlo",
          "Other country/jokowi",
          "Canada/justinbieber",
          "United States/justintimberlake",
          "Other country/juventus",
          "Other country/k.mbappe",
          "Other country/kapilsharma",
          "Spain/karimbenzema",
          "India/karolg",
          "India/katrinakaif",
          "Other country/katyperry",
          "United States/kendalljenner",
          "United States/kevinhart4real",
          "Russia/khabib_nurmagomedov",
          "United States/khloekardashian",
          "Mexico/kimberly.loaiza",
          "United States/kimkardashian",
          "Other country/kingjames",
          "United States/kourtneykardash",
          "United States/krisjenner",
          "India/kritisanon",
          "United States/kyliejenner",
          "United States/ladygaga",
          "Other country/lalalalisa_m",
          "Brazil/larissamanoela",
          "Indonesia/laudyacynthiabella",
          "United States/lelepons",
          "Other country/leomessi",
          "Other country/leonardodicaprio",
          "United Kingdom/liverpoolfc",
          "France/louisvuitton",
          "Brazil/luansantana",
          "Other country/luissuarez9",
          "Other country/lunamaya",
          "Other country/mahi7781",
          "Brazil/maisa",
          "Colombia/maluma",
          "United Kingdom/manchesterunited",
          "Brazil/marcelotwelve",
          "Brazil/mariliamendoncacantora",
          "Brazil/marinaruybarbosa",
          "Turkey/marvel",
          "Other country/marvelstudios",
          "British Virgin Islands/mercedesbenz",
          "Other country/michelleobama",
          "Other country/mileycyrus",
          "United States/milliebobbybrown",
          "Other country/mosalah",
          "France/nancyajram",
          "India/narendramodi",
          "United States/nasa",
          "Other country/natashawilona12",
          "United States/natgeo",
          "United States/natgeotravel",
          "Czech Republic/nattinatasha",
          "United States/nba",
          "India/nehakakkar",
          "Brazil/neymarjr",
          "United States/nickiminaj",
          "United States/nickjonas",
          "Colombia/nickyjampr",
          "United States/nike",
          "United States/nikefootball",
          "Anguilla/norafatehi",
          "United Arab Emirates/nusr_et",
          "Other country/paollaoliveirareal",
          "Other country/parineetichopra",
          "Other country/paulodybala",
          "France/paulpogba",
          "Other country/prattprattpratt",
          "Indonesia/prillylatuconsina96",
          "Indonesia/princessyahrini",
          "United States/priyankachopra",
          "France/psg",
          "Indonesia/raffinagita1717",
          "Indonesia/raisa6690",
          "Switzerland/ranveersingh",
          "Spain/realmadrid",
          "Other country/rkive",
          "United States/robertdowneyjr",
          "Brazil/ronaldinho",
          "Other country/roses_are_rosie",
          "Indonesia/ruben_onsu",
          "Other country/sachintendulkar",
          "United States/selenagomez",
          "Other country/sergioramos",
          "Other country/shahidkapoor",
          "Canada/shawnmendes",
          "United States/shaymitchell",
          "Other country/shraddhakapoor",
          "Brazil/simonemendes",
          "Other country/snoopdogg",
          "India/sonamkapoor",
          "Other country/sooyaaa__",
          "Other country/stephencurry30",
          "Other country/sunnyleone",
          "Brazil/tatawerneck",
          "United States/taylorswift",
          "United States/teddysphotos",
          "United States/theellenshow",
          "United States/thenotoriousmma",
          "United States/therock",
          "Other country/theweeknd",
          "Other country/thv",
          "India/tigerjackieshroff",
          "Other country/tomholland2013",
          "Other country/toni.kr8s",
          "United States/travisscott",
          "Other country/vancityreynolds",
          "United States/vanessahudgens",
          "India/varundvn",
          "United States/victoriassecret",
          "United States/vindiesel",
          "Other country/virat.kohli",
          "Other country/wesleysafadao",
          "Brazil/whinderssonnunes",
          "United States/willsmith",
          "United States/wizkhalifa",
          "United States/worldstar",
          "United States/zacefron",
          "United States/zayn",
          "United States/zendaya",
          "France/zidane",
          "Anguilla",
          "Australia",
          "Brazil",
          "British Virgin Islands",
          "Canada",
          "Colombia",
          "Czech Republic",
          "Cã´Te D'Ivoire",
          "France",
          "Germany",
          "India",
          "Indonesia",
          "Italy",
          "Mexico",
          "Netherlands",
          "Other country",
          "Puerto Rico",
          "Russia",
          "Spain",
          "Sweden",
          "Switzerland",
          "Turkey",
          "United Arab Emirates",
          "United Kingdom",
          "United States",
          "Uruguay"
         ],
         "labels": [
          "433",
          "5-Minute Crafts GIRLY",
          "9gag",
          "Shakira",
          "addisonraee",
          "adele",
          "adidasoriginals",
          "akshaykumar",
          "aliaabhatt",
          "andresiniesta8",
          "anitta",
          "antogriezmann",
          "anushkasen0408",
          "anushkasharma",
          "arianagrande",
          "ayutingting92",
          "badbunnypr",
          "badgalriri",
          "barackobama",
          "beingsalmankhan",
          "bellahadid",
          "beyonce",
          "billieeilish",
          "blackpinkofficial",
          "blakelively",
          "bmw",
          "britneyspears",
          "brunamarquezine",
          "bts.bighitofficial",
          "buzzfeedtasty",
          "camila_cabello",
          "caradelevingne",
          "champagnepapi",
          "charlidamelio",
          "chrisbrownofficial",
          "chrishemsworth",
          "chrissyteigen",
          "colesprouse",
          "cristiano",
          "cznburak",
          "daddyyankee",
          "danbilzerian",
          "dannapaola",
          "davidbeckham",
          "ddlovato",
          "deepikapadukone",
          "dior",
          "dishapatani",
          "disney",
          "dovecameron",
          "dualipa",
          "eminem",
          "emmawatson",
          "fcbarcelona",
          "gal_gadot",
          "garethbale11",
          "georginagio",
          "gigihadid",
          "gisel_la",
          "gucci",
          "gusttavolima",
          "haileybieber",
          "harrystyles",
          "hm",
          "hrithikroshan",
          "hudabeauty",
          "iambeckyg",
          "iamcardib",
          "iamzlatanibrahimovic",
          "ivetesangalo",
          "j.m",
          "jacquelinef143",
          "jamesrodriguez10",
          "jannatzubair29",
          "jbalvin",
          "jennierubyjane",
          "jenniferaniston",
          "jlo",
          "jokowi",
          "justinbieber",
          "justintimberlake",
          "juventus",
          "k.mbappe",
          "kapilsharma",
          "karimbenzema",
          "karolg",
          "katrinakaif",
          "katyperry",
          "kendalljenner",
          "kevinhart4real",
          "khabib_nurmagomedov",
          "khloekardashian",
          "kimberly.loaiza",
          "kimkardashian",
          "kingjames",
          "kourtneykardash",
          "krisjenner",
          "kritisanon",
          "kyliejenner",
          "ladygaga",
          "lalalalisa_m",
          "larissamanoela",
          "laudyacynthiabella",
          "lelepons",
          "leomessi",
          "leonardodicaprio",
          "liverpoolfc",
          "louisvuitton",
          "luansantana",
          "luissuarez9",
          "lunamaya",
          "mahi7781",
          "maisa",
          "maluma",
          "manchesterunited",
          "marcelotwelve",
          "mariliamendoncacantora",
          "marinaruybarbosa",
          "marvel",
          "marvelstudios",
          "mercedesbenz",
          "michelleobama",
          "mileycyrus",
          "milliebobbybrown",
          "mosalah",
          "nancyajram",
          "narendramodi",
          "nasa",
          "natashawilona12",
          "natgeo",
          "natgeotravel",
          "nattinatasha",
          "nba",
          "nehakakkar",
          "neymarjr",
          "nickiminaj",
          "nickjonas",
          "nickyjampr",
          "nike",
          "nikefootball",
          "norafatehi",
          "nusr_et",
          "paollaoliveirareal",
          "parineetichopra",
          "paulodybala",
          "paulpogba",
          "prattprattpratt",
          "prillylatuconsina96",
          "princessyahrini",
          "priyankachopra",
          "psg",
          "raffinagita1717",
          "raisa6690",
          "ranveersingh",
          "realmadrid",
          "rkive",
          "robertdowneyjr",
          "ronaldinho",
          "roses_are_rosie",
          "ruben_onsu",
          "sachintendulkar",
          "selenagomez",
          "sergioramos",
          "shahidkapoor",
          "shawnmendes",
          "shaymitchell",
          "shraddhakapoor",
          "simonemendes",
          "snoopdogg",
          "sonamkapoor",
          "sooyaaa__",
          "stephencurry30",
          "sunnyleone",
          "tatawerneck",
          "taylorswift",
          "teddysphotos",
          "theellenshow",
          "thenotoriousmma",
          "therock",
          "theweeknd",
          "thv",
          "tigerjackieshroff",
          "tomholland2013",
          "toni.kr8s",
          "travisscott",
          "vancityreynolds",
          "vanessahudgens",
          "varundvn",
          "victoriassecret",
          "vindiesel",
          "virat.kohli",
          "wesleysafadao",
          "whinderssonnunes",
          "willsmith",
          "wizkhalifa",
          "worldstar",
          "zacefron",
          "zayn",
          "zendaya",
          "zidane",
          "Anguilla",
          "Australia",
          "Brazil",
          "British Virgin Islands",
          "Canada",
          "Colombia",
          "Czech Republic",
          "Cã´Te D'Ivoire",
          "France",
          "Germany",
          "India",
          "Indonesia",
          "Italy",
          "Mexico",
          "Netherlands",
          "Other country",
          "Puerto Rico",
          "Russia",
          "Spain",
          "Sweden",
          "Switzerland",
          "Turkey",
          "United Arab Emirates",
          "United Kingdom",
          "United States",
          "Uruguay"
         ],
         "name": "",
         "parents": [
          "Netherlands",
          "United States",
          "United States",
          "Other country",
          "Other country",
          "United States",
          "Other country",
          "Other country",
          "India",
          "Spain",
          "United States",
          "France",
          "Other country",
          "Other country",
          "United States",
          "Indonesia",
          "Other country",
          "United States",
          "United States",
          "India",
          "United Kingdom",
          "United States",
          "Other country",
          "Other country",
          "United States",
          "Germany",
          "Turkey",
          "United States",
          "Uruguay",
          "Spain",
          "United States",
          "United States",
          "Netherlands",
          "Other country",
          "United States",
          "Australia",
          "United States",
          "Other country",
          "Spain",
          "Other country",
          "Puerto Rico",
          "Canada",
          "Mexico",
          "United States",
          "United States",
          "India",
          "Other country",
          "United States",
          "United States",
          "United States",
          "United Kingdom",
          "United States",
          "United States",
          "Other country",
          "United States",
          "Other country",
          "Other country",
          "United States",
          "Other country",
          "Italy",
          "Brazil",
          "Other country",
          "United States",
          "Sweden",
          "Cã´Te D'Ivoire",
          "United States",
          "United States",
          "United States",
          "Other country",
          "Brazil",
          "Other country",
          "India",
          "Colombia",
          "Other country",
          "Other country",
          "Other country",
          "Other country",
          "United States",
          "Other country",
          "Canada",
          "United States",
          "Other country",
          "Other country",
          "Other country",
          "Spain",
          "India",
          "India",
          "Other country",
          "United States",
          "United States",
          "Russia",
          "United States",
          "Mexico",
          "United States",
          "Other country",
          "United States",
          "United States",
          "India",
          "United States",
          "United States",
          "Other country",
          "Brazil",
          "Indonesia",
          "United States",
          "Other country",
          "Other country",
          "United Kingdom",
          "France",
          "Brazil",
          "Other country",
          "Other country",
          "Other country",
          "Brazil",
          "Colombia",
          "United Kingdom",
          "Brazil",
          "Brazil",
          "Brazil",
          "Turkey",
          "Other country",
          "British Virgin Islands",
          "Other country",
          "Other country",
          "United States",
          "Other country",
          "France",
          "India",
          "United States",
          "Other country",
          "United States",
          "United States",
          "Czech Republic",
          "United States",
          "India",
          "Brazil",
          "United States",
          "United States",
          "Colombia",
          "United States",
          "United States",
          "Anguilla",
          "United Arab Emirates",
          "Other country",
          "Other country",
          "Other country",
          "France",
          "Other country",
          "Indonesia",
          "Indonesia",
          "United States",
          "France",
          "Indonesia",
          "Indonesia",
          "Switzerland",
          "Spain",
          "Other country",
          "United States",
          "Brazil",
          "Other country",
          "Indonesia",
          "Other country",
          "United States",
          "Other country",
          "Other country",
          "Canada",
          "United States",
          "Other country",
          "Brazil",
          "Other country",
          "India",
          "Other country",
          "Other country",
          "Other country",
          "Brazil",
          "United States",
          "United States",
          "United States",
          "United States",
          "United States",
          "Other country",
          "Other country",
          "India",
          "Other country",
          "Other country",
          "United States",
          "Other country",
          "United States",
          "India",
          "United States",
          "United States",
          "Other country",
          "Other country",
          "Brazil",
          "United States",
          "United States",
          "United States",
          "United States",
          "United States",
          "United States",
          "France",
          "",
          "",
          "",
          "",
          "",
          "",
          "",
          "",
          "",
          "",
          "",
          "",
          "",
          "",
          "",
          "",
          "",
          "",
          "",
          "",
          "",
          "",
          "",
          "",
          "",
          ""
         ],
         "type": "sunburst",
         "values": [
          8900000000,
          1600000000,
          6700000000,
          1900000000,
          957900000,
          2000000000,
          21200000,
          2900000000,
          3300000000,
          500500000,
          4400000000,
          955400000,
          3700000000,
          2200000000,
          18400000000,
          1500000000,
          67500000,
          17900000000,
          739500000,
          1600000000,
          3600000000,
          7400000000,
          5900000000,
          3000000000,
          350900000,
          2200000000,
          1600000000,
          2900000000,
          4900000000,
          580700000,
          5400000000,
          3500000000,
          9000000000,
          654400000,
          3400000000,
          2500000000,
          3200000000,
          2600000000,
          29000000000,
          1400000000,
          18300000,
          2800000000,
          2800000000,
          1900000000,
          91300000,
          419000000,
          863000000,
          3400000000,
          1400000000,
          283000000,
          2600000000,
          730100000,
          639000000,
          11600000000,
          2300000000,
          753100000,
          1600000000,
          8199999999,
          1500000000,
          1000000000,
          2300000000,
          4200000000,
          2800000000,
          644100000,
          949900000,
          453600000,
          1400000000,
          5000000000,
          1300000000,
          1700000000,
          368100000,
          2800000000,
          1500000000,
          2200000000,
          8800000000,
          4400000000,
          452000000,
          5300000000,
          1600000000,
          13900000000,
          470700000,
          1900000000,
          2800000000,
          710700000,
          1800000000,
          10100000000,
          1700000000,
          1500000000,
          3700000000,
          4300000000,
          3100000000,
          9800000000,
          1600000000,
          19900000000,
          4900000000,
          7700000000,
          2300000000,
          2400000000,
          57400000000,
          5100000000,
          5100000000,
          3000000000,
          66700000,
          6100000000,
          6000000000,
          669300000,
          3500000000,
          824000000,
          149200000,
          782500000,
          589600000,
          439400000,
          820100000,
          9800000000,
          3800000000,
          1900000000,
          1500000000,
          1200000000,
          2300000000,
          1600000000,
          2000000000,
          421700000,
          1600000000,
          1100000000,
          1500000000,
          1500000000,
          1600000000,
          4200000000,
          563900000,
          3000000000,
          3200000000,
          18700000,
          4800000000,
          3500000000,
          14100000000,
          13500000000,
          1700000000,
          3800000000,
          313600000,
          784000000,
          2300000000,
          1700000000,
          1700000000,
          672100000,
          2300000000,
          1800000000,
          594700000,
          2400000000,
          529900000,
          5600000000,
          5000000000,
          6800000000,
          969100000,
          1800000000,
          6800000000,
          1200000000,
          1300000000,
          2600000000,
          3800000000,
          1900000000,
          810000000,
          11500000000,
          2500000000,
          1500000000,
          8800000000,
          4600000000,
          3000000000,
          1900000000,
          2000000000,
          1300000000,
          3800000000,
          1200000000,
          3500000000,
          5400000000,
          1300000000,
          1700000000,
          4200000000,
          3500000000,
          12500000000,
          767000000,
          987400000,
          2200000000,
          6600000000,
          561300000,
          9600000000,
          925700000,
          2700000000,
          2000000000,
          423500000,
          2500000000,
          4900000000,
          2300000000,
          4400000000,
          1900000000,
          199800000,
          1800000000,
          1500000000,
          773500000,
          20600000000,
          391900000,
          2300000000,
          2500000000,
          40969300000,
          2000000000,
          25500000000,
          15100000000,
          18700000,
          949900000,
          10471300000,
          2200000000,
          32919000000,
          14165700000,
          1000000000,
          4400000000,
          17900000000,
          141632500000,
          18300000,
          3100000000,
          38681200000,
          644100000,
          1800000000,
          3900000000,
          1700000000,
          13500000000,
          349352499999,
          4900000000
         ]
        }
       ],
       "layout": {
        "legend": {
         "tracegroupgap": 0
        },
        "template": {
         "data": {
          "bar": [
           {
            "error_x": {
             "color": "#2a3f5f"
            },
            "error_y": {
             "color": "#2a3f5f"
            },
            "marker": {
             "line": {
              "color": "#E5ECF6",
              "width": 0.5
             },
             "pattern": {
              "fillmode": "overlay",
              "size": 10,
              "solidity": 0.2
             }
            },
            "type": "bar"
           }
          ],
          "barpolar": [
           {
            "marker": {
             "line": {
              "color": "#E5ECF6",
              "width": 0.5
             },
             "pattern": {
              "fillmode": "overlay",
              "size": 10,
              "solidity": 0.2
             }
            },
            "type": "barpolar"
           }
          ],
          "carpet": [
           {
            "aaxis": {
             "endlinecolor": "#2a3f5f",
             "gridcolor": "white",
             "linecolor": "white",
             "minorgridcolor": "white",
             "startlinecolor": "#2a3f5f"
            },
            "baxis": {
             "endlinecolor": "#2a3f5f",
             "gridcolor": "white",
             "linecolor": "white",
             "minorgridcolor": "white",
             "startlinecolor": "#2a3f5f"
            },
            "type": "carpet"
           }
          ],
          "choropleth": [
           {
            "colorbar": {
             "outlinewidth": 0,
             "ticks": ""
            },
            "type": "choropleth"
           }
          ],
          "contour": [
           {
            "colorbar": {
             "outlinewidth": 0,
             "ticks": ""
            },
            "colorscale": [
             [
              0,
              "#0d0887"
             ],
             [
              0.1111111111111111,
              "#46039f"
             ],
             [
              0.2222222222222222,
              "#7201a8"
             ],
             [
              0.3333333333333333,
              "#9c179e"
             ],
             [
              0.4444444444444444,
              "#bd3786"
             ],
             [
              0.5555555555555556,
              "#d8576b"
             ],
             [
              0.6666666666666666,
              "#ed7953"
             ],
             [
              0.7777777777777778,
              "#fb9f3a"
             ],
             [
              0.8888888888888888,
              "#fdca26"
             ],
             [
              1,
              "#f0f921"
             ]
            ],
            "type": "contour"
           }
          ],
          "contourcarpet": [
           {
            "colorbar": {
             "outlinewidth": 0,
             "ticks": ""
            },
            "type": "contourcarpet"
           }
          ],
          "heatmap": [
           {
            "colorbar": {
             "outlinewidth": 0,
             "ticks": ""
            },
            "colorscale": [
             [
              0,
              "#0d0887"
             ],
             [
              0.1111111111111111,
              "#46039f"
             ],
             [
              0.2222222222222222,
              "#7201a8"
             ],
             [
              0.3333333333333333,
              "#9c179e"
             ],
             [
              0.4444444444444444,
              "#bd3786"
             ],
             [
              0.5555555555555556,
              "#d8576b"
             ],
             [
              0.6666666666666666,
              "#ed7953"
             ],
             [
              0.7777777777777778,
              "#fb9f3a"
             ],
             [
              0.8888888888888888,
              "#fdca26"
             ],
             [
              1,
              "#f0f921"
             ]
            ],
            "type": "heatmap"
           }
          ],
          "heatmapgl": [
           {
            "colorbar": {
             "outlinewidth": 0,
             "ticks": ""
            },
            "colorscale": [
             [
              0,
              "#0d0887"
             ],
             [
              0.1111111111111111,
              "#46039f"
             ],
             [
              0.2222222222222222,
              "#7201a8"
             ],
             [
              0.3333333333333333,
              "#9c179e"
             ],
             [
              0.4444444444444444,
              "#bd3786"
             ],
             [
              0.5555555555555556,
              "#d8576b"
             ],
             [
              0.6666666666666666,
              "#ed7953"
             ],
             [
              0.7777777777777778,
              "#fb9f3a"
             ],
             [
              0.8888888888888888,
              "#fdca26"
             ],
             [
              1,
              "#f0f921"
             ]
            ],
            "type": "heatmapgl"
           }
          ],
          "histogram": [
           {
            "marker": {
             "pattern": {
              "fillmode": "overlay",
              "size": 10,
              "solidity": 0.2
             }
            },
            "type": "histogram"
           }
          ],
          "histogram2d": [
           {
            "colorbar": {
             "outlinewidth": 0,
             "ticks": ""
            },
            "colorscale": [
             [
              0,
              "#0d0887"
             ],
             [
              0.1111111111111111,
              "#46039f"
             ],
             [
              0.2222222222222222,
              "#7201a8"
             ],
             [
              0.3333333333333333,
              "#9c179e"
             ],
             [
              0.4444444444444444,
              "#bd3786"
             ],
             [
              0.5555555555555556,
              "#d8576b"
             ],
             [
              0.6666666666666666,
              "#ed7953"
             ],
             [
              0.7777777777777778,
              "#fb9f3a"
             ],
             [
              0.8888888888888888,
              "#fdca26"
             ],
             [
              1,
              "#f0f921"
             ]
            ],
            "type": "histogram2d"
           }
          ],
          "histogram2dcontour": [
           {
            "colorbar": {
             "outlinewidth": 0,
             "ticks": ""
            },
            "colorscale": [
             [
              0,
              "#0d0887"
             ],
             [
              0.1111111111111111,
              "#46039f"
             ],
             [
              0.2222222222222222,
              "#7201a8"
             ],
             [
              0.3333333333333333,
              "#9c179e"
             ],
             [
              0.4444444444444444,
              "#bd3786"
             ],
             [
              0.5555555555555556,
              "#d8576b"
             ],
             [
              0.6666666666666666,
              "#ed7953"
             ],
             [
              0.7777777777777778,
              "#fb9f3a"
             ],
             [
              0.8888888888888888,
              "#fdca26"
             ],
             [
              1,
              "#f0f921"
             ]
            ],
            "type": "histogram2dcontour"
           }
          ],
          "mesh3d": [
           {
            "colorbar": {
             "outlinewidth": 0,
             "ticks": ""
            },
            "type": "mesh3d"
           }
          ],
          "parcoords": [
           {
            "line": {
             "colorbar": {
              "outlinewidth": 0,
              "ticks": ""
             }
            },
            "type": "parcoords"
           }
          ],
          "pie": [
           {
            "automargin": true,
            "type": "pie"
           }
          ],
          "scatter": [
           {
            "fillpattern": {
             "fillmode": "overlay",
             "size": 10,
             "solidity": 0.2
            },
            "type": "scatter"
           }
          ],
          "scatter3d": [
           {
            "line": {
             "colorbar": {
              "outlinewidth": 0,
              "ticks": ""
             }
            },
            "marker": {
             "colorbar": {
              "outlinewidth": 0,
              "ticks": ""
             }
            },
            "type": "scatter3d"
           }
          ],
          "scattercarpet": [
           {
            "marker": {
             "colorbar": {
              "outlinewidth": 0,
              "ticks": ""
             }
            },
            "type": "scattercarpet"
           }
          ],
          "scattergeo": [
           {
            "marker": {
             "colorbar": {
              "outlinewidth": 0,
              "ticks": ""
             }
            },
            "type": "scattergeo"
           }
          ],
          "scattergl": [
           {
            "marker": {
             "colorbar": {
              "outlinewidth": 0,
              "ticks": ""
             }
            },
            "type": "scattergl"
           }
          ],
          "scattermapbox": [
           {
            "marker": {
             "colorbar": {
              "outlinewidth": 0,
              "ticks": ""
             }
            },
            "type": "scattermapbox"
           }
          ],
          "scatterpolar": [
           {
            "marker": {
             "colorbar": {
              "outlinewidth": 0,
              "ticks": ""
             }
            },
            "type": "scatterpolar"
           }
          ],
          "scatterpolargl": [
           {
            "marker": {
             "colorbar": {
              "outlinewidth": 0,
              "ticks": ""
             }
            },
            "type": "scatterpolargl"
           }
          ],
          "scatterternary": [
           {
            "marker": {
             "colorbar": {
              "outlinewidth": 0,
              "ticks": ""
             }
            },
            "type": "scatterternary"
           }
          ],
          "surface": [
           {
            "colorbar": {
             "outlinewidth": 0,
             "ticks": ""
            },
            "colorscale": [
             [
              0,
              "#0d0887"
             ],
             [
              0.1111111111111111,
              "#46039f"
             ],
             [
              0.2222222222222222,
              "#7201a8"
             ],
             [
              0.3333333333333333,
              "#9c179e"
             ],
             [
              0.4444444444444444,
              "#bd3786"
             ],
             [
              0.5555555555555556,
              "#d8576b"
             ],
             [
              0.6666666666666666,
              "#ed7953"
             ],
             [
              0.7777777777777778,
              "#fb9f3a"
             ],
             [
              0.8888888888888888,
              "#fdca26"
             ],
             [
              1,
              "#f0f921"
             ]
            ],
            "type": "surface"
           }
          ],
          "table": [
           {
            "cells": {
             "fill": {
              "color": "#EBF0F8"
             },
             "line": {
              "color": "white"
             }
            },
            "header": {
             "fill": {
              "color": "#C8D4E3"
             },
             "line": {
              "color": "white"
             }
            },
            "type": "table"
           }
          ]
         },
         "layout": {
          "annotationdefaults": {
           "arrowcolor": "#2a3f5f",
           "arrowhead": 0,
           "arrowwidth": 1
          },
          "autotypenumbers": "strict",
          "coloraxis": {
           "colorbar": {
            "outlinewidth": 0,
            "ticks": ""
           }
          },
          "colorscale": {
           "diverging": [
            [
             0,
             "#8e0152"
            ],
            [
             0.1,
             "#c51b7d"
            ],
            [
             0.2,
             "#de77ae"
            ],
            [
             0.3,
             "#f1b6da"
            ],
            [
             0.4,
             "#fde0ef"
            ],
            [
             0.5,
             "#f7f7f7"
            ],
            [
             0.6,
             "#e6f5d0"
            ],
            [
             0.7,
             "#b8e186"
            ],
            [
             0.8,
             "#7fbc41"
            ],
            [
             0.9,
             "#4d9221"
            ],
            [
             1,
             "#276419"
            ]
           ],
           "sequential": [
            [
             0,
             "#0d0887"
            ],
            [
             0.1111111111111111,
             "#46039f"
            ],
            [
             0.2222222222222222,
             "#7201a8"
            ],
            [
             0.3333333333333333,
             "#9c179e"
            ],
            [
             0.4444444444444444,
             "#bd3786"
            ],
            [
             0.5555555555555556,
             "#d8576b"
            ],
            [
             0.6666666666666666,
             "#ed7953"
            ],
            [
             0.7777777777777778,
             "#fb9f3a"
            ],
            [
             0.8888888888888888,
             "#fdca26"
            ],
            [
             1,
             "#f0f921"
            ]
           ],
           "sequentialminus": [
            [
             0,
             "#0d0887"
            ],
            [
             0.1111111111111111,
             "#46039f"
            ],
            [
             0.2222222222222222,
             "#7201a8"
            ],
            [
             0.3333333333333333,
             "#9c179e"
            ],
            [
             0.4444444444444444,
             "#bd3786"
            ],
            [
             0.5555555555555556,
             "#d8576b"
            ],
            [
             0.6666666666666666,
             "#ed7953"
            ],
            [
             0.7777777777777778,
             "#fb9f3a"
            ],
            [
             0.8888888888888888,
             "#fdca26"
            ],
            [
             1,
             "#f0f921"
            ]
           ]
          },
          "colorway": [
           "#636efa",
           "#EF553B",
           "#00cc96",
           "#ab63fa",
           "#FFA15A",
           "#19d3f3",
           "#FF6692",
           "#B6E880",
           "#FF97FF",
           "#FECB52"
          ],
          "font": {
           "color": "#2a3f5f"
          },
          "geo": {
           "bgcolor": "white",
           "lakecolor": "white",
           "landcolor": "#E5ECF6",
           "showlakes": true,
           "showland": true,
           "subunitcolor": "white"
          },
          "hoverlabel": {
           "align": "left"
          },
          "hovermode": "closest",
          "mapbox": {
           "style": "light"
          },
          "paper_bgcolor": "white",
          "plot_bgcolor": "#E5ECF6",
          "polar": {
           "angularaxis": {
            "gridcolor": "white",
            "linecolor": "white",
            "ticks": ""
           },
           "bgcolor": "#E5ECF6",
           "radialaxis": {
            "gridcolor": "white",
            "linecolor": "white",
            "ticks": ""
           }
          },
          "scene": {
           "xaxis": {
            "backgroundcolor": "#E5ECF6",
            "gridcolor": "white",
            "gridwidth": 2,
            "linecolor": "white",
            "showbackground": true,
            "ticks": "",
            "zerolinecolor": "white"
           },
           "yaxis": {
            "backgroundcolor": "#E5ECF6",
            "gridcolor": "white",
            "gridwidth": 2,
            "linecolor": "white",
            "showbackground": true,
            "ticks": "",
            "zerolinecolor": "white"
           },
           "zaxis": {
            "backgroundcolor": "#E5ECF6",
            "gridcolor": "white",
            "gridwidth": 2,
            "linecolor": "white",
            "showbackground": true,
            "ticks": "",
            "zerolinecolor": "white"
           }
          },
          "shapedefaults": {
           "line": {
            "color": "#2a3f5f"
           }
          },
          "ternary": {
           "aaxis": {
            "gridcolor": "white",
            "linecolor": "white",
            "ticks": ""
           },
           "baxis": {
            "gridcolor": "white",
            "linecolor": "white",
            "ticks": ""
           },
           "bgcolor": "#E5ECF6",
           "caxis": {
            "gridcolor": "white",
            "linecolor": "white",
            "ticks": ""
           }
          },
          "title": {
           "x": 0.05
          },
          "xaxis": {
           "automargin": true,
           "gridcolor": "white",
           "linecolor": "white",
           "ticks": "",
           "title": {
            "standoff": 15
           },
           "zerolinecolor": "white",
           "zerolinewidth": 2
          },
          "yaxis": {
           "automargin": true,
           "gridcolor": "white",
           "linecolor": "white",
           "ticks": "",
           "title": {
            "standoff": 15
           },
           "zerolinecolor": "white",
           "zerolinewidth": 2
          }
         }
        },
        "title": {
         "text": "Top likes"
        }
       }
      }
     },
     "metadata": {},
     "output_type": "display_data"
    }
   ],
   "source": [
    "def total_likes(df):\n",
    "    fig = px.sunburst(df, path=[\"country\", \"channel_info\"], names='channel_info', values='total_likes', title='Top likes')\n",
    "    fig.show()\n",
    "total_likes(data_clean)"
   ]
  }
 ],
 "metadata": {
  "kernelspec": {
   "display_name": "Python 3",
   "language": "python",
   "name": "python3"
  },
  "language_info": {
   "codemirror_mode": {
    "name": "ipython",
    "version": 3
   },
   "file_extension": ".py",
   "mimetype": "text/x-python",
   "name": "python",
   "nbconvert_exporter": "python",
   "pygments_lexer": "ipython3",
   "version": "3.10.4"
  },
  "orig_nbformat": 4
 },
 "nbformat": 4,
 "nbformat_minor": 2
}
